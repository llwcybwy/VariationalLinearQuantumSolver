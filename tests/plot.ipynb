{
 "cells": [
  {
   "cell_type": "markdown",
   "id": "e45b337c",
   "metadata": {},
   "source": [
    "# __Plot values from data folder__"
   ]
  },
  {
   "cell_type": "code",
   "execution_count": 56,
   "id": "9c838ace",
   "metadata": {},
   "outputs": [],
   "source": [
    "import numpy as np\n",
    "import matplotlib.pyplot as plt"
   ]
  },
  {
   "cell_type": "markdown",
   "id": "0d473b46",
   "metadata": {},
   "source": [
    "## __Dense tests__"
   ]
  },
  {
   "cell_type": "code",
   "execution_count": 57,
   "id": "fb4a6ab4",
   "metadata": {},
   "outputs": [],
   "source": [
    "def getMeansAndVars(filenames):\n",
    "\n",
    "#filenames = [f\"data/result_dense_test_1.npz\", f\"data/result_dense_test_2.npz\"]\n",
    "\n",
    "    keys = []\n",
    "    for a in [\"local\", \"global\"]:\n",
    "        for b in [\"noise\", \"noiseless\"]:\n",
    "            for c in [\"dynamic\", \"static\"]:\n",
    "                for d in [\"trc\", \"error\"]:\n",
    "                    keys += [f\"{a}_{b}_{c}_{d}\"]\n",
    "\n",
    "    means = {}\n",
    "    vars = {}\n",
    "\n",
    "    for key in keys:\n",
    "        # # Init. dicts\n",
    "        # means[key] = np.zeros((len(cs),))\n",
    "        # vars[key] = np.zeros((len(cs),))\n",
    "        # Combine files\n",
    "        data_total = np.array([])\n",
    "        for filename in filenames:\n",
    "            data_total = np.load(filename)[key] if data_total.size == 0 else  np.vstack((data_total, np.load(filename)[key]))\n",
    "        # Add values to dicts\n",
    "        means[key] = np.mean(data_total, axis=0)\n",
    "        vars[key] = np.var(data_total, axis=0)\n",
    "    \n",
    "    return means, vars"
   ]
  },
  {
   "cell_type": "code",
   "execution_count": null,
   "id": "0e616671",
   "metadata": {},
   "outputs": [
    {
     "name": "stdout",
     "output_type": "stream",
     "text": [
      "{'local_noise_dynamic_trc': 2.0, 'local_noise_dynamic_error': 0.8161609200539062, 'local_noise_static_trc': 20.0, 'local_noise_static_error': 0.7682670274372916, 'local_noiseless_dynamic_trc': 2.0, 'local_noiseless_dynamic_error': 1.1289116664100964, 'local_noiseless_static_trc': 20.0, 'local_noiseless_static_error': 0.8837512238723382, 'global_noise_dynamic_trc': 2.0, 'global_noise_dynamic_error': 1.1366799905527776, 'global_noise_static_trc': 20.0, 'global_noise_static_error': 0.9829558887535366, 'global_noiseless_dynamic_trc': 2.0, 'global_noiseless_dynamic_error': 1.0562843053719004, 'global_noiseless_static_trc': 20.0, 'global_noiseless_static_error': 1.0571362183731274}\n"
     ]
    },
    {
     "data": {
      "image/png": "[encoded data removed]",
      "text/plain": [
       "<Figure size 640x480 with 1 Axes>"
      ]
     },
     "metadata": {},
     "output_type": "display_data"
    }
   ],
   "source": [
    "# Dense load\n",
    "dense_filenames = [f\"data/result_dense_test_1.npz\", f\"data/result_dense_test_2.npz\"]\n",
    "dense_means, dense_vars = getMeansAndVars(dense_filenames)\n",
    "\n",
    "# Poisson load\n",
    "poisson_filenames = [f\"data/result_poisson_test_1.npz\"]\n",
    "poisson_means, poisson_vars = getMeansAndVars(poisson_filenames)\n",
    "\n",
    "cs = [1, 2, 3]\n",
    "\n",
    "plt.plot(cs, dense_means[\"global_noise_dynamic_trc\"])\n",
    "plt.plot(1, poisson_means[\"global_noise_dynamic_trc\"], 'o')\n",
    "plt.show()"
   ]
  }
 ],
 "metadata": {
  "kernelspec": {
   "display_name": "venv",
   "language": "python",
   "name": "python3"
  },
  "language_info": {
   "codemirror_mode": {
    "name": "ipython",
    "version": 3
   },
   "file_extension": ".py",
   "mimetype": "text/x-python",
   "name": "python",
   "nbconvert_exporter": "python",
   "pygments_lexer": "ipython3",
   "version": "3.12.10"
  }
 },
 "nbformat": 4,
 "nbformat_minor": 5
}
