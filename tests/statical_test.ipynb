{
 "cells": [
  {
   "cell_type": "markdown",
   "id": "2b1baed7",
   "metadata": {},
   "source": [
    "# __Statical tests__\n",
    "\n",
    "## Outline\n",
    "- __Dependencies__\n",
    "- __Noiseless__\n",
    "    - With dense matrices\n",
    "    - With poisson matrix\n",
    "- __With noise using Qiskit AER__\n",
    "    - With dense matrices\n",
    "    - With poisson matrix"
   ]
  },
  {
   "cell_type": "code",
   "execution_count": null,
   "id": "5b51133d",
   "metadata": {},
   "outputs": [],
   "source": [
    "import numpy as np\n",
    "from device_var_lse_solver import DeviceVarLSESolver\n",
    "from device import DeviceType\n",
    "from conditioned_matrix import conditionedMatrix\n",
    "from conditioned_matrix import poissonMatrix\n",
    "from non_dynamical_ansatz import fixed_layered_ansatz\n",
    "from tqdm import tqdm\n",
    "\n",
    "qubits = 4\n",
    "b = np.ones(2**qubits)/np.sqrt(2**qubits)\n",
    "\n",
    "assert qubits % 2 == 0"
   ]
  },
  {
   "cell_type": "code",
   "execution_count": null,
   "id": "7be50dd3",
   "metadata": {},
   "outputs": [
    {
     "name": "stdout",
     "output_type": "stream",
     "text": [
      "3\n",
      "75\n"
     ]
    }
   ],
   "source": [
    "# As defined by [10]\n",
    "def TRC_ASA(iteration_count : dict):\n",
    "    trc = 0\n",
    "    max_size = max(iteration_count)\n",
    "    for d in iteration_count:\n",
    "        z = iteration_count.get(d)\n",
    "        trc += z*max_size\n",
    "    print(max_size)\n",
    "    return trc"
   ]
  },
  {
   "cell_type": "markdown",
   "id": "87eb2226",
   "metadata": {},
   "source": [
    "## __Noiseless tests__"
   ]
  },
  {
   "cell_type": "code",
   "execution_count": null,
   "id": "01e85ae6",
   "metadata": {},
   "outputs": [
    {
     "name": "stdout",
     "output_type": "stream",
     "text": [
      "Run nr. 1/10\n"
     ]
    },
    {
     "name": "stderr",
     "output_type": "stream",
     "text": [
      "100%|██████████| 10/10 [09:43<00:00, 58.38s/it]\n"
     ]
    }
   ],
   "source": [
    "# For poisson matrix\n",
    "N_runs = 10\n",
    "N_steps = 50\n",
    "max_c = 20\n",
    "redo_calc = 10\n",
    "\n",
    "local_results = np.zeros([N_runs, len(b)])\n",
    "global_results = np.zeros([N_runs, len(b)])\n",
    "\n",
    "cs = [2*i+1 for i in range(int(max_c/2))]\n",
    "\n",
    "local_dense_trc = np.zeros((redo_calc, len(cs)))\n",
    "global_dense_trc = np.zeros((redo_calc, len(cs)))\n",
    "local_poisson_trc = np.zeros((redo_calc,))\n",
    "global_poisson_trc = np.zeros((redo_calc,))\n",
    "\n",
    "for i in range(redo_calc):\n",
    "        print(f\"Run nr. {i+1}/{redo_calc}\")\n",
    "        # Dense matrix\n",
    "        for j, c in enumerate(tqdm(cs)):\n",
    "                a = conditionedMatrix(2**qubits, c)\n",
    "                lse_local = DeviceVarLSESolver(a,\n",
    "                        b, \n",
    "                        method='direct',\n",
    "                        ansatz=fixed_layered_ansatz,\n",
    "                        local=True, \n",
    "                        lr=0.1, \n",
    "                        steps=N_steps,\n",
    "                        threshold=0.001, \n",
    "                        epochs=N_runs,\n",
    "                        silent=True)\n",
    "                \n",
    "                lse_global = DeviceVarLSESolver(a,\n",
    "                        b, \n",
    "                        method='direct',\n",
    "                        ansatz=fixed_layered_ansatz,\n",
    "                        local=False, \n",
    "                        lr=0.1, \n",
    "                        steps=N_steps,\n",
    "                        threshold=0.001, \n",
    "                        epochs=N_runs,\n",
    "                        silent=True)\n",
    "        \n",
    "                solution_local, param_local, it_count_local = lse_local.solve()\n",
    "                solution_global, param_global, it_count_global = lse_global.solve()\n",
    "\n",
    "                local_dense_trc[i, j] = TRC_ASA(it_count_local)\n",
    "                global_dense_trc[i, j] = TRC_ASA(it_count_global)\n",
    "        \n",
    "        # Poisson matrix\n",
    "        a = poissonMatrix(int(np.sqrt(2**qubits)))\n",
    "        lse_local = DeviceVarLSESolver(a.todense(),\n",
    "                b, \n",
    "                method='direct',\n",
    "                ansatz=fixed_layered_ansatz,\n",
    "                local=True, \n",
    "                lr=0.1, \n",
    "                steps=N_steps,\n",
    "                threshold=0.001, \n",
    "                epochs=N_runs,\n",
    "                silent=True)\n",
    "        \n",
    "        lse_global = DeviceVarLSESolver(a.todense(),\n",
    "                b, \n",
    "                method='direct',\n",
    "                ansatz=fixed_layered_ansatz,\n",
    "                local=False, \n",
    "                lr=0.1, \n",
    "                steps=N_steps,\n",
    "                threshold=0.001, \n",
    "                epochs=N_runs,\n",
    "                silent=True)\n",
    "        \n",
    "        solution_local, param_local, it_count_local = lse_local.solve()\n",
    "        solution_global, param_global, it_count_global = lse_global.solve()\n",
    "\n",
    "        local_poisson_trc[i] = TRC_ASA(it_count_local)\n",
    "        global_poisson_trc[i] = TRC_ASA(it_count_global)"
   ]
  },
  {
   "cell_type": "code",
   "execution_count": null,
   "id": "3f99567c",
   "metadata": {},
   "outputs": [],
   "source": [
    "import matplotlib.pyplot as plt\n",
    "\n",
    "local_dense_mean = np.mean(local_dense_trc, axis=0)\n",
    "local_dense_variance = np.var(local_dense_trc, axis=0)\n",
    "\n",
    "global_dense_mean = np.mean(global_dense_trc, axis=0)\n",
    "global_dense_variance = np.var(global_dense_trc, axis=0)\n",
    "\n",
    "local_poisson_mean = local_poisson_trc.mean()\n",
    "local_poisson_variance = local_poisson_trc.var()\n",
    "\n",
    "global_poisson_mean = global_poisson_trc.mean()\n",
    "global_poisson_variance = global_poisson_trc.var()"
   ]
  },
  {
   "cell_type": "markdown",
   "id": "423eec32",
   "metadata": {},
   "source": [
    "### __Poisson plots__"
   ]
  },
  {
   "cell_type": "code",
   "execution_count": null,
   "id": "6330079f",
   "metadata": {},
   "outputs": [
    {
     "data": {
      "image/png": "[encoded data removed]",
      "text/plain": [
       "<Figure size 640x480 with 1 Axes>"
      ]
     },
     "metadata": {},
     "output_type": "display_data"
    }
   ],
   "source": [
    "width = 0.25 \n",
    "plt.bar(0, local_poisson_mean, yerr=local_poisson_variance, width=width, capsize=3, label='Local Poisson trc')\n",
    "plt.bar(2*width, global_poisson_mean, yerr=global_poisson_variance, width=width, capsize=3, label='Global Poisson trc')\n",
    "\n",
    "plt.legend()\n",
    "plt.show()"
   ]
  },
  {
   "cell_type": "markdown",
   "id": "4468ef54",
   "metadata": {},
   "source": [
    "### __Dense matrix plots__"
   ]
  },
  {
   "cell_type": "code",
   "execution_count": null,
   "id": "171774db",
   "metadata": {},
   "outputs": [
    {
     "data": {
      "image/png": "[encoded data removed]",
      "text/plain": [
       "<Figure size 640x480 with 1 Axes>"
      ]
     },
     "metadata": {},
     "output_type": "display_data"
    }
   ],
   "source": [
    "amp = 0.05\n",
    "\n",
    "local_color = \"tab:blue\"\n",
    "plt.plot(cs, local_dense_mean, color=local_color, label=f'Local TRC expectation with {amp}*variance')\n",
    "plt.fill_between(cs, local_dense_mean-amp*local_dense_variance, local_dense_mean+amp*local_dense_variance, color=local_color, alpha=0.4)\n",
    "\n",
    "global_color = \"tab:orange\"\n",
    "plt.plot(cs, global_dense_mean, color=global_color, label=f'Global TRC expectation with {amp}*variance')\n",
    "plt.fill_between(cs, global_dense_mean-amp*global_dense_variance, global_dense_mean+amp*global_dense_variance, color=global_color, alpha=0.4)\n",
    "\n",
    "plt.xlabel(\"Conditional number\")\n",
    "plt.ylabel(\"TRC score\")\n",
    "\n",
    "plt.legend()\n",
    "plt.show()"
   ]
  },
  {
   "cell_type": "markdown",
   "id": "aaa92e74",
   "metadata": {},
   "source": [
    "## __Noisy tests__"
   ]
  },
  {
   "cell_type": "code",
   "execution_count": null,
   "id": "24f80799",
   "metadata": {},
   "outputs": [],
   "source": [
    "# For poisson matrix\n",
    "N_runs = 10\n",
    "N_steps = 50\n",
    "max_c = 20\n",
    "redo_calc = 10\n",
    "\n",
    "local_results = np.zeros([N_runs, len(b)])\n",
    "global_results = np.zeros([N_runs, len(b)])\n",
    "\n",
    "cs = [2*i+1 for i in range(int(max_c/2))]\n",
    "\n",
    "local_dense_trc = np.zeros((redo_calc, len(cs)))\n",
    "global_dense_trc = np.zeros((redo_calc, len(cs)))\n",
    "local_poisson_trc = np.zeros((redo_calc,))\n",
    "global_poisson_trc = np.zeros((redo_calc,))\n",
    "\n",
    "for i in range(redo_calc):\n",
    "        print(f\"Run nr. {i+1}/{redo_calc}\")\n",
    "        # Dense matrix\n",
    "        for j, c in enumerate(tqdm(cs)):\n",
    "                a = conditionedMatrix(2**qubits, c)\n",
    "                lse_local = DeviceVarLSESolver(a,\n",
    "                        b, \n",
    "                        method='direct',\n",
    "                        ansatz=fixed_layered_ansatz,\n",
    "                        local=True, \n",
    "                        lr=0.1, \n",
    "                        steps=N_steps,\n",
    "                        threshold=0.001, \n",
    "                        epochs=N_runs,\n",
    "                        device=DeviceType.QISKIT_AER,\n",
    "                        silent=True)\n",
    "                \n",
    "                lse_global = DeviceVarLSESolver(a,\n",
    "                        b, \n",
    "                        method='direct',\n",
    "                        ansatz=fixed_layered_ansatz,\n",
    "                        local=False, \n",
    "                        lr=0.1, \n",
    "                        steps=N_steps,\n",
    "                        threshold=0.001, \n",
    "                        epochs=N_runs,\n",
    "                        device=DeviceType.QISKIT_AER,\n",
    "                        silent=True)\n",
    "        \n",
    "                solution_local, param_local, it_count_local = lse_local.solve()\n",
    "                solution_global, param_global, it_count_global = lse_global.solve()\n",
    "\n",
    "                local_dense_trc[i, j] = TRC_ASA(it_count_local)\n",
    "                global_dense_trc[i, j] = TRC_ASA(it_count_global)\n",
    "        \n",
    "        # Poisson matrix\n",
    "        a = poissonMatrix(int(np.sqrt(2**qubits)))\n",
    "        lse_local = DeviceVarLSESolver(a.todense(),\n",
    "                b, \n",
    "                method='direct',\n",
    "                ansatz=fixed_layered_ansatz,\n",
    "                local=True, \n",
    "                lr=0.1, \n",
    "                steps=N_steps,\n",
    "                threshold=0.001, \n",
    "                epochs=N_runs,\n",
    "                silent=True)\n",
    "        \n",
    "        lse_global = DeviceVarLSESolver(a.todense(),\n",
    "                b, \n",
    "                method='direct',\n",
    "                ansatz=fixed_layered_ansatz,\n",
    "                local=False, \n",
    "                lr=0.1, \n",
    "                steps=N_steps,\n",
    "                threshold=0.001, \n",
    "                epochs=N_runs,\n",
    "                silent=True)\n",
    "        \n",
    "        solution_local, param_local, it_count_local = lse_local.solve()\n",
    "        solution_global, param_global, it_count_global = lse_global.solve()\n",
    "\n",
    "        local_poisson_trc[i] = TRC_ASA(it_count_local)\n",
    "        global_poisson_trc[i] = TRC_ASA(it_count_global)"
   ]
  },
  {
   "cell_type": "code",
   "execution_count": null,
   "id": "af968e93",
   "metadata": {},
   "outputs": [],
   "source": [
    "import matplotlib.pyplot as plt\n",
    "\n",
    "local_dense_mean = np.mean(local_dense_trc, axis=0)\n",
    "local_dense_variance = np.var(local_dense_trc, axis=0)\n",
    "\n",
    "global_dense_mean = np.mean(global_dense_trc, axis=0)\n",
    "global_dense_variance = np.var(global_dense_trc, axis=0)\n",
    "\n",
    "local_poisson_mean = local_poisson_trc.mean()\n",
    "local_poisson_variance = local_poisson_trc.var()\n",
    "\n",
    "global_poisson_mean = global_poisson_trc.mean()\n",
    "global_poisson_variance = global_poisson_trc.var()"
   ]
  },
  {
   "cell_type": "markdown",
   "id": "bf290147",
   "metadata": {},
   "source": [
    "### __Poisson plot__"
   ]
  },
  {
   "cell_type": "code",
   "execution_count": null,
   "id": "d4a737f9",
   "metadata": {},
   "outputs": [],
   "source": [
    "width = 0.25 \n",
    "\n",
    "plt.bar(0, local_poisson_mean, yerr=local_poisson_variance, width=width, capsize=3, label='Local Poisson trc')\n",
    "plt.bar(2*width, global_poisson_mean, yerr=global_poisson_variance, width=width, capsize=3, label='Global Poisson trc')\n",
    "\n",
    "plt.legend()\n",
    "plt.show()"
   ]
  },
  {
   "cell_type": "markdown",
   "id": "23591ad9",
   "metadata": {},
   "source": [
    "### __Dense matrix plot__"
   ]
  },
  {
   "cell_type": "code",
   "execution_count": null,
   "id": "1c5a2037",
   "metadata": {},
   "outputs": [],
   "source": [
    "amp = 0.05\n",
    "\n",
    "local_color = \"tab:blue\"\n",
    "plt.plot(cs, local_dense_mean, color=local_color, label=f'Local TRC expectation with {amp}*variance')\n",
    "plt.fill_between(cs, local_dense_mean-amp*local_dense_variance, local_dense_mean+amp*local_dense_variance, color=local_color, alpha=0.4)\n",
    "\n",
    "global_color = \"tab:orange\"\n",
    "plt.plot(cs, global_dense_mean, color=global_color, label=f'Global TRC expectation with {amp}*variance')\n",
    "plt.fill_between(cs, global_dense_mean-amp*global_dense_variance, global_dense_mean+amp*global_dense_variance, color=global_color, alpha=0.4)\n",
    "\n",
    "plt.xlabel(\"Conditional number\")\n",
    "plt.ylabel(\"TRC score\")\n",
    "\n",
    "plt.legend()\n",
    "plt.show()"
   ]
  }
 ],
 "metadata": {
  "kernelspec": {
   "display_name": "venv",
   "language": "python",
   "name": "python3"
  },
  "language_info": {
   "codemirror_mode": {
    "name": "ipython",
    "version": 3
   },
   "file_extension": ".py",
   "mimetype": "text/x-python",
   "name": "python",
   "nbconvert_exporter": "python",
   "pygments_lexer": "ipython3",
   "version": "3.12.10"
  }
 },
 "nbformat": 4,
 "nbformat_minor": 5
}
