{
 "cells": [
  {
   "cell_type": "code",
   "execution_count": 15,
   "metadata": {},
   "outputs": [],
   "source": [
    "import numpy as np\n",
    "\n",
    "from DORR_matrix import build_pauli_sum_A_strings, pauli_string_to_matrix, build_matrix_from_paulis\n",
    "\n",
    "import matplotlib.pyplot as plt\n",
    "import pennylane as qml\n",
    "\n",
    "qml.QubitStateVector = qml.StatePrep\n",
    "\n",
    "from device_var_lse_solver import DeviceVarLSESolver\n",
    "from device import Device\n",
    "from device import DeviceType\n",
    "from qiskit_aer import AerSimulator\n",
    "\n",
    "import numpy as np\n",
    "\n",
    "from non_dynamical_ansatz import fixed_layered_ansatz\n",
    "from tqdm import tqdm\n",
    "\n",
    "\n",
    "\"\"\"\n",
    "To run this script you need the following packages:\n",
    "- PennyLane (but the latest version does not have the QubitStateVector class (which is needed), so we redefine it above)\n",
    "- Numpy < 2: need to install something like numpy 1.26.4\n",
    "- Python 3.12\n",
    "- torch 2.2.2\n",
    "\"\"\"\n",
    "\n",
    "depth = 10\n",
    "\n",
    "# As defined by [10]\n",
    "def TRC_ADA(iteration_count : dict):\n",
    "    trc = 0\n",
    "    for d in iteration_count:\n",
    "        z = iteration_count.get(d)\n",
    "        trc += d*z\n",
    "    return trc\n",
    "\n",
    "def TRC_ASA(iteration_count : dict):\n",
    "    trc = 0\n",
    "    for d in iteration_count:\n",
    "        z = iteration_count.get(d)\n",
    "        trc += z*depth\n",
    "    return trc"
   ]
  },
  {
   "cell_type": "code",
   "execution_count": 16,
   "metadata": {},
   "outputs": [
    {
     "name": "stdout",
     "output_type": "stream",
     "text": [
      "alpha = 1.0100e+00 -> condition number = 1.0100e+00\n",
      "alpha = 1.0000e+01 -> condition number = 1.0000e+01\n",
      "alpha = 4.0000e+02 -> condition number = 4.0000e+02\n"
     ]
    }
   ],
   "source": [
    "for KAPPA in [1.01,10,400]:\n",
    "    pauli_strings, coeffs, b_state = build_pauli_sum_A_strings(qubits=3, J = 0.1, kappa=KAPPA)\n",
    "    A_mat = build_matrix_from_paulis(pauli_strings, coeffs)\n",
    "\n",
    "    cond = np.linalg.cond(A_mat)\n",
    "    print(f\"alpha = {KAPPA:.4e} -> condition number = {cond:.4e}\")\n",
    "\n",
    "b = np.ones(2**3)\n",
    "b = b / np.linalg.norm(b)"
   ]
  },
  {
   "cell_type": "code",
   "execution_count": 32,
   "metadata": {},
   "outputs": [
    {
     "name": "stdout",
     "output_type": "stream",
     "text": [
      "Run nr. 1/10\n"
     ]
    },
    {
     "name": "stdout",
     "output_type": "stream",
     "text": [
      "Epoch 1/10:   7%|▋         | 359/5000 [00:53<11:28,  6.74it/s, best loss=0.000299, last improvement in step=159, loss=0.000299]\n",
      "Loss has not improved in last 200 steps.\n",
      "Increasing circuit depth.\n",
      "Epoch 2/10:   6%|▌         | 301/5000 [00:45<11:47,  6.65it/s, best loss=0.0105, last improvement in step=101, loss=0.0105]\n",
      "Loss has not improved in last 200 steps.\n",
      "Increasing circuit depth.\n",
      "Epoch 3/10:   2%|▏         | 79/5000 [00:12<12:36,  6.50it/s, best loss=0.000111, last improvement in step=77, loss=0.000104]\n",
      "Loss of 0.0000969077 below stopping threshold.\n",
      "Returning solution.\n"
     ]
    },
    {
     "name": "stderr",
     "output_type": "stream",
     "text": [
      "/Users/anna/anaconda3/envs/VQLenv/lib/python3.12/site-packages/variational_lse_solver/var_lse_solver.py:216: UserWarning: Explicit `ansatz` was provided, `epochs` argument will be ignored.\n",
      "  warnings.warn('Explicit `ansatz` was provided, `epochs` argument will be ignored.')\n"
     ]
    },
    {
     "name": "stdout",
     "output_type": "stream",
     "text": [
      "Epoch 1/1:   6%|▌         | 277/5000 [00:47<13:28,  5.84it/s, best loss=0.000159, last improvement in step=77, loss=0.00015] \n",
      "Loss has not improved in last 200 steps.\n",
      "Returning best solution.\n",
      "Epoch 1/10:   6%|▌         | 279/5000 [00:41<11:42,  6.72it/s, best loss=0.000309, last improvement in step=79, loss=0.000299]\n",
      "Loss has not improved in last 200 steps.\n",
      "Increasing circuit depth.\n",
      "Epoch 2/10:   6%|▌         | 303/5000 [00:44<11:27,  6.83it/s, best loss=0.0105, last improvement in step=103, loss=0.0105]\n",
      "Loss has not improved in last 200 steps.\n",
      "Increasing circuit depth.\n",
      "Epoch 3/10:   3%|▎         | 174/5000 [00:27<12:31,  6.42it/s, best loss=0.000102, last improvement in step=172, loss=0.000101]\n",
      "Loss of 0.0000996338 below stopping threshold.\n",
      "Returning solution.\n"
     ]
    },
    {
     "name": "stderr",
     "output_type": "stream",
     "text": [
      "/Users/anna/anaconda3/envs/VQLenv/lib/python3.12/site-packages/variational_lse_solver/var_lse_solver.py:216: UserWarning: Explicit `ansatz` was provided, `epochs` argument will be ignored.\n",
      "  warnings.warn('Explicit `ansatz` was provided, `epochs` argument will be ignored.')\n"
     ]
    },
    {
     "name": "stdout",
     "output_type": "stream",
     "text": [
      "Epoch 1/1:   7%|▋         | 335/5000 [00:56<13:01,  5.97it/s, best loss=0.00015, last improvement in step=135, loss=0.00015]\n",
      "Loss has not improved in last 200 steps.\n",
      "Returning best solution.\n",
      "Run nr. 2/10\n",
      "Epoch 1/10:   6%|▌         | 289/5000 [00:42<11:25,  6.88it/s, best loss=0.000304, last improvement in step=89, loss=0.000299]\n",
      "Loss has not improved in last 200 steps.\n",
      "Increasing circuit depth.\n",
      "Epoch 2/10:   7%|▋         | 346/5000 [00:51<11:28,  6.76it/s, best loss=0.00993, last improvement in step=146, loss=0.00992]\n",
      "Loss has not improved in last 200 steps.\n",
      "Increasing circuit depth.\n",
      "Epoch 3/10:   1%|▏         | 68/5000 [00:10<12:40,  6.49it/s, best loss=0.00011, last improvement in step=67, loss=0.00011]  \n",
      "Loss of 0.0000979026 below stopping threshold.\n",
      "Returning solution.\n"
     ]
    },
    {
     "name": "stderr",
     "output_type": "stream",
     "text": [
      "/Users/anna/anaconda3/envs/VQLenv/lib/python3.12/site-packages/variational_lse_solver/var_lse_solver.py:216: UserWarning: Explicit `ansatz` was provided, `epochs` argument will be ignored.\n",
      "  warnings.warn('Explicit `ansatz` was provided, `epochs` argument will be ignored.')\n"
     ]
    },
    {
     "name": "stdout",
     "output_type": "stream",
     "text": [
      "Epoch 1/1:   5%|▌         | 261/5000 [00:42<12:47,  6.17it/s, best loss=0.000154, last improvement in step=61, loss=0.00015] \n",
      "Loss has not improved in last 200 steps.\n",
      "Returning best solution.\n",
      "Epoch 1/10:   6%|▌         | 307/5000 [00:44<11:26,  6.83it/s, best loss=0.000309, last improvement in step=107, loss=0.000299]\n",
      "Loss has not improved in last 200 steps.\n",
      "Increasing circuit depth.\n",
      "Epoch 2/10:   8%|▊         | 397/5000 [00:59<11:24,  6.73it/s, best loss=0.0102, last improvement in step=197, loss=0.0102]\n",
      "Loss has not improved in last 200 steps.\n",
      "Increasing circuit depth.\n",
      "Epoch 3/10:   2%|▏         | 84/5000 [00:12<12:23,  6.61it/s, best loss=0.000106, last improvement in step=83, loss=0.000106]\n",
      "Loss of 0.0000996655 below stopping threshold.\n",
      "Returning solution.\n"
     ]
    },
    {
     "name": "stderr",
     "output_type": "stream",
     "text": [
      "/Users/anna/anaconda3/envs/VQLenv/lib/python3.12/site-packages/variational_lse_solver/var_lse_solver.py:216: UserWarning: Explicit `ansatz` was provided, `epochs` argument will be ignored.\n",
      "  warnings.warn('Explicit `ansatz` was provided, `epochs` argument will be ignored.')\n"
     ]
    },
    {
     "name": "stdout",
     "output_type": "stream",
     "text": [
      "Epoch 1/1:   7%|▋         | 347/5000 [00:56<12:39,  6.12it/s, best loss=0.00015, last improvement in step=147, loss=0.00015]\n",
      "Loss has not improved in last 200 steps.\n",
      "Returning best solution.\n",
      "Run nr. 3/10\n",
      "Epoch 1/10:   6%|▋         | 321/5000 [00:46<11:22,  6.85it/s, best loss=0.000308, last improvement in step=121, loss=0.000299]\n",
      "Loss has not improved in last 200 steps.\n",
      "Increasing circuit depth.\n",
      "Epoch 2/10:  15%|█▌        | 760/5000 [01:56<10:51,  6.51it/s, best loss=0.0102, last improvement in step=560, loss=0.0102]\n",
      "Loss has not improved in last 200 steps.\n",
      "Increasing circuit depth.\n",
      "Epoch 3/10:   1%|▏         | 67/5000 [00:14<17:15,  4.76it/s, best loss=0.000101, last improvement in step=66, loss=0.000101]\n",
      "Loss of 0.0000824629 below stopping threshold.\n",
      "Returning solution.\n"
     ]
    },
    {
     "name": "stderr",
     "output_type": "stream",
     "text": [
      "/Users/anna/anaconda3/envs/VQLenv/lib/python3.12/site-packages/variational_lse_solver/var_lse_solver.py:216: UserWarning: Explicit `ansatz` was provided, `epochs` argument will be ignored.\n",
      "  warnings.warn('Explicit `ansatz` was provided, `epochs` argument will be ignored.')\n"
     ]
    },
    {
     "name": "stdout",
     "output_type": "stream",
     "text": [
      "Epoch 1/1:   6%|▌         | 300/5000 [00:52<13:43,  5.71it/s, best loss=0.000152, last improvement in step=100, loss=0.00015] \n",
      "Loss has not improved in last 200 steps.\n",
      "Returning best solution.\n",
      "Epoch 1/10:   6%|▌         | 303/5000 [00:46<12:04,  6.48it/s, best loss=0.000305, last improvement in step=103, loss=0.000299]\n",
      "Loss has not improved in last 200 steps.\n",
      "Increasing circuit depth.\n",
      "Epoch 2/10:   6%|▌         | 297/5000 [00:45<12:04,  6.49it/s, best loss=0.0105, last improvement in step=97, loss=0.0105]\n",
      "Loss has not improved in last 200 steps.\n",
      "Increasing circuit depth.\n",
      "Epoch 3/10:   9%|▉         | 454/5000 [01:14<12:24,  6.10it/s, best loss=0.000102, last improvement in step=444, loss=0.0001]  \n",
      "Loss of 0.0000997712 below stopping threshold.\n",
      "Returning solution.\n"
     ]
    },
    {
     "name": "stderr",
     "output_type": "stream",
     "text": [
      "/Users/anna/anaconda3/envs/VQLenv/lib/python3.12/site-packages/variational_lse_solver/var_lse_solver.py:216: UserWarning: Explicit `ansatz` was provided, `epochs` argument will be ignored.\n",
      "  warnings.warn('Explicit `ansatz` was provided, `epochs` argument will be ignored.')\n"
     ]
    },
    {
     "name": "stdout",
     "output_type": "stream",
     "text": [
      "Epoch 1/1:   6%|▌         | 292/5000 [00:51<13:45,  5.70it/s, best loss=0.000158, last improvement in step=92, loss=0.00015] \n",
      "Loss has not improved in last 200 steps.\n",
      "Returning best solution.\n",
      "Run nr. 4/10\n",
      "Epoch 1/10:   6%|▋         | 325/5000 [00:50<12:11,  6.39it/s, best loss=0.000301, last improvement in step=125, loss=0.000299]\n",
      "Loss has not improved in last 200 steps.\n",
      "Increasing circuit depth.\n",
      "Epoch 2/10:  11%|█         | 545/5000 [01:26<11:45,  6.32it/s, best loss=0.0102, last improvement in step=345, loss=0.0102]\n",
      "Loss has not improved in last 200 steps.\n",
      "Increasing circuit depth.\n",
      "Epoch 3/10:   2%|▏         | 90/5000 [00:13<12:31,  6.54it/s, best loss=0.000105, last improvement in step=89, loss=0.000105]\n",
      "Loss of 0.0000997245 below stopping threshold.\n",
      "Returning solution.\n"
     ]
    },
    {
     "name": "stderr",
     "output_type": "stream",
     "text": [
      "/Users/anna/anaconda3/envs/VQLenv/lib/python3.12/site-packages/variational_lse_solver/var_lse_solver.py:216: UserWarning: Explicit `ansatz` was provided, `epochs` argument will be ignored.\n",
      "  warnings.warn('Explicit `ansatz` was provided, `epochs` argument will be ignored.')\n"
     ]
    },
    {
     "name": "stdout",
     "output_type": "stream",
     "text": [
      "Epoch 1/1:   6%|▌         | 308/5000 [00:54<13:48,  5.66it/s, best loss=0.000151, last improvement in step=108, loss=0.00015] \n",
      "Loss has not improved in last 200 steps.\n",
      "Returning best solution.\n",
      "Epoch 1/10:   6%|▋         | 316/5000 [00:48<11:59,  6.51it/s, best loss=0.000301, last improvement in step=116, loss=0.000299]\n",
      "Loss has not improved in last 200 steps.\n",
      "Increasing circuit depth.\n",
      "Epoch 2/10:   6%|▌         | 300/5000 [00:47<12:18,  6.36it/s, best loss=0.0105, last improvement in step=100, loss=0.0105]\n",
      "Loss has not improved in last 200 steps.\n",
      "Increasing circuit depth.\n",
      "Epoch 3/10:  10%|█         | 509/5000 [01:17<11:25,  6.55it/s, best loss=0.000106, last improvement in step=501, loss=0.000101]\n",
      "Loss of 0.0000998970 below stopping threshold.\n",
      "Returning solution.\n"
     ]
    },
    {
     "name": "stderr",
     "output_type": "stream",
     "text": [
      "/Users/anna/anaconda3/envs/VQLenv/lib/python3.12/site-packages/variational_lse_solver/var_lse_solver.py:216: UserWarning: Explicit `ansatz` was provided, `epochs` argument will be ignored.\n",
      "  warnings.warn('Explicit `ansatz` was provided, `epochs` argument will be ignored.')\n"
     ]
    },
    {
     "name": "stdout",
     "output_type": "stream",
     "text": [
      "Epoch 1/1:   5%|▌         | 269/5000 [00:46<13:30,  5.84it/s, best loss=0.000154, last improvement in step=69, loss=0.00015] \n",
      "Loss has not improved in last 200 steps.\n",
      "Returning best solution.\n",
      "Run nr. 5/10\n",
      "Epoch 1/10:   6%|▌         | 299/5000 [00:46<12:15,  6.39it/s, best loss=0.000302, last improvement in step=99, loss=0.000299]\n",
      "Loss has not improved in last 200 steps.\n",
      "Increasing circuit depth.\n",
      "Epoch 2/10:  16%|█▌        | 781/5000 [02:03<11:05,  6.34it/s, best loss=0.00993, last improvement in step=581, loss=0.00992]\n",
      "Loss has not improved in last 200 steps.\n",
      "Increasing circuit depth.\n",
      "Epoch 3/10:   2%|▏         | 115/5000 [00:19<13:39,  5.96it/s, best loss=0.000106, last improvement in step=105, loss=0.0001]  \n",
      "Loss of 0.0000997592 below stopping threshold.\n",
      "Returning solution.\n"
     ]
    },
    {
     "name": "stderr",
     "output_type": "stream",
     "text": [
      "/Users/anna/anaconda3/envs/VQLenv/lib/python3.12/site-packages/variational_lse_solver/var_lse_solver.py:216: UserWarning: Explicit `ansatz` was provided, `epochs` argument will be ignored.\n",
      "  warnings.warn('Explicit `ansatz` was provided, `epochs` argument will be ignored.')\n"
     ]
    },
    {
     "name": "stdout",
     "output_type": "stream",
     "text": [
      "Epoch 1/1:   6%|▌         | 301/5000 [00:52<13:42,  5.71it/s, best loss=0.000153, last improvement in step=101, loss=0.00015] \n",
      "Loss has not improved in last 200 steps.\n",
      "Returning best solution.\n",
      "Epoch 1/10:   6%|▌         | 305/5000 [00:45<11:36,  6.74it/s, best loss=0.000304, last improvement in step=105, loss=0.000299]\n",
      "Loss has not improved in last 200 steps.\n",
      "Increasing circuit depth.\n",
      "Epoch 2/10:   2%|▏         | 96/5000 [00:14<12:32,  6.51it/s, best loss=0.000102, last improvement in step=95, loss=0.000102]\n",
      "Loss of 0.0000774480 below stopping threshold.\n",
      "Returning solution.\n"
     ]
    },
    {
     "name": "stderr",
     "output_type": "stream",
     "text": [
      "/Users/anna/anaconda3/envs/VQLenv/lib/python3.12/site-packages/variational_lse_solver/var_lse_solver.py:216: UserWarning: Explicit `ansatz` was provided, `epochs` argument will be ignored.\n",
      "  warnings.warn('Explicit `ansatz` was provided, `epochs` argument will be ignored.')\n"
     ]
    },
    {
     "name": "stdout",
     "output_type": "stream",
     "text": [
      "Epoch 1/1:   6%|▌         | 284/5000 [00:48<13:32,  5.80it/s, best loss=0.000156, last improvement in step=84, loss=0.00015] \n",
      "Loss has not improved in last 200 steps.\n",
      "Returning best solution.\n",
      "Run nr. 6/10\n",
      "Epoch 1/10:   6%|▌         | 295/5000 [00:45<12:04,  6.49it/s, best loss=0.000307, last improvement in step=95, loss=0.000299]\n",
      "Loss has not improved in last 200 steps.\n",
      "Increasing circuit depth.\n",
      "Epoch 2/10:  16%|█▌        | 784/5000 [02:02<10:56,  6.43it/s, best loss=0.0102, last improvement in step=584, loss=0.0102]\n",
      "Loss has not improved in last 200 steps.\n",
      "Increasing circuit depth.\n",
      "Epoch 3/10:   2%|▎         | 125/5000 [00:18<12:14,  6.64it/s, best loss=0.000102, last improvement in step=124, loss=0.000102]\n",
      "Loss of 0.0000992914 below stopping threshold.\n",
      "Returning solution.\n"
     ]
    },
    {
     "name": "stderr",
     "output_type": "stream",
     "text": [
      "/Users/anna/anaconda3/envs/VQLenv/lib/python3.12/site-packages/variational_lse_solver/var_lse_solver.py:216: UserWarning: Explicit `ansatz` was provided, `epochs` argument will be ignored.\n",
      "  warnings.warn('Explicit `ansatz` was provided, `epochs` argument will be ignored.')\n"
     ]
    },
    {
     "name": "stdout",
     "output_type": "stream",
     "text": [
      "Epoch 1/1:   5%|▌         | 263/5000 [00:43<12:57,  6.09it/s, best loss=0.000155, last improvement in step=63, loss=0.00015] \n",
      "Loss has not improved in last 200 steps.\n",
      "Returning best solution.\n",
      "Epoch 1/10:   6%|▌         | 293/5000 [00:42<11:24,  6.88it/s, best loss=0.000303, last improvement in step=93, loss=0.000299]\n",
      "Loss has not improved in last 200 steps.\n",
      "Increasing circuit depth.\n",
      "Epoch 2/10:   6%|▌         | 306/5000 [00:44<11:29,  6.81it/s, best loss=0.0105, last improvement in step=106, loss=0.0105]\n",
      "Loss has not improved in last 200 steps.\n",
      "Increasing circuit depth.\n",
      "Epoch 3/10:   6%|▌         | 290/5000 [00:43<11:53,  6.60it/s, best loss=0.000106, last improvement in step=255, loss=0.0001]  \n",
      "Loss of 0.0000999941 below stopping threshold.\n",
      "Returning solution.\n"
     ]
    },
    {
     "name": "stderr",
     "output_type": "stream",
     "text": [
      "/Users/anna/anaconda3/envs/VQLenv/lib/python3.12/site-packages/variational_lse_solver/var_lse_solver.py:216: UserWarning: Explicit `ansatz` was provided, `epochs` argument will be ignored.\n",
      "  warnings.warn('Explicit `ansatz` was provided, `epochs` argument will be ignored.')\n"
     ]
    },
    {
     "name": "stdout",
     "output_type": "stream",
     "text": [
      "Epoch 1/1:   6%|▌         | 291/5000 [00:48<13:06,  5.99it/s, best loss=0.000159, last improvement in step=91, loss=0.00015] \n",
      "Loss has not improved in last 200 steps.\n",
      "Returning best solution.\n",
      "Run nr. 7/10\n",
      "Epoch 1/10:   6%|▌         | 304/5000 [00:44<11:24,  6.86it/s, best loss=0.000303, last improvement in step=104, loss=0.000299]\n",
      "Loss has not improved in last 200 steps.\n",
      "Increasing circuit depth.\n",
      "Epoch 2/10:  11%|█         | 556/5000 [01:22<11:00,  6.72it/s, best loss=0.0102, last improvement in step=356, loss=0.0102]\n",
      "Loss has not improved in last 200 steps.\n",
      "Increasing circuit depth.\n",
      "Epoch 3/10:   5%|▍         | 243/5000 [00:38<12:37,  6.28it/s, best loss=0.000105, last improvement in step=233, loss=0.0001]  \n",
      "Loss of 0.0000998392 below stopping threshold.\n",
      "Returning solution.\n"
     ]
    },
    {
     "name": "stderr",
     "output_type": "stream",
     "text": [
      "/Users/anna/anaconda3/envs/VQLenv/lib/python3.12/site-packages/variational_lse_solver/var_lse_solver.py:216: UserWarning: Explicit `ansatz` was provided, `epochs` argument will be ignored.\n",
      "  warnings.warn('Explicit `ansatz` was provided, `epochs` argument will be ignored.')\n"
     ]
    },
    {
     "name": "stdout",
     "output_type": "stream",
     "text": [
      "Epoch 1/1:   5%|▌         | 272/5000 [00:44<12:57,  6.08it/s, best loss=0.000155, last improvement in step=72, loss=0.00015] \n",
      "Loss has not improved in last 200 steps.\n",
      "Returning best solution.\n",
      "Epoch 1/10:   6%|▌         | 283/5000 [00:41<11:25,  6.88it/s, best loss=0.000303, last improvement in step=83, loss=0.000299]\n",
      "Loss has not improved in last 200 steps.\n",
      "Increasing circuit depth.\n",
      "Epoch 2/10:   6%|▌         | 287/5000 [00:43<11:55,  6.59it/s, best loss=0.0105, last improvement in step=87, loss=0.0105]\n",
      "Loss has not improved in last 200 steps.\n",
      "Increasing circuit depth.\n",
      "Epoch 3/10:   4%|▍         | 204/5000 [00:31<12:11,  6.56it/s, best loss=0.000101, last improvement in step=203, loss=0.000101]\n",
      "Loss of 0.0000999941 below stopping threshold.\n",
      "Returning solution.\n"
     ]
    },
    {
     "name": "stderr",
     "output_type": "stream",
     "text": [
      "/Users/anna/anaconda3/envs/VQLenv/lib/python3.12/site-packages/variational_lse_solver/var_lse_solver.py:216: UserWarning: Explicit `ansatz` was provided, `epochs` argument will be ignored.\n",
      "  warnings.warn('Explicit `ansatz` was provided, `epochs` argument will be ignored.')\n"
     ]
    },
    {
     "name": "stdout",
     "output_type": "stream",
     "text": [
      "Epoch 1/1:   6%|▌         | 284/5000 [00:49<13:44,  5.72it/s, best loss=0.000152, last improvement in step=84, loss=0.00015] \n",
      "Loss has not improved in last 200 steps.\n",
      "Returning best solution.\n",
      "Run nr. 8/10\n",
      "Epoch 1/10:   6%|▌         | 283/5000 [00:43<11:58,  6.56it/s, best loss=0.000309, last improvement in step=83, loss=0.000299]\n",
      "Loss has not improved in last 200 steps.\n",
      "Increasing circuit depth.\n",
      "Epoch 2/10:   8%|▊         | 417/5000 [01:03<11:40,  6.54it/s, best loss=0.00992, last improvement in step=217, loss=0.00992]\n",
      "Loss has not improved in last 200 steps.\n",
      "Increasing circuit depth.\n",
      "Epoch 3/10:   2%|▏         | 91/5000 [00:13<12:19,  6.63it/s, best loss=0.00011, last improvement in step=86, loss=0.0001]   \n",
      "Loss of 0.0000957576 below stopping threshold.\n",
      "Returning solution.\n"
     ]
    },
    {
     "name": "stderr",
     "output_type": "stream",
     "text": [
      "/Users/anna/anaconda3/envs/VQLenv/lib/python3.12/site-packages/variational_lse_solver/var_lse_solver.py:216: UserWarning: Explicit `ansatz` was provided, `epochs` argument will be ignored.\n",
      "  warnings.warn('Explicit `ansatz` was provided, `epochs` argument will be ignored.')\n"
     ]
    },
    {
     "name": "stdout",
     "output_type": "stream",
     "text": [
      "Epoch 1/1:   5%|▌         | 272/5000 [00:45<13:03,  6.03it/s, best loss=0.000159, last improvement in step=72, loss=0.00015] \n",
      "Loss has not improved in last 200 steps.\n",
      "Returning best solution.\n",
      "Epoch 1/10:   7%|▋         | 343/5000 [00:50<11:29,  6.75it/s, best loss=0.000304, last improvement in step=143, loss=0.000299]\n",
      "Loss has not improved in last 200 steps.\n",
      "Increasing circuit depth.\n",
      "Epoch 2/10:  13%|█▎        | 671/5000 [01:40<10:47,  6.69it/s, best loss=0.00993, last improvement in step=471, loss=0.00993]\n",
      "Loss has not improved in last 200 steps.\n",
      "Increasing circuit depth.\n",
      "Epoch 3/10:   3%|▎         | 150/5000 [00:22<12:22,  6.53it/s, best loss=0.000106, last improvement in step=146, loss=0.000101]\n",
      "Loss of 0.0000989375 below stopping threshold.\n",
      "Returning solution.\n"
     ]
    },
    {
     "name": "stderr",
     "output_type": "stream",
     "text": [
      "/Users/anna/anaconda3/envs/VQLenv/lib/python3.12/site-packages/variational_lse_solver/var_lse_solver.py:216: UserWarning: Explicit `ansatz` was provided, `epochs` argument will be ignored.\n",
      "  warnings.warn('Explicit `ansatz` was provided, `epochs` argument will be ignored.')\n"
     ]
    },
    {
     "name": "stdout",
     "output_type": "stream",
     "text": [
      "Epoch 1/1:   6%|▌         | 283/5000 [00:49<13:39,  5.76it/s, best loss=0.000155, last improvement in step=83, loss=0.00015] \n",
      "Loss has not improved in last 200 steps.\n",
      "Returning best solution.\n",
      "Run nr. 9/10\n",
      "Epoch 1/10:   6%|▋         | 316/5000 [00:48<12:02,  6.48it/s, best loss=0.000304, last improvement in step=116, loss=0.000299]\n",
      "Loss has not improved in last 200 steps.\n",
      "Increasing circuit depth.\n",
      "Epoch 2/10:   6%|▌         | 297/5000 [00:47<12:29,  6.28it/s, best loss=0.0105, last improvement in step=97, loss=0.0105]\n",
      "Loss has not improved in last 200 steps.\n",
      "Increasing circuit depth.\n",
      "Epoch 3/10:   3%|▎         | 128/5000 [00:20<12:53,  6.30it/s, best loss=0.000103, last improvement in step=122, loss=0.0001]  \n",
      "Loss of 0.0000995115 below stopping threshold.\n",
      "Returning solution.\n"
     ]
    },
    {
     "name": "stderr",
     "output_type": "stream",
     "text": [
      "/Users/anna/anaconda3/envs/VQLenv/lib/python3.12/site-packages/variational_lse_solver/var_lse_solver.py:216: UserWarning: Explicit `ansatz` was provided, `epochs` argument will be ignored.\n",
      "  warnings.warn('Explicit `ansatz` was provided, `epochs` argument will be ignored.')\n"
     ]
    },
    {
     "name": "stdout",
     "output_type": "stream",
     "text": [
      "Epoch 1/1:   6%|▌         | 300/5000 [00:51<13:20,  5.87it/s, best loss=0.000153, last improvement in step=100, loss=0.00015] \n",
      "Loss has not improved in last 200 steps.\n",
      "Returning best solution.\n",
      "Epoch 1/10:   6%|▌         | 299/5000 [00:45<11:53,  6.59it/s, best loss=0.000303, last improvement in step=99, loss=0.000299]\n",
      "Loss has not improved in last 200 steps.\n",
      "Increasing circuit depth.\n",
      "Epoch 2/10:   8%|▊         | 400/5000 [01:00<11:37,  6.59it/s, best loss=0.00993, last improvement in step=200, loss=0.00992]\n",
      "Loss has not improved in last 200 steps.\n",
      "Increasing circuit depth.\n",
      "Epoch 3/10:   4%|▎         | 181/5000 [00:27<12:24,  6.47it/s, best loss=0.0001, last improvement in step=180, loss=0.0001]    \n",
      "Loss of 0.0000992638 below stopping threshold.\n",
      "Returning solution.\n"
     ]
    },
    {
     "name": "stderr",
     "output_type": "stream",
     "text": [
      "/Users/anna/anaconda3/envs/VQLenv/lib/python3.12/site-packages/variational_lse_solver/var_lse_solver.py:216: UserWarning: Explicit `ansatz` was provided, `epochs` argument will be ignored.\n",
      "  warnings.warn('Explicit `ansatz` was provided, `epochs` argument will be ignored.')\n"
     ]
    },
    {
     "name": "stdout",
     "output_type": "stream",
     "text": [
      "Epoch 1/1:   6%|▌         | 282/5000 [00:47<13:07,  5.99it/s, best loss=0.000157, last improvement in step=82, loss=0.00015] \n",
      "Loss has not improved in last 200 steps.\n",
      "Returning best solution.\n",
      "Run nr. 10/10\n",
      "Epoch 1/10:   6%|▋         | 321/5000 [00:47<11:27,  6.80it/s, best loss=0.000304, last improvement in step=121, loss=0.000299]\n",
      "Loss has not improved in last 200 steps.\n",
      "Increasing circuit depth.\n",
      "Epoch 2/10:   6%|▌         | 309/5000 [00:46<11:44,  6.66it/s, best loss=0.0105, last improvement in step=109, loss=0.0105]\n",
      "Loss has not improved in last 200 steps.\n",
      "Increasing circuit depth.\n",
      "Epoch 3/10:   6%|▌         | 276/5000 [00:42<12:06,  6.50it/s, best loss=0.000102, last improvement in step=273, loss=0.0001]  \n",
      "Loss of 0.0000997663 below stopping threshold.\n",
      "Returning solution.\n"
     ]
    },
    {
     "name": "stderr",
     "output_type": "stream",
     "text": [
      "/Users/anna/anaconda3/envs/VQLenv/lib/python3.12/site-packages/variational_lse_solver/var_lse_solver.py:216: UserWarning: Explicit `ansatz` was provided, `epochs` argument will be ignored.\n",
      "  warnings.warn('Explicit `ansatz` was provided, `epochs` argument will be ignored.')\n"
     ]
    },
    {
     "name": "stdout",
     "output_type": "stream",
     "text": [
      "Epoch 1/1:   5%|▌         | 270/5000 [00:45<13:09,  5.99it/s, best loss=0.000157, last improvement in step=70, loss=0.00015] \n",
      "Loss has not improved in last 200 steps.\n",
      "Returning best solution.\n",
      "Epoch 1/10:   6%|▋         | 320/5000 [00:47<11:29,  6.79it/s, best loss=0.000306, last improvement in step=120, loss=0.000299]\n",
      "Loss has not improved in last 200 steps.\n",
      "Increasing circuit depth.\n",
      "Epoch 2/10:   8%|▊         | 414/5000 [01:02<11:26,  6.68it/s, best loss=0.0102, last improvement in step=214, loss=0.0102]\n",
      "Loss has not improved in last 200 steps.\n",
      "Increasing circuit depth.\n",
      "Epoch 3/10:  10%|█         | 511/5000 [01:18<11:27,  6.53it/s, best loss=0.000105, last improvement in step=501, loss=0.0001]  \n",
      "Loss of 0.0000996735 below stopping threshold.\n",
      "Returning solution.\n"
     ]
    },
    {
     "name": "stderr",
     "output_type": "stream",
     "text": [
      "/Users/anna/anaconda3/envs/VQLenv/lib/python3.12/site-packages/variational_lse_solver/var_lse_solver.py:216: UserWarning: Explicit `ansatz` was provided, `epochs` argument will be ignored.\n",
      "  warnings.warn('Explicit `ansatz` was provided, `epochs` argument will be ignored.')\n"
     ]
    },
    {
     "name": "stdout",
     "output_type": "stream",
     "text": [
      "Epoch 1/1:   6%|▌         | 280/5000 [00:46<13:09,  5.98it/s, best loss=0.000152, last improvement in step=80, loss=0.00015] \n",
      "Loss has not improved in last 200 steps.\n",
      "Returning best solution.\n",
      "Saved data/condition_nr/result_local_condnr_10_w_noise.npz\n",
      "Run nr. 1/10\n",
      "Epoch 1/10:   7%|▋         | 332/5000 [00:48<11:27,  6.78it/s, best loss=0.000359, last improvement in step=132, loss=0.000355]\n",
      "Loss has not improved in last 200 steps.\n",
      "Increasing circuit depth.\n",
      "Epoch 2/10:  12%|█▏        | 597/5000 [01:32<11:25,  6.42it/s, best loss=0.000686, last improvement in step=397, loss=0.000681]\n",
      "Loss has not improved in last 200 steps.\n",
      "Increasing circuit depth.\n",
      "Epoch 3/10:   7%|▋         | 349/5000 [00:55<12:24,  6.24it/s, best loss=0.000107, last improvement in step=344, loss=0.000101]\n",
      "Loss of 0.0000999979 below stopping threshold.\n",
      "Returning solution.\n"
     ]
    },
    {
     "name": "stderr",
     "output_type": "stream",
     "text": [
      "/Users/anna/anaconda3/envs/VQLenv/lib/python3.12/site-packages/variational_lse_solver/var_lse_solver.py:216: UserWarning: Explicit `ansatz` was provided, `epochs` argument will be ignored.\n",
      "  warnings.warn('Explicit `ansatz` was provided, `epochs` argument will be ignored.')\n"
     ]
    },
    {
     "name": "stdout",
     "output_type": "stream",
     "text": [
      "Epoch 1/1:   6%|▌         | 297/5000 [00:49<13:07,  5.97it/s, best loss=0.000179, last improvement in step=97, loss=0.000178]\n",
      "Loss has not improved in last 200 steps.\n",
      "Returning best solution.\n",
      "Epoch 1/10:   7%|▋         | 352/5000 [00:51<11:19,  6.84it/s, best loss=0.000359, last improvement in step=152, loss=0.000355]\n",
      "Loss has not improved in last 200 steps.\n",
      "Increasing circuit depth.\n",
      "Epoch 2/10:  12%|█▏        | 585/5000 [01:27<10:56,  6.72it/s, best loss=0.000411, last improvement in step=385, loss=0.000404]\n",
      "Loss has not improved in last 200 steps.\n",
      "Increasing circuit depth.\n",
      "Epoch 3/10:   2%|▏         | 80/5000 [00:12<12:28,  6.57it/s, best loss=0.000102, last improvement in step=79, loss=0.000102]\n",
      "Loss of 0.0000934419 below stopping threshold.\n",
      "Returning solution.\n"
     ]
    },
    {
     "name": "stderr",
     "output_type": "stream",
     "text": [
      "/Users/anna/anaconda3/envs/VQLenv/lib/python3.12/site-packages/variational_lse_solver/var_lse_solver.py:216: UserWarning: Explicit `ansatz` was provided, `epochs` argument will be ignored.\n",
      "  warnings.warn('Explicit `ansatz` was provided, `epochs` argument will be ignored.')\n"
     ]
    },
    {
     "name": "stdout",
     "output_type": "stream",
     "text": [
      "Epoch 1/1:   6%|▌         | 290/5000 [00:48<13:00,  6.03it/s, best loss=0.00018, last improvement in step=90, loss=0.000178]\n",
      "Loss has not improved in last 200 steps.\n",
      "Returning best solution.\n",
      "Run nr. 2/10\n",
      "Epoch 1/10:   6%|▌         | 300/5000 [00:44<11:29,  6.82it/s, best loss=0.000362, last improvement in step=100, loss=0.000355]\n",
      "Loss has not improved in last 200 steps.\n",
      "Increasing circuit depth.\n",
      "Epoch 2/10:   6%|▌         | 303/5000 [00:45<11:37,  6.73it/s, best loss=0.00097, last improvement in step=103, loss=0.000965]\n",
      "Loss has not improved in last 200 steps.\n",
      "Increasing circuit depth.\n",
      "Epoch 3/10:   3%|▎         | 136/5000 [00:20<12:27,  6.51it/s, best loss=0.000105, last improvement in step=130, loss=0.000101]\n",
      "Loss of 0.0000997833 below stopping threshold.\n",
      "Returning solution.\n"
     ]
    },
    {
     "name": "stderr",
     "output_type": "stream",
     "text": [
      "/Users/anna/anaconda3/envs/VQLenv/lib/python3.12/site-packages/variational_lse_solver/var_lse_solver.py:216: UserWarning: Explicit `ansatz` was provided, `epochs` argument will be ignored.\n",
      "  warnings.warn('Explicit `ansatz` was provided, `epochs` argument will be ignored.')\n"
     ]
    },
    {
     "name": "stdout",
     "output_type": "stream",
     "text": [
      "Epoch 1/1:   6%|▌         | 286/5000 [00:47<13:02,  6.02it/s, best loss=0.00018, last improvement in step=86, loss=0.000178]\n",
      "Loss has not improved in last 200 steps.\n",
      "Returning best solution.\n",
      "Epoch 1/10:   6%|▋         | 316/5000 [00:46<11:32,  6.76it/s, best loss=0.000363, last improvement in step=116, loss=0.000355]\n",
      "Loss has not improved in last 200 steps.\n",
      "Increasing circuit depth.\n",
      "Epoch 2/10:   6%|▌         | 290/5000 [00:42<11:34,  6.78it/s, best loss=0.000966, last improvement in step=90, loss=0.000965]\n",
      "Loss has not improved in last 200 steps.\n",
      "Increasing circuit depth.\n",
      "Epoch 3/10:   1%|▏         | 73/5000 [00:11<12:35,  6.52it/s, best loss=0.000104, last improvement in step=72, loss=0.000104]\n",
      "Loss of 0.0000960198 below stopping threshold.\n",
      "Returning solution.\n"
     ]
    },
    {
     "name": "stderr",
     "output_type": "stream",
     "text": [
      "/Users/anna/anaconda3/envs/VQLenv/lib/python3.12/site-packages/variational_lse_solver/var_lse_solver.py:216: UserWarning: Explicit `ansatz` was provided, `epochs` argument will be ignored.\n",
      "  warnings.warn('Explicit `ansatz` was provided, `epochs` argument will be ignored.')\n"
     ]
    },
    {
     "name": "stdout",
     "output_type": "stream",
     "text": [
      "Epoch 1/1:   6%|▌         | 290/5000 [00:47<12:57,  6.06it/s, best loss=0.000181, last improvement in step=90, loss=0.000178]\n",
      "Loss has not improved in last 200 steps.\n",
      "Returning best solution.\n",
      "Run nr. 3/10\n",
      "Epoch 1/10:   6%|▋         | 317/5000 [00:46<11:28,  6.80it/s, best loss=0.00036, last improvement in step=117, loss=0.000355]\n",
      "Loss has not improved in last 200 steps.\n",
      "Increasing circuit depth.\n",
      "Epoch 2/10:  10%|█         | 505/5000 [01:15<11:10,  6.71it/s, best loss=0.000688, last improvement in step=305, loss=0.000683]\n",
      "Loss has not improved in last 200 steps.\n",
      "Increasing circuit depth.\n",
      "Epoch 3/10:   3%|▎         | 133/5000 [00:20<12:12,  6.65it/s, best loss=0.000111, last improvement in step=128, loss=0.000101]\n",
      "Loss of 0.0000992592 below stopping threshold.\n",
      "Returning solution.\n"
     ]
    },
    {
     "name": "stderr",
     "output_type": "stream",
     "text": [
      "/Users/anna/anaconda3/envs/VQLenv/lib/python3.12/site-packages/variational_lse_solver/var_lse_solver.py:216: UserWarning: Explicit `ansatz` was provided, `epochs` argument will be ignored.\n",
      "  warnings.warn('Explicit `ansatz` was provided, `epochs` argument will be ignored.')\n"
     ]
    },
    {
     "name": "stdout",
     "output_type": "stream",
     "text": [
      "Epoch 1/1:   6%|▌         | 283/5000 [00:46<12:58,  6.06it/s, best loss=0.000186, last improvement in step=83, loss=0.000178]\n",
      "Loss has not improved in last 200 steps.\n",
      "Returning best solution.\n",
      "Epoch 1/10:   6%|▌         | 296/5000 [00:42<11:16,  6.95it/s, best loss=0.000358, last improvement in step=96, loss=0.000355]\n",
      "Loss has not improved in last 200 steps.\n",
      "Increasing circuit depth.\n",
      "Epoch 2/10:  13%|█▎        | 633/5000 [01:32<10:41,  6.81it/s, best loss=0.000404, last improvement in step=433, loss=0.000401]\n",
      "Loss has not improved in last 200 steps.\n",
      "Increasing circuit depth.\n",
      "Epoch 3/10:   1%|▏         | 68/5000 [00:10<12:28,  6.59it/s, best loss=0.000104, last improvement in step=67, loss=0.000104]\n",
      "Loss of 0.0000954648 below stopping threshold.\n",
      "Returning solution.\n"
     ]
    },
    {
     "name": "stderr",
     "output_type": "stream",
     "text": [
      "/Users/anna/anaconda3/envs/VQLenv/lib/python3.12/site-packages/variational_lse_solver/var_lse_solver.py:216: UserWarning: Explicit `ansatz` was provided, `epochs` argument will be ignored.\n",
      "  warnings.warn('Explicit `ansatz` was provided, `epochs` argument will be ignored.')\n"
     ]
    },
    {
     "name": "stdout",
     "output_type": "stream",
     "text": [
      "Epoch 1/1:   6%|▌         | 301/5000 [00:49<12:47,  6.12it/s, best loss=0.00018, last improvement in step=101, loss=0.000178]\n",
      "Loss has not improved in last 200 steps.\n",
      "Returning best solution.\n",
      "Run nr. 4/10\n",
      "Epoch 1/10:   6%|▌         | 306/5000 [00:45<11:44,  6.66it/s, best loss=0.000359, last improvement in step=106, loss=0.000355]\n",
      "Loss has not improved in last 200 steps.\n",
      "Increasing circuit depth.\n",
      "Epoch 2/10:  12%|█▏        | 622/5000 [01:32<10:52,  6.71it/s, best loss=0.000692, last improvement in step=422, loss=0.000683]\n",
      "Loss has not improved in last 200 steps.\n",
      "Increasing circuit depth.\n",
      "Epoch 3/10:   2%|▏         | 78/5000 [00:12<12:37,  6.50it/s, best loss=0.000111, last improvement in step=77, loss=0.000111]\n",
      "Loss of 0.0000991240 below stopping threshold.\n",
      "Returning solution.\n"
     ]
    },
    {
     "name": "stderr",
     "output_type": "stream",
     "text": [
      "/Users/anna/anaconda3/envs/VQLenv/lib/python3.12/site-packages/variational_lse_solver/var_lse_solver.py:216: UserWarning: Explicit `ansatz` was provided, `epochs` argument will be ignored.\n",
      "  warnings.warn('Explicit `ansatz` was provided, `epochs` argument will be ignored.')\n"
     ]
    },
    {
     "name": "stdout",
     "output_type": "stream",
     "text": [
      "Epoch 1/1:   6%|▌         | 299/5000 [00:49<12:54,  6.07it/s, best loss=0.000179, last improvement in step=99, loss=0.000178]\n",
      "Loss has not improved in last 200 steps.\n",
      "Returning best solution.\n",
      "Epoch 1/10:   6%|▌         | 286/5000 [00:41<11:30,  6.83it/s, best loss=0.000358, last improvement in step=86, loss=0.000355]\n",
      "Loss has not improved in last 200 steps.\n",
      "Increasing circuit depth.\n",
      "Epoch 2/10:   6%|▌         | 301/5000 [00:44<11:40,  6.71it/s, best loss=0.000969, last improvement in step=101, loss=0.000965]\n",
      "Loss has not improved in last 200 steps.\n",
      "Increasing circuit depth.\n",
      "Epoch 3/10:   2%|▏         | 102/5000 [00:15<12:29,  6.53it/s, best loss=0.000101, last improvement in step=100, loss=0.000101]\n",
      "Loss of 0.0000997469 below stopping threshold.\n",
      "Returning solution.\n"
     ]
    },
    {
     "name": "stderr",
     "output_type": "stream",
     "text": [
      "/Users/anna/anaconda3/envs/VQLenv/lib/python3.12/site-packages/variational_lse_solver/var_lse_solver.py:216: UserWarning: Explicit `ansatz` was provided, `epochs` argument will be ignored.\n",
      "  warnings.warn('Explicit `ansatz` was provided, `epochs` argument will be ignored.')\n"
     ]
    },
    {
     "name": "stdout",
     "output_type": "stream",
     "text": [
      "Epoch 1/1:   6%|▌         | 289/5000 [00:47<12:56,  6.07it/s, best loss=0.000182, last improvement in step=89, loss=0.000178]\n",
      "Loss has not improved in last 200 steps.\n",
      "Returning best solution.\n",
      "Run nr. 5/10\n",
      "Epoch 1/10:   6%|▋         | 317/5000 [00:46<11:26,  6.82it/s, best loss=0.000356, last improvement in step=117, loss=0.000355]\n",
      "Loss has not improved in last 200 steps.\n",
      "Increasing circuit depth.\n",
      "Epoch 2/10:   6%|▌         | 304/5000 [00:45<11:42,  6.69it/s, best loss=0.000973, last improvement in step=104, loss=0.000965]\n",
      "Loss has not improved in last 200 steps.\n",
      "Increasing circuit depth.\n",
      "Epoch 3/10:   6%|▋         | 317/5000 [00:48<11:52,  6.57it/s, best loss=0.000103, last improvement in step=313, loss=0.0001]  \n",
      "Loss of 0.0000996348 below stopping threshold.\n",
      "Returning solution.\n"
     ]
    },
    {
     "name": "stderr",
     "output_type": "stream",
     "text": [
      "/Users/anna/anaconda3/envs/VQLenv/lib/python3.12/site-packages/variational_lse_solver/var_lse_solver.py:216: UserWarning: Explicit `ansatz` was provided, `epochs` argument will be ignored.\n",
      "  warnings.warn('Explicit `ansatz` was provided, `epochs` argument will be ignored.')\n"
     ]
    },
    {
     "name": "stdout",
     "output_type": "stream",
     "text": [
      "Epoch 1/1:   6%|▌         | 293/5000 [00:50<13:26,  5.84it/s, best loss=0.00018, last improvement in step=93, loss=0.000178]\n",
      "Loss has not improved in last 200 steps.\n",
      "Returning best solution.\n",
      "Epoch 1/10:   6%|▌         | 311/5000 [00:47<12:00,  6.51it/s, best loss=0.000361, last improvement in step=111, loss=0.000355]\n",
      "Loss has not improved in last 200 steps.\n",
      "Increasing circuit depth.\n",
      "Epoch 2/10:   6%|▌         | 312/5000 [00:48<12:14,  6.38it/s, best loss=0.000966, last improvement in step=112, loss=0.000965]\n",
      "Loss has not improved in last 200 steps.\n",
      "Increasing circuit depth.\n",
      "Epoch 3/10:   3%|▎         | 128/5000 [00:20<12:44,  6.37it/s, best loss=0.000108, last improvement in step=115, loss=0.000101]\n",
      "Loss of 0.0000999504 below stopping threshold.\n",
      "Returning solution.\n"
     ]
    },
    {
     "name": "stderr",
     "output_type": "stream",
     "text": [
      "/Users/anna/anaconda3/envs/VQLenv/lib/python3.12/site-packages/variational_lse_solver/var_lse_solver.py:216: UserWarning: Explicit `ansatz` was provided, `epochs` argument will be ignored.\n",
      "  warnings.warn('Explicit `ansatz` was provided, `epochs` argument will be ignored.')\n"
     ]
    },
    {
     "name": "stdout",
     "output_type": "stream",
     "text": [
      "Epoch 1/1:   6%|▌         | 294/5000 [00:48<12:53,  6.09it/s, best loss=0.000181, last improvement in step=94, loss=0.000178]\n",
      "Loss has not improved in last 200 steps.\n",
      "Returning best solution.\n",
      "Run nr. 6/10\n",
      "Epoch 1/10:   7%|▋         | 328/5000 [00:48<11:36,  6.71it/s, best loss=0.000357, last improvement in step=128, loss=0.000355]\n",
      "Loss has not improved in last 200 steps.\n",
      "Increasing circuit depth.\n",
      "Epoch 2/10:  13%|█▎        | 642/5000 [01:35<10:49,  6.71it/s, best loss=0.000685, last improvement in step=442, loss=0.000683]\n",
      "Loss has not improved in last 200 steps.\n",
      "Increasing circuit depth.\n",
      "Epoch 3/10:   4%|▍         | 216/5000 [00:33<12:14,  6.51it/s, best loss=0.000111, last improvement in step=207, loss=0.000101]\n",
      "Loss of 0.0000999919 below stopping threshold.\n",
      "Returning solution.\n"
     ]
    },
    {
     "name": "stderr",
     "output_type": "stream",
     "text": [
      "/Users/anna/anaconda3/envs/VQLenv/lib/python3.12/site-packages/variational_lse_solver/var_lse_solver.py:216: UserWarning: Explicit `ansatz` was provided, `epochs` argument will be ignored.\n",
      "  warnings.warn('Explicit `ansatz` was provided, `epochs` argument will be ignored.')\n"
     ]
    },
    {
     "name": "stdout",
     "output_type": "stream",
     "text": [
      "Epoch 1/1:   6%|▌         | 286/5000 [00:46<12:53,  6.09it/s, best loss=0.000178, last improvement in step=86, loss=0.000178]\n",
      "Loss has not improved in last 200 steps.\n",
      "Returning best solution.\n",
      "Epoch 1/10:   7%|▋         | 349/5000 [00:51<11:21,  6.83it/s, best loss=0.000355, last improvement in step=149, loss=0.000355]\n",
      "Loss has not improved in last 200 steps.\n",
      "Increasing circuit depth.\n",
      "Epoch 2/10:   6%|▌         | 292/5000 [00:43<11:40,  6.72it/s, best loss=0.00097, last improvement in step=92, loss=0.000965]\n",
      "Loss has not improved in last 200 steps.\n",
      "Increasing circuit depth.\n",
      "Epoch 3/10:   1%|▏         | 63/5000 [00:09<12:44,  6.45it/s, best loss=0.000138, last improvement in step=62, loss=0.000138]\n",
      "Loss of 0.0000906149 below stopping threshold.\n",
      "Returning solution.\n"
     ]
    },
    {
     "name": "stderr",
     "output_type": "stream",
     "text": [
      "/Users/anna/anaconda3/envs/VQLenv/lib/python3.12/site-packages/variational_lse_solver/var_lse_solver.py:216: UserWarning: Explicit `ansatz` was provided, `epochs` argument will be ignored.\n",
      "  warnings.warn('Explicit `ansatz` was provided, `epochs` argument will be ignored.')\n"
     ]
    },
    {
     "name": "stdout",
     "output_type": "stream",
     "text": [
      "Epoch 1/1:   6%|▌         | 275/5000 [00:45<13:02,  6.04it/s, best loss=0.000184, last improvement in step=75, loss=0.000178]\n",
      "Loss has not improved in last 200 steps.\n",
      "Returning best solution.\n",
      "Run nr. 7/10\n",
      "Epoch 1/10:   6%|▋         | 316/5000 [00:45<11:17,  6.92it/s, best loss=0.000356, last improvement in step=116, loss=0.000355]\n",
      "Loss has not improved in last 200 steps.\n",
      "Increasing circuit depth.\n",
      "Epoch 2/10:   8%|▊         | 376/5000 [00:55<11:24,  6.76it/s, best loss=0.000403, last improvement in step=176, loss=0.000401]\n",
      "Loss has not improved in last 200 steps.\n",
      "Increasing circuit depth.\n",
      "Epoch 3/10:   3%|▎         | 135/5000 [00:20<12:20,  6.57it/s, best loss=0.000104, last improvement in step=133, loss=0.000102]\n",
      "Loss of 0.0000992382 below stopping threshold.\n",
      "Returning solution.\n"
     ]
    },
    {
     "name": "stderr",
     "output_type": "stream",
     "text": [
      "/Users/anna/anaconda3/envs/VQLenv/lib/python3.12/site-packages/variational_lse_solver/var_lse_solver.py:216: UserWarning: Explicit `ansatz` was provided, `epochs` argument will be ignored.\n",
      "  warnings.warn('Explicit `ansatz` was provided, `epochs` argument will be ignored.')\n"
     ]
    },
    {
     "name": "stdout",
     "output_type": "stream",
     "text": [
      "Epoch 1/1:   5%|▍         | 242/5000 [00:39<13:06,  6.05it/s, best loss=0.000185, last improvement in step=42, loss=0.000178]\n",
      "Loss has not improved in last 200 steps.\n",
      "Returning best solution.\n",
      "Epoch 1/10:   7%|▋         | 326/5000 [00:47<11:13,  6.94it/s, best loss=0.000364, last improvement in step=126, loss=0.000355]\n",
      "Loss has not improved in last 200 steps.\n",
      "Increasing circuit depth.\n",
      "Epoch 2/10:   7%|▋         | 374/5000 [00:54<11:19,  6.81it/s, best loss=0.000404, last improvement in step=174, loss=0.000401]\n",
      "Loss has not improved in last 200 steps.\n",
      "Increasing circuit depth.\n",
      "Epoch 3/10:   1%|▏         | 69/5000 [00:10<12:28,  6.59it/s, best loss=0.000103, last improvement in step=68, loss=0.000103]\n",
      "Loss of 0.0000925245 below stopping threshold.\n",
      "Returning solution.\n"
     ]
    },
    {
     "name": "stderr",
     "output_type": "stream",
     "text": [
      "/Users/anna/anaconda3/envs/VQLenv/lib/python3.12/site-packages/variational_lse_solver/var_lse_solver.py:216: UserWarning: Explicit `ansatz` was provided, `epochs` argument will be ignored.\n",
      "  warnings.warn('Explicit `ansatz` was provided, `epochs` argument will be ignored.')\n"
     ]
    },
    {
     "name": "stdout",
     "output_type": "stream",
     "text": [
      "Epoch 1/1:   6%|▌         | 288/5000 [00:46<12:43,  6.17it/s, best loss=0.000182, last improvement in step=88, loss=0.000178]\n",
      "Loss has not improved in last 200 steps.\n",
      "Returning best solution.\n",
      "Run nr. 8/10\n",
      "Epoch 1/10:   7%|▋         | 340/5000 [00:49<11:15,  6.90it/s, best loss=0.000355, last improvement in step=140, loss=0.000355]\n",
      "Loss has not improved in last 200 steps.\n",
      "Increasing circuit depth.\n",
      "Epoch 2/10:   6%|▌         | 293/5000 [00:43<11:31,  6.81it/s, best loss=0.000969, last improvement in step=93, loss=0.000965]\n",
      "Loss has not improved in last 200 steps.\n",
      "Increasing circuit depth.\n",
      "Epoch 3/10:   1%|▏         | 69/5000 [00:10<12:24,  6.62it/s, best loss=0.000109, last improvement in step=68, loss=0.000109]\n",
      "Loss of 0.0000937246 below stopping threshold.\n",
      "Returning solution.\n"
     ]
    },
    {
     "name": "stderr",
     "output_type": "stream",
     "text": [
      "/Users/anna/anaconda3/envs/VQLenv/lib/python3.12/site-packages/variational_lse_solver/var_lse_solver.py:216: UserWarning: Explicit `ansatz` was provided, `epochs` argument will be ignored.\n",
      "  warnings.warn('Explicit `ansatz` was provided, `epochs` argument will be ignored.')\n"
     ]
    },
    {
     "name": "stdout",
     "output_type": "stream",
     "text": [
      "Epoch 1/1:   6%|▌         | 284/5000 [00:46<12:46,  6.15it/s, best loss=0.000181, last improvement in step=84, loss=0.000178]\n",
      "Loss has not improved in last 200 steps.\n",
      "Returning best solution.\n",
      "Epoch 1/10:   6%|▌         | 285/5000 [00:41<11:20,  6.93it/s, best loss=0.000364, last improvement in step=85, loss=0.000355]\n",
      "Loss has not improved in last 200 steps.\n",
      "Increasing circuit depth.\n",
      "Epoch 2/10:  16%|█▌        | 795/5000 [01:57<10:20,  6.78it/s, best loss=0.000414, last improvement in step=595, loss=0.000406]\n",
      "Loss has not improved in last 200 steps.\n",
      "Increasing circuit depth.\n",
      "Epoch 3/10:   4%|▍         | 201/5000 [00:30<12:01,  6.65it/s, best loss=0.000103, last improvement in step=195, loss=0.0001]  \n",
      "Loss of 0.0000996240 below stopping threshold.\n",
      "Returning solution.\n"
     ]
    },
    {
     "name": "stderr",
     "output_type": "stream",
     "text": [
      "/Users/anna/anaconda3/envs/VQLenv/lib/python3.12/site-packages/variational_lse_solver/var_lse_solver.py:216: UserWarning: Explicit `ansatz` was provided, `epochs` argument will be ignored.\n",
      "  warnings.warn('Explicit `ansatz` was provided, `epochs` argument will be ignored.')\n"
     ]
    },
    {
     "name": "stdout",
     "output_type": "stream",
     "text": [
      "Epoch 1/1:   4%|▍         | 214/5000 [00:35<13:04,  6.10it/s, best loss=0.000183, last improvement in step=14, loss=0.000178]\n",
      "Loss has not improved in last 200 steps.\n",
      "Returning best solution.\n",
      "Run nr. 9/10\n",
      "Epoch 1/10:   7%|▋         | 343/5000 [00:49<11:10,  6.95it/s, best loss=0.000361, last improvement in step=143, loss=0.000355]\n",
      "Loss has not improved in last 200 steps.\n",
      "Increasing circuit depth.\n",
      "Epoch 2/10:  23%|██▎       | 1163/5000 [02:51<09:24,  6.79it/s, best loss=0.00041, last improvement in step=963, loss=0.000404]\n",
      "Loss has not improved in last 200 steps.\n",
      "Increasing circuit depth.\n",
      "Epoch 3/10:   1%|▏         | 70/5000 [00:10<12:24,  6.62it/s, best loss=0.000109, last improvement in step=65, loss=0.000103]\n",
      "Loss of 0.0000951843 below stopping threshold.\n",
      "Returning solution.\n"
     ]
    },
    {
     "name": "stderr",
     "output_type": "stream",
     "text": [
      "/Users/anna/anaconda3/envs/VQLenv/lib/python3.12/site-packages/variational_lse_solver/var_lse_solver.py:216: UserWarning: Explicit `ansatz` was provided, `epochs` argument will be ignored.\n",
      "  warnings.warn('Explicit `ansatz` was provided, `epochs` argument will be ignored.')\n"
     ]
    },
    {
     "name": "stdout",
     "output_type": "stream",
     "text": [
      "Epoch 1/1:   6%|▌         | 286/5000 [00:46<12:46,  6.15it/s, best loss=0.000179, last improvement in step=86, loss=0.000178]\n",
      "Loss has not improved in last 200 steps.\n",
      "Returning best solution.\n",
      "Epoch 1/10:   7%|▋         | 333/5000 [00:47<11:10,  6.96it/s, best loss=0.000359, last improvement in step=133, loss=0.000355]\n",
      "Loss has not improved in last 200 steps.\n",
      "Increasing circuit depth.\n",
      "Epoch 2/10:  20%|██        | 1003/5000 [02:27<09:49,  6.78it/s, best loss=0.000414, last improvement in step=803, loss=0.000404]\n",
      "Loss has not improved in last 200 steps.\n",
      "Increasing circuit depth.\n",
      "Epoch 3/10:   3%|▎         | 153/5000 [00:23<12:09,  6.64it/s, best loss=0.000105, last improvement in step=150, loss=0.000101]\n",
      "Loss of 0.0000994143 below stopping threshold.\n",
      "Returning solution.\n"
     ]
    },
    {
     "name": "stderr",
     "output_type": "stream",
     "text": [
      "/Users/anna/anaconda3/envs/VQLenv/lib/python3.12/site-packages/variational_lse_solver/var_lse_solver.py:216: UserWarning: Explicit `ansatz` was provided, `epochs` argument will be ignored.\n",
      "  warnings.warn('Explicit `ansatz` was provided, `epochs` argument will be ignored.')\n"
     ]
    },
    {
     "name": "stdout",
     "output_type": "stream",
     "text": [
      "Epoch 1/1:   6%|▌         | 276/5000 [00:44<12:48,  6.14it/s, best loss=0.000185, last improvement in step=76, loss=0.000178]\n",
      "Loss has not improved in last 200 steps.\n",
      "Returning best solution.\n",
      "Run nr. 10/10\n",
      "Epoch 1/10:   6%|▌         | 295/5000 [00:42<11:16,  6.95it/s, best loss=0.000362, last improvement in step=95, loss=0.000355]\n",
      "Loss has not improved in last 200 steps.\n",
      "Increasing circuit depth.\n",
      "Epoch 2/10:   6%|▋         | 324/5000 [00:48<11:33,  6.74it/s, best loss=0.000965, last improvement in step=124, loss=0.000965]\n",
      "Loss has not improved in last 200 steps.\n",
      "Increasing circuit depth.\n",
      "Epoch 3/10:   8%|▊         | 425/5000 [01:03<11:22,  6.70it/s, best loss=0.000178, last improvement in step=225, loss=0.000172]\n",
      "Loss has not improved in last 200 steps.\n",
      "Increasing circuit depth.\n",
      "Epoch 4/10:   2%|▏         | 76/5000 [00:11<12:37,  6.50it/s, best loss=0.000106, last improvement in step=74, loss=0.0001]  \n",
      "Loss of 0.0000932189 below stopping threshold.\n",
      "Returning solution.\n"
     ]
    },
    {
     "name": "stderr",
     "output_type": "stream",
     "text": [
      "/Users/anna/anaconda3/envs/VQLenv/lib/python3.12/site-packages/variational_lse_solver/var_lse_solver.py:216: UserWarning: Explicit `ansatz` was provided, `epochs` argument will be ignored.\n",
      "  warnings.warn('Explicit `ansatz` was provided, `epochs` argument will be ignored.')\n"
     ]
    },
    {
     "name": "stdout",
     "output_type": "stream",
     "text": [
      "Epoch 1/1:   5%|▌         | 271/5000 [00:44<12:53,  6.11it/s, best loss=0.000182, last improvement in step=71, loss=0.000178]\n",
      "Loss has not improved in last 200 steps.\n",
      "Returning best solution.\n",
      "Epoch 1/10:   7%|▋         | 336/5000 [00:48<11:14,  6.91it/s, best loss=0.000362, last improvement in step=136, loss=0.000355]\n",
      "Loss has not improved in last 200 steps.\n",
      "Increasing circuit depth.\n",
      "Epoch 2/10:  10%|▉         | 485/5000 [01:10<11:00,  6.84it/s, best loss=0.000683, last improvement in step=285, loss=0.000682]\n",
      "Loss has not improved in last 200 steps.\n",
      "Increasing circuit depth.\n",
      "Epoch 3/10:   3%|▎         | 148/5000 [00:25<13:58,  5.79it/s, best loss=0.000106, last improvement in step=141, loss=0.000101]\n",
      "Loss of 0.0000997576 below stopping threshold.\n",
      "Returning solution.\n"
     ]
    },
    {
     "name": "stderr",
     "output_type": "stream",
     "text": [
      "/Users/anna/anaconda3/envs/VQLenv/lib/python3.12/site-packages/variational_lse_solver/var_lse_solver.py:216: UserWarning: Explicit `ansatz` was provided, `epochs` argument will be ignored.\n",
      "  warnings.warn('Explicit `ansatz` was provided, `epochs` argument will be ignored.')\n"
     ]
    },
    {
     "name": "stdout",
     "output_type": "stream",
     "text": [
      "Epoch 1/1:   5%|▌         | 254/5000 [00:42<13:13,  5.98it/s, best loss=0.000184, last improvement in step=54, loss=0.000178]\n",
      "Loss has not improved in last 200 steps.\n",
      "Returning best solution.\n",
      "Saved data/condition_nr/result_local_condnr_50_w_noise.npz\n",
      "Run nr. 1/10\n",
      "Epoch 1/10:   6%|▌         | 310/5000 [00:45<11:30,  6.79it/s, best loss=0.000363, last improvement in step=110, loss=0.000362]\n",
      "Loss has not improved in last 200 steps.\n",
      "Increasing circuit depth.\n",
      "Epoch 2/10:  11%|█         | 540/5000 [01:23<11:27,  6.49it/s, best loss=0.000111, last improvement in step=451, loss=0.000102]\n"
     ]
    },
    {
     "name": "stderr",
     "output_type": "stream",
     "text": [
      "/Users/anna/anaconda3/envs/VQLenv/lib/python3.12/site-packages/variational_lse_solver/cost_function/norm_fn/norm_hadamard.py:26: SyntaxWarning: invalid escape sequence '\\s'\n",
      "  \"\"\"\n"
     ]
    },
    {
     "ename": "KeyboardInterrupt",
     "evalue": "",
     "output_type": "error",
     "traceback": [
      "\u001b[31m---------------------------------------------------------------------------\u001b[39m",
      "\u001b[31mKeyboardInterrupt\u001b[39m                         Traceback (most recent call last)",
      "\u001b[36mCell\u001b[39m\u001b[36m \u001b[39m\u001b[32mIn[32]\u001b[39m\u001b[32m, line 55\u001b[39m\n\u001b[32m     40\u001b[39m \u001b[38;5;66;03m###################################\u001b[39;00m\n\u001b[32m     41\u001b[39m \u001b[38;5;66;03m#####    DYNAMIC NOISELESS    #####\u001b[39;00m\n\u001b[32m     42\u001b[39m \u001b[38;5;66;03m###################################\u001b[39;00m\n\u001b[32m     44\u001b[39m lse_dyn_dynamic = DeviceVarLSESolver(A, \n\u001b[32m     45\u001b[39m             b, \n\u001b[32m     46\u001b[39m             coeffs=coeffs,\n\u001b[32m   (...)\u001b[39m\u001b[32m     52\u001b[39m             epochs=epochs, \n\u001b[32m     53\u001b[39m             abort=abort,) \n\u001b[32m---> \u001b[39m\u001b[32m55\u001b[39m solution_local, param_local, it_count_local = \u001b[43mlse_dyn_dynamic\u001b[49m\u001b[43m.\u001b[49m\u001b[43msolve\u001b[49m\u001b[43m(\u001b[49m\u001b[43m)\u001b[49m\n\u001b[32m     56\u001b[39m local_dense_trc = TRC_ASA(it_count_local)\n\u001b[32m     57\u001b[39m results_list_dynamic[i, :] = solution_local\n",
      "\u001b[36mFile \u001b[39m\u001b[32m~/VariationalLinearQuantumSolver/tests/device_var_lse_solver.py:118\u001b[39m, in \u001b[36mDeviceVarLSESolver.solve\u001b[39m\u001b[34m(self)\u001b[39m\n\u001b[32m    116\u001b[39m \u001b[38;5;28mself\u001b[39m.opt.zero_grad()\n\u001b[32m    117\u001b[39m \u001b[38;5;66;03m# compute loss\u001b[39;00m\n\u001b[32m--> \u001b[39m\u001b[32m118\u001b[39m loss = \u001b[38;5;28;43mself\u001b[39;49m\u001b[43m.\u001b[49m\u001b[43mcost_function\u001b[49m\u001b[43m.\u001b[49m\u001b[43mcost\u001b[49m\u001b[43m(\u001b[49m\u001b[38;5;28;43mself\u001b[39;49m\u001b[43m.\u001b[49m\u001b[43mweights\u001b[49m\u001b[43m)\u001b[49m\n\u001b[32m    119\u001b[39m \u001b[38;5;66;03m# test is loss has improved beyond 0.1 * `threshold`\u001b[39;00m\n\u001b[32m    120\u001b[39m \u001b[38;5;66;03m# (ensures increasing depth when only negligible improvements are made)\u001b[39;00m\n\u001b[32m    121\u001b[39m \u001b[38;5;28;01mif\u001b[39;00m loss.item() < best_loss \u001b[38;5;129;01mand\u001b[39;00m \u001b[38;5;28mabs\u001b[39m(loss.item() - best_loss) > \u001b[32m0.1\u001b[39m * \u001b[38;5;28mself\u001b[39m.threshold:\n",
      "\u001b[36mFile \u001b[39m\u001b[32m~/anaconda3/envs/VQLenv/lib/python3.12/site-packages/variational_lse_solver/cost_function/cost_function.py:94\u001b[39m, in \u001b[36mCostFunction.cost\u001b[39m\u001b[34m(self, weights)\u001b[39m\n\u001b[32m     92\u001b[39m \u001b[38;5;28;01mif\u001b[39;00m CostFunctionMethod.COHERENT == \u001b[38;5;28mself\u001b[39m.method:  \u001b[38;5;66;03m# The coherent method inherently normalizes the loss\u001b[39;00m\n\u001b[32m     93\u001b[39m     \u001b[38;5;28;01mreturn\u001b[39;00m torch.abs(torch.sub(\u001b[32m1.0\u001b[39m, \u001b[38;5;28mself\u001b[39m.loss_fn.cost(weights)))\n\u001b[32m---> \u001b[39m\u001b[32m94\u001b[39m norm = \u001b[38;5;28;43mself\u001b[39;49m\u001b[43m.\u001b[49m\u001b[43mnorm_fn\u001b[49m\u001b[43m.\u001b[49m\u001b[43mcost\u001b[49m\u001b[43m(\u001b[49m\u001b[43mweights\u001b[49m\u001b[43m)\u001b[49m\n\u001b[32m     95\u001b[39m loss_raw = \u001b[38;5;28mself\u001b[39m.loss_fn.cost(weights)\n\u001b[32m     96\u001b[39m \u001b[38;5;66;03m# noinspection PyUnboundLocalVariable\u001b[39;00m\n",
      "\u001b[36mFile \u001b[39m\u001b[32m~/anaconda3/envs/VQLenv/lib/python3.12/site-packages/variational_lse_solver/cost_function/norm_fn/norm_hadamard.py:109\u001b[39m, in \u001b[36mNormHadamard.cost\u001b[39m\u001b[34m(self, weights)\u001b[39m\n\u001b[32m    106\u001b[39m     \u001b[38;5;28;01mreturn\u001b[39;00m beta_mn_\n\u001b[32m    108\u001b[39m \u001b[38;5;66;03m# compute beta_mn`s, catch special case of decomposition length 1\u001b[39;00m\n\u001b[32m--> \u001b[39m\u001b[32m109\u001b[39m beta_mn = torch.tensor([\u001b[32m1.0\u001b[39m]) \u001b[38;5;28;01mif\u001b[39;00m \u001b[32m1\u001b[39m == \u001b[38;5;28mlen\u001b[39m(\u001b[38;5;28mself\u001b[39m.coeffs) \u001b[38;5;28;01melse\u001b[39;00m \u001b[43mcalculate_beta\u001b[49m\u001b[43m(\u001b[49m\u001b[43mweights\u001b[49m\u001b[43m)\u001b[49m\n\u001b[32m    110\u001b[39m \u001b[38;5;28;01mif\u001b[39;00m \u001b[38;5;129;01mnot\u001b[39;00m \u001b[32m1\u001b[39m == \u001b[38;5;28mlen\u001b[39m(\u001b[38;5;28mself\u001b[39m.coeffs):\n\u001b[32m    111\u001b[39m     \u001b[38;5;28;01massert\u001b[39;00m beta_mn.shape[\u001b[32m0\u001b[39m] == (\u001b[38;5;28mlen\u001b[39m(\u001b[38;5;28mself\u001b[39m.coeffs) ** \u001b[32m2\u001b[39m - \u001b[38;5;28mlen\u001b[39m(\u001b[38;5;28mself\u001b[39m.coeffs)) // \u001b[32m2\u001b[39m\n",
      "\u001b[36mFile \u001b[39m\u001b[32m~/anaconda3/envs/VQLenv/lib/python3.12/site-packages/variational_lse_solver/cost_function/norm_fn/norm_hadamard.py:102\u001b[39m, in \u001b[36mNormHadamard.cost.<locals>.calculate_beta\u001b[39m\u001b[34m(weights_)\u001b[39m\n\u001b[32m     99\u001b[39m \u001b[38;5;250m\u001b[39m\u001b[33;03m\"\"\" Evaluate real (and optionally imaginary) norm term. \"\"\"\u001b[39;00m\n\u001b[32m    100\u001b[39m calculate_beta_fn = \u001b[38;5;28mself\u001b[39m.mode.mode_dependent_value(pauli=calculate_beta_batched, unitary=calculate_beta_batched,\n\u001b[32m    101\u001b[39m                                                    circuit=calculate_beta_individual, matrix=\u001b[38;5;28;01mNone\u001b[39;00m)\n\u001b[32m--> \u001b[39m\u001b[32m102\u001b[39m beta_mn_ = \u001b[43mcalculate_beta_fn\u001b[49m\u001b[43m(\u001b[49m\u001b[43mweights_\u001b[49m\u001b[43m,\u001b[49m\u001b[43m \u001b[49m\u001b[43mreal_imaginary_flag_\u001b[49m\u001b[43m=\u001b[49m\u001b[38;5;28;43;01mFalse\u001b[39;49;00m\u001b[43m)\u001b[49m\n\u001b[32m    103\u001b[39m \u001b[38;5;28;01mif\u001b[39;00m \u001b[38;5;28mself\u001b[39m.imaginary:\n\u001b[32m    104\u001b[39m     beta_mn_ = beta_mn_.type(torch.complex128)\n",
      "\u001b[36mFile \u001b[39m\u001b[32m~/anaconda3/envs/VQLenv/lib/python3.12/site-packages/variational_lse_solver/cost_function/norm_fn/norm_hadamard.py:74\u001b[39m, in \u001b[36mNormHadamard.cost.<locals>.calculate_beta_batched\u001b[39m\u001b[34m(weights_, real_imaginary_flag_)\u001b[39m\n\u001b[32m     72\u001b[39m \u001b[38;5;28;01mdef\u001b[39;00m\u001b[38;5;250m \u001b[39m\u001b[34mcalculate_beta_batched\u001b[39m(weights_: torch.tensor, real_imaginary_flag_: \u001b[38;5;28mbool\u001b[39m) -> torch.tensor:\n\u001b[32m     73\u001b[39m \u001b[38;5;250m    \u001b[39m\u001b[33;03m\"\"\" Evaluate all beta_mn in a batched manner. \"\"\"\u001b[39;00m\n\u001b[32m---> \u001b[39m\u001b[32m74\u001b[39m     \u001b[38;5;28;01mreturn\u001b[39;00m \u001b[38;5;28;43mself\u001b[39;49m\u001b[43m.\u001b[49m\u001b[43mqnode_hadamard_norm\u001b[49m\u001b[43m(\u001b[49m\u001b[43m)\u001b[49m\u001b[43m(\u001b[49m\n\u001b[32m     75\u001b[39m \u001b[43m        \u001b[49m\u001b[43mweights_\u001b[49m\u001b[43m,\u001b[49m\n\u001b[32m     76\u001b[39m \u001b[43m        \u001b[49m\u001b[43mencoded_system_m\u001b[49m\u001b[43m=\u001b[49m\u001b[38;5;28;43mself\u001b[39;49m\u001b[43m.\u001b[49m\u001b[43mbatched_encoded_system\u001b[49m\u001b[43m[\u001b[49m\u001b[33;43m'\u001b[39;49m\u001b[33;43mbatched_encoded_system_m\u001b[39;49m\u001b[33;43m'\u001b[39;49m\u001b[43m]\u001b[49m\u001b[43m,\u001b[49m\n\u001b[32m     77\u001b[39m \u001b[43m        \u001b[49m\u001b[43mencoded_system_n\u001b[49m\u001b[43m=\u001b[49m\u001b[38;5;28;43mself\u001b[39;49m\u001b[43m.\u001b[49m\u001b[43mbatched_encoded_system\u001b[49m\u001b[43m[\u001b[49m\u001b[33;43m'\u001b[39;49m\u001b[33;43mbatched_encoded_system_n\u001b[39;49m\u001b[33;43m'\u001b[39;49m\u001b[43m]\u001b[49m\u001b[43m,\u001b[49m\n\u001b[32m     78\u001b[39m \u001b[43m        \u001b[49m\u001b[43mreal_imaginary_flag\u001b[49m\u001b[43m=\u001b[49m\u001b[43mtensor_from_array\u001b[49m\u001b[43m(\u001b[49m\u001b[43mnp\u001b[49m\u001b[43m.\u001b[49m\u001b[43mones\u001b[49m\u001b[43m(\u001b[49m\u001b[43mshape\u001b[49m\u001b[43m=\u001b[49m\u001b[43m(\u001b[49m\u001b[38;5;28;43mself\u001b[39;49m\u001b[43m.\u001b[49m\u001b[43mbatched_encoded_system\u001b[49m\u001b[43m[\u001b[49m\u001b[33;43m'\u001b[39;49m\u001b[33;43mbatch_size\u001b[39;49m\u001b[33;43m'\u001b[39;49m\u001b[43m]\u001b[49m\u001b[43m,\u001b[49m\u001b[43m \u001b[49m\u001b[32;43m1\u001b[39;49m\u001b[43m)\u001b[49m\u001b[43m)\u001b[49m\u001b[43m)\u001b[49m\n\u001b[32m     79\u001b[39m \u001b[43m        \u001b[49m\u001b[38;5;28;43;01mif\u001b[39;49;00m\u001b[43m \u001b[49m\u001b[43mreal_imaginary_flag_\u001b[49m\n\u001b[32m     80\u001b[39m \u001b[43m        \u001b[49m\u001b[38;5;28;43;01melse\u001b[39;49;00m\u001b[43m \u001b[49m\u001b[43mtensor_from_array\u001b[49m\u001b[43m(\u001b[49m\u001b[43mnp\u001b[49m\u001b[43m.\u001b[49m\u001b[43mzeros\u001b[49m\u001b[43m(\u001b[49m\u001b[43mshape\u001b[49m\u001b[43m=\u001b[49m\u001b[43m(\u001b[49m\u001b[38;5;28;43mself\u001b[39;49m\u001b[43m.\u001b[49m\u001b[43mbatched_encoded_system\u001b[49m\u001b[43m[\u001b[49m\u001b[33;43m'\u001b[39;49m\u001b[33;43mbatch_size\u001b[39;49m\u001b[33;43m'\u001b[39;49m\u001b[43m]\u001b[49m\u001b[43m,\u001b[49m\u001b[43m \u001b[49m\u001b[32;43m1\u001b[39;49m\u001b[43m)\u001b[49m\u001b[43m)\u001b[49m\u001b[43m)\u001b[49m\n\u001b[32m     81\u001b[39m \u001b[43m    \u001b[49m\u001b[43m)\u001b[49m\n",
      "\u001b[36mFile \u001b[39m\u001b[32m~/anaconda3/envs/VQLenv/lib/python3.12/site-packages/pennylane/workflow/qnode.py:882\u001b[39m, in \u001b[36mQNode.__call__\u001b[39m\u001b[34m(self, *args, **kwargs)\u001b[39m\n\u001b[32m    879\u001b[39m     \u001b[38;5;28;01mfrom\u001b[39;00m\u001b[38;5;250m \u001b[39m\u001b[34;01m.\u001b[39;00m\u001b[34;01m_capture_qnode\u001b[39;00m\u001b[38;5;250m \u001b[39m\u001b[38;5;28;01mimport\u001b[39;00m capture_qnode  \u001b[38;5;66;03m# pylint: disable=import-outside-toplevel\u001b[39;00m\n\u001b[32m    881\u001b[39m     \u001b[38;5;28;01mreturn\u001b[39;00m capture_qnode(\u001b[38;5;28mself\u001b[39m, *args, **kwargs)\n\u001b[32m--> \u001b[39m\u001b[32m882\u001b[39m \u001b[38;5;28;01mreturn\u001b[39;00m \u001b[38;5;28;43mself\u001b[39;49m\u001b[43m.\u001b[49m\u001b[43m_impl_call\u001b[49m\u001b[43m(\u001b[49m\u001b[43m*\u001b[49m\u001b[43margs\u001b[49m\u001b[43m,\u001b[49m\u001b[43m \u001b[49m\u001b[43m*\u001b[49m\u001b[43m*\u001b[49m\u001b[43mkwargs\u001b[49m\u001b[43m)\u001b[49m\n",
      "\u001b[36mFile \u001b[39m\u001b[32m~/anaconda3/envs/VQLenv/lib/python3.12/site-packages/pennylane/workflow/qnode.py:855\u001b[39m, in \u001b[36mQNode._impl_call\u001b[39m\u001b[34m(self, *args, **kwargs)\u001b[39m\n\u001b[32m    852\u001b[39m \u001b[38;5;66;03m# Calculate the classical jacobians if necessary\u001b[39;00m\n\u001b[32m    853\u001b[39m \u001b[38;5;28mself\u001b[39m._transform_program.set_classical_component(\u001b[38;5;28mself\u001b[39m, args, kwargs)\n\u001b[32m--> \u001b[39m\u001b[32m855\u001b[39m res = \u001b[43mqml\u001b[49m\u001b[43m.\u001b[49m\u001b[43mexecute\u001b[49m\u001b[43m(\u001b[49m\n\u001b[32m    856\u001b[39m \u001b[43m    \u001b[49m\u001b[43m(\u001b[49m\u001b[43mtape\u001b[49m\u001b[43m,\u001b[49m\u001b[43m)\u001b[49m\u001b[43m,\u001b[49m\n\u001b[32m    857\u001b[39m \u001b[43m    \u001b[49m\u001b[43mdevice\u001b[49m\u001b[43m=\u001b[49m\u001b[38;5;28;43mself\u001b[39;49m\u001b[43m.\u001b[49m\u001b[43mdevice\u001b[49m\u001b[43m,\u001b[49m\n\u001b[32m    858\u001b[39m \u001b[43m    \u001b[49m\u001b[43mdiff_method\u001b[49m\u001b[43m=\u001b[49m\u001b[38;5;28;43mself\u001b[39;49m\u001b[43m.\u001b[49m\u001b[43mdiff_method\u001b[49m\u001b[43m,\u001b[49m\n\u001b[32m    859\u001b[39m \u001b[43m    \u001b[49m\u001b[43minterface\u001b[49m\u001b[43m=\u001b[49m\u001b[38;5;28;43mself\u001b[39;49m\u001b[43m.\u001b[49m\u001b[43minterface\u001b[49m\u001b[43m,\u001b[49m\n\u001b[32m    860\u001b[39m \u001b[43m    \u001b[49m\u001b[43mtransform_program\u001b[49m\u001b[43m=\u001b[49m\u001b[38;5;28;43mself\u001b[39;49m\u001b[43m.\u001b[49m\u001b[43m_transform_program\u001b[49m\u001b[43m,\u001b[49m\n\u001b[32m    861\u001b[39m \u001b[43m    \u001b[49m\u001b[43mgradient_kwargs\u001b[49m\u001b[43m=\u001b[49m\u001b[38;5;28;43mself\u001b[39;49m\u001b[43m.\u001b[49m\u001b[43mgradient_kwargs\u001b[49m\u001b[43m,\u001b[49m\n\u001b[32m    862\u001b[39m \u001b[43m    \u001b[49m\u001b[43m*\u001b[49m\u001b[43m*\u001b[49m\u001b[38;5;28;43mself\u001b[39;49m\u001b[43m.\u001b[49m\u001b[43mexecute_kwargs\u001b[49m\u001b[43m,\u001b[49m\n\u001b[32m    863\u001b[39m \u001b[43m\u001b[49m\u001b[43m)\u001b[49m\n\u001b[32m    864\u001b[39m res = res[\u001b[32m0\u001b[39m]\n\u001b[32m    866\u001b[39m \u001b[38;5;66;03m# convert result to the interface in case the qfunc has no parameters\u001b[39;00m\n",
      "\u001b[36mFile \u001b[39m\u001b[32m~/anaconda3/envs/VQLenv/lib/python3.12/site-packages/pennylane/workflow/execution.py:244\u001b[39m, in \u001b[36mexecute\u001b[39m\u001b[34m(tapes, device, diff_method, interface, transform_program, grad_on_execution, cache, cachesize, max_diff, device_vjp, postselect_mode, mcm_method, gradient_kwargs, mcm_config, config, inner_transform)\u001b[39m\n\u001b[32m    241\u001b[39m \u001b[38;5;28;01mif\u001b[39;00m transform_program.is_informative:\n\u001b[32m    242\u001b[39m     \u001b[38;5;28;01mreturn\u001b[39;00m post_processing(tapes)\n\u001b[32m--> \u001b[39m\u001b[32m244\u001b[39m results = \u001b[43mrun\u001b[49m\u001b[43m(\u001b[49m\u001b[43mtapes\u001b[49m\u001b[43m,\u001b[49m\u001b[43m \u001b[49m\u001b[43mdevice\u001b[49m\u001b[43m,\u001b[49m\u001b[43m \u001b[49m\u001b[43mconfig\u001b[49m\u001b[43m,\u001b[49m\u001b[43m \u001b[49m\u001b[43minner_transform\u001b[49m\u001b[43m)\u001b[49m\n\u001b[32m    245\u001b[39m \u001b[38;5;28;01mreturn\u001b[39;00m post_processing(results)\n",
      "\u001b[36mFile \u001b[39m\u001b[32m~/anaconda3/envs/VQLenv/lib/python3.12/site-packages/pennylane/workflow/run.py:286\u001b[39m, in \u001b[36mrun\u001b[39m\u001b[34m(tapes, device, config, inner_transform_program)\u001b[39m\n\u001b[32m    282\u001b[39m no_interface_boundary_required = (\n\u001b[32m    283\u001b[39m     config.interface == Interface.NUMPY \u001b[38;5;129;01mor\u001b[39;00m config.gradient_method == \u001b[33m\"\u001b[39m\u001b[33mbackprop\u001b[39m\u001b[33m\"\u001b[39m\n\u001b[32m    284\u001b[39m )\n\u001b[32m    285\u001b[39m \u001b[38;5;28;01mif\u001b[39;00m no_interface_boundary_required:\n\u001b[32m--> \u001b[39m\u001b[32m286\u001b[39m     results = \u001b[43minner_execute\u001b[49m\u001b[43m(\u001b[49m\u001b[43mtapes\u001b[49m\u001b[43m)\u001b[49m\n\u001b[32m    287\u001b[39m     \u001b[38;5;28;01mreturn\u001b[39;00m results\n\u001b[32m    289\u001b[39m \u001b[38;5;66;03m# TODO: Prune once support for tf-autograph is dropped\u001b[39;00m\n",
      "\u001b[36mFile \u001b[39m\u001b[32m~/anaconda3/envs/VQLenv/lib/python3.12/site-packages/pennylane/workflow/run.py:251\u001b[39m, in \u001b[36m_make_inner_execute.<locals>.inner_execute\u001b[39m\u001b[34m(tapes)\u001b[39m\n\u001b[32m    248\u001b[39m transformed_tapes, transform_post_processing = inner_transform(tapes)\n\u001b[32m    250\u001b[39m \u001b[38;5;28;01mif\u001b[39;00m transformed_tapes:\n\u001b[32m--> \u001b[39m\u001b[32m251\u001b[39m     results = \u001b[43mdevice\u001b[49m\u001b[43m.\u001b[49m\u001b[43mexecute\u001b[49m\u001b[43m(\u001b[49m\u001b[43mtransformed_tapes\u001b[49m\u001b[43m,\u001b[49m\u001b[43m \u001b[49m\u001b[43mexecution_config\u001b[49m\u001b[43m=\u001b[49m\u001b[43mexecution_config\u001b[49m\u001b[43m)\u001b[49m\n\u001b[32m    252\u001b[39m \u001b[38;5;28;01melse\u001b[39;00m:\n\u001b[32m    253\u001b[39m     results = ()\n",
      "\u001b[36mFile \u001b[39m\u001b[32m~/anaconda3/envs/VQLenv/lib/python3.12/site-packages/pennylane/devices/modifiers/simulator_tracking.py:28\u001b[39m, in \u001b[36m_track_execute.<locals>.execute\u001b[39m\u001b[34m(self, circuits, execution_config)\u001b[39m\n\u001b[32m     26\u001b[39m \u001b[38;5;129m@wraps\u001b[39m(untracked_execute)\n\u001b[32m     27\u001b[39m \u001b[38;5;28;01mdef\u001b[39;00m\u001b[38;5;250m \u001b[39m\u001b[34mexecute\u001b[39m(\u001b[38;5;28mself\u001b[39m, circuits, execution_config=DefaultExecutionConfig):\n\u001b[32m---> \u001b[39m\u001b[32m28\u001b[39m     results = \u001b[43muntracked_execute\u001b[49m\u001b[43m(\u001b[49m\u001b[38;5;28;43mself\u001b[39;49m\u001b[43m,\u001b[49m\u001b[43m \u001b[49m\u001b[43mcircuits\u001b[49m\u001b[43m,\u001b[49m\u001b[43m \u001b[49m\u001b[43mexecution_config\u001b[49m\u001b[43m)\u001b[49m\n\u001b[32m     29\u001b[39m     \u001b[38;5;28;01mif\u001b[39;00m \u001b[38;5;28misinstance\u001b[39m(circuits, QuantumScript):\n\u001b[32m     30\u001b[39m         batch = (circuits,)\n",
      "\u001b[36mFile \u001b[39m\u001b[32m~/anaconda3/envs/VQLenv/lib/python3.12/site-packages/pennylane/devices/modifiers/single_tape_support.py:30\u001b[39m, in \u001b[36m_make_execute.<locals>.execute\u001b[39m\u001b[34m(self, circuits, execution_config)\u001b[39m\n\u001b[32m     28\u001b[39m     is_single_circuit = \u001b[38;5;28;01mTrue\u001b[39;00m\n\u001b[32m     29\u001b[39m     circuits = (circuits,)\n\u001b[32m---> \u001b[39m\u001b[32m30\u001b[39m results = \u001b[43mbatch_execute\u001b[49m\u001b[43m(\u001b[49m\u001b[38;5;28;43mself\u001b[39;49m\u001b[43m,\u001b[49m\u001b[43m \u001b[49m\u001b[43mcircuits\u001b[49m\u001b[43m,\u001b[49m\u001b[43m \u001b[49m\u001b[43mexecution_config\u001b[49m\u001b[43m)\u001b[49m\n\u001b[32m     31\u001b[39m \u001b[38;5;28;01mreturn\u001b[39;00m results[\u001b[32m0\u001b[39m] \u001b[38;5;28;01mif\u001b[39;00m is_single_circuit \u001b[38;5;28;01melse\u001b[39;00m results\n",
      "\u001b[36mFile \u001b[39m\u001b[32m~/anaconda3/envs/VQLenv/lib/python3.12/site-packages/pennylane/logging/decorators.py:61\u001b[39m, in \u001b[36mlog_string_debug_func.<locals>.wrapper_entry\u001b[39m\u001b[34m(*args, **kwargs)\u001b[39m\n\u001b[32m     54\u001b[39m     s_caller = \u001b[33m\"\u001b[39m\u001b[33m::L\u001b[39m\u001b[33m\"\u001b[39m.join(\n\u001b[32m     55\u001b[39m         [\u001b[38;5;28mstr\u001b[39m(i) \u001b[38;5;28;01mfor\u001b[39;00m i \u001b[38;5;129;01min\u001b[39;00m inspect.getouterframes(inspect.currentframe(), \u001b[32m2\u001b[39m)[\u001b[32m1\u001b[39m][\u001b[32m1\u001b[39m:\u001b[32m3\u001b[39m]]\n\u001b[32m     56\u001b[39m     )\n\u001b[32m     57\u001b[39m     lgr.debug(\n\u001b[32m     58\u001b[39m         \u001b[33mf\u001b[39m\u001b[33m\"\u001b[39m\u001b[33mCalling \u001b[39m\u001b[38;5;132;01m{\u001b[39;00mf_string\u001b[38;5;132;01m}\u001b[39;00m\u001b[33m from \u001b[39m\u001b[38;5;132;01m{\u001b[39;00ms_caller\u001b[38;5;132;01m}\u001b[39;00m\u001b[33m\"\u001b[39m,\n\u001b[32m     59\u001b[39m         **_debug_log_kwargs,\n\u001b[32m     60\u001b[39m     )\n\u001b[32m---> \u001b[39m\u001b[32m61\u001b[39m \u001b[38;5;28;01mreturn\u001b[39;00m \u001b[43mfunc\u001b[49m\u001b[43m(\u001b[49m\u001b[43m*\u001b[49m\u001b[43margs\u001b[49m\u001b[43m,\u001b[49m\u001b[43m \u001b[49m\u001b[43m*\u001b[49m\u001b[43m*\u001b[49m\u001b[43mkwargs\u001b[49m\u001b[43m)\u001b[49m\n",
      "\u001b[36mFile \u001b[39m\u001b[32m~/anaconda3/envs/VQLenv/lib/python3.12/site-packages/pennylane/devices/default_qubit.py:719\u001b[39m, in \u001b[36mDefaultQubit.execute\u001b[39m\u001b[34m(self, circuits, execution_config)\u001b[39m\n\u001b[32m    709\u001b[39m     warnings.warn(\n\u001b[32m    710\u001b[39m         (\n\u001b[32m    711\u001b[39m             \u001b[33m\"\u001b[39m\u001b[33mJitting executions with many circuits may have substantial classical overhead.\u001b[39m\u001b[33m\"\u001b[39m\n\u001b[32m   (...)\u001b[39m\u001b[32m    714\u001b[39m         \u001b[38;5;167;01mUserWarning\u001b[39;00m,\n\u001b[32m    715\u001b[39m     )\n\u001b[32m    717\u001b[39m \u001b[38;5;28;01mif\u001b[39;00m max_workers \u001b[38;5;129;01mis\u001b[39;00m \u001b[38;5;28;01mNone\u001b[39;00m:\n\u001b[32m--> \u001b[39m\u001b[32m719\u001b[39m     \u001b[38;5;28;01mreturn\u001b[39;00m \u001b[38;5;28;43mtuple\u001b[39;49m\u001b[43m(\u001b[49m\n\u001b[32m    720\u001b[39m \u001b[43m        \u001b[49m\u001b[43m_simulate_wrapper\u001b[49m\u001b[43m(\u001b[49m\n\u001b[32m    721\u001b[39m \u001b[43m            \u001b[49m\u001b[43mc\u001b[49m\u001b[43m,\u001b[49m\n\u001b[32m    722\u001b[39m \u001b[43m            \u001b[49m\u001b[43m{\u001b[49m\n\u001b[32m    723\u001b[39m \u001b[43m                \u001b[49m\u001b[33;43m\"\u001b[39;49m\u001b[33;43mrng\u001b[39;49m\u001b[33;43m\"\u001b[39;49m\u001b[43m:\u001b[49m\u001b[43m \u001b[49m\u001b[38;5;28;43mself\u001b[39;49m\u001b[43m.\u001b[49m\u001b[43m_rng\u001b[49m\u001b[43m,\u001b[49m\n\u001b[32m    724\u001b[39m \u001b[43m                \u001b[49m\u001b[33;43m\"\u001b[39;49m\u001b[33;43mdebugger\u001b[39;49m\u001b[33;43m\"\u001b[39;49m\u001b[43m:\u001b[49m\u001b[43m \u001b[49m\u001b[38;5;28;43mself\u001b[39;49m\u001b[43m.\u001b[49m\u001b[43m_debugger\u001b[49m\u001b[43m,\u001b[49m\n\u001b[32m    725\u001b[39m \u001b[43m                \u001b[49m\u001b[33;43m\"\u001b[39;49m\u001b[33;43minterface\u001b[39;49m\u001b[33;43m\"\u001b[39;49m\u001b[43m:\u001b[49m\u001b[43m \u001b[49m\u001b[43minterface\u001b[49m\u001b[43m,\u001b[49m\n\u001b[32m    726\u001b[39m \u001b[43m                \u001b[49m\u001b[33;43m\"\u001b[39;49m\u001b[33;43mstate_cache\u001b[39;49m\u001b[33;43m\"\u001b[39;49m\u001b[43m:\u001b[49m\u001b[43m \u001b[49m\u001b[38;5;28;43mself\u001b[39;49m\u001b[43m.\u001b[49m\u001b[43m_state_cache\u001b[49m\u001b[43m,\u001b[49m\n\u001b[32m    727\u001b[39m \u001b[43m                \u001b[49m\u001b[33;43m\"\u001b[39;49m\u001b[33;43mprng_key\u001b[39;49m\u001b[33;43m\"\u001b[39;49m\u001b[43m:\u001b[49m\u001b[43m \u001b[49m\u001b[43m_key\u001b[49m\u001b[43m,\u001b[49m\n\u001b[32m    728\u001b[39m \u001b[43m                \u001b[49m\u001b[33;43m\"\u001b[39;49m\u001b[33;43mmcm_method\u001b[39;49m\u001b[33;43m\"\u001b[39;49m\u001b[43m:\u001b[49m\u001b[43m \u001b[49m\u001b[43mexecution_config\u001b[49m\u001b[43m.\u001b[49m\u001b[43mmcm_config\u001b[49m\u001b[43m.\u001b[49m\u001b[43mmcm_method\u001b[49m\u001b[43m,\u001b[49m\n\u001b[32m    729\u001b[39m \u001b[43m                \u001b[49m\u001b[33;43m\"\u001b[39;49m\u001b[33;43mpostselect_mode\u001b[39;49m\u001b[33;43m\"\u001b[39;49m\u001b[43m:\u001b[49m\u001b[43m \u001b[49m\u001b[43mexecution_config\u001b[49m\u001b[43m.\u001b[49m\u001b[43mmcm_config\u001b[49m\u001b[43m.\u001b[49m\u001b[43mpostselect_mode\u001b[49m\u001b[43m,\u001b[49m\n\u001b[32m    730\u001b[39m \u001b[43m            \u001b[49m\u001b[43m}\u001b[49m\u001b[43m,\u001b[49m\n\u001b[32m    731\u001b[39m \u001b[43m        \u001b[49m\u001b[43m)\u001b[49m\n\u001b[32m    732\u001b[39m \u001b[43m        \u001b[49m\u001b[38;5;28;43;01mfor\u001b[39;49;00m\u001b[43m \u001b[49m\u001b[43mc\u001b[49m\u001b[43m,\u001b[49m\u001b[43m \u001b[49m\u001b[43m_key\u001b[49m\u001b[43m \u001b[49m\u001b[38;5;129;43;01min\u001b[39;49;00m\u001b[43m \u001b[49m\u001b[38;5;28;43mzip\u001b[39;49m\u001b[43m(\u001b[49m\u001b[43mcircuits\u001b[49m\u001b[43m,\u001b[49m\u001b[43m \u001b[49m\u001b[43mprng_keys\u001b[49m\u001b[43m)\u001b[49m\n\u001b[32m    733\u001b[39m \u001b[43m    \u001b[49m\u001b[43m)\u001b[49m\n\u001b[32m    735\u001b[39m vanilla_circuits = convert_to_numpy_parameters(circuits)[\u001b[32m0\u001b[39m]\n\u001b[32m    736\u001b[39m seeds = \u001b[38;5;28mself\u001b[39m._rng.integers(\u001b[32m2\u001b[39m**\u001b[32m31\u001b[39m - \u001b[32m1\u001b[39m, size=\u001b[38;5;28mlen\u001b[39m(vanilla_circuits))\n",
      "\u001b[36mFile \u001b[39m\u001b[32m~/anaconda3/envs/VQLenv/lib/python3.12/site-packages/pennylane/devices/default_qubit.py:720\u001b[39m, in \u001b[36m<genexpr>\u001b[39m\u001b[34m(.0)\u001b[39m\n\u001b[32m    709\u001b[39m     warnings.warn(\n\u001b[32m    710\u001b[39m         (\n\u001b[32m    711\u001b[39m             \u001b[33m\"\u001b[39m\u001b[33mJitting executions with many circuits may have substantial classical overhead.\u001b[39m\u001b[33m\"\u001b[39m\n\u001b[32m   (...)\u001b[39m\u001b[32m    714\u001b[39m         \u001b[38;5;167;01mUserWarning\u001b[39;00m,\n\u001b[32m    715\u001b[39m     )\n\u001b[32m    717\u001b[39m \u001b[38;5;28;01mif\u001b[39;00m max_workers \u001b[38;5;129;01mis\u001b[39;00m \u001b[38;5;28;01mNone\u001b[39;00m:\n\u001b[32m    719\u001b[39m     \u001b[38;5;28;01mreturn\u001b[39;00m \u001b[38;5;28mtuple\u001b[39m(\n\u001b[32m--> \u001b[39m\u001b[32m720\u001b[39m         \u001b[43m_simulate_wrapper\u001b[49m\u001b[43m(\u001b[49m\n\u001b[32m    721\u001b[39m \u001b[43m            \u001b[49m\u001b[43mc\u001b[49m\u001b[43m,\u001b[49m\n\u001b[32m    722\u001b[39m \u001b[43m            \u001b[49m\u001b[43m{\u001b[49m\n\u001b[32m    723\u001b[39m \u001b[43m                \u001b[49m\u001b[33;43m\"\u001b[39;49m\u001b[33;43mrng\u001b[39;49m\u001b[33;43m\"\u001b[39;49m\u001b[43m:\u001b[49m\u001b[43m \u001b[49m\u001b[38;5;28;43mself\u001b[39;49m\u001b[43m.\u001b[49m\u001b[43m_rng\u001b[49m\u001b[43m,\u001b[49m\n\u001b[32m    724\u001b[39m \u001b[43m                \u001b[49m\u001b[33;43m\"\u001b[39;49m\u001b[33;43mdebugger\u001b[39;49m\u001b[33;43m\"\u001b[39;49m\u001b[43m:\u001b[49m\u001b[43m \u001b[49m\u001b[38;5;28;43mself\u001b[39;49m\u001b[43m.\u001b[49m\u001b[43m_debugger\u001b[49m\u001b[43m,\u001b[49m\n\u001b[32m    725\u001b[39m \u001b[43m                \u001b[49m\u001b[33;43m\"\u001b[39;49m\u001b[33;43minterface\u001b[39;49m\u001b[33;43m\"\u001b[39;49m\u001b[43m:\u001b[49m\u001b[43m \u001b[49m\u001b[43minterface\u001b[49m\u001b[43m,\u001b[49m\n\u001b[32m    726\u001b[39m \u001b[43m                \u001b[49m\u001b[33;43m\"\u001b[39;49m\u001b[33;43mstate_cache\u001b[39;49m\u001b[33;43m\"\u001b[39;49m\u001b[43m:\u001b[49m\u001b[43m \u001b[49m\u001b[38;5;28;43mself\u001b[39;49m\u001b[43m.\u001b[49m\u001b[43m_state_cache\u001b[49m\u001b[43m,\u001b[49m\n\u001b[32m    727\u001b[39m \u001b[43m                \u001b[49m\u001b[33;43m\"\u001b[39;49m\u001b[33;43mprng_key\u001b[39;49m\u001b[33;43m\"\u001b[39;49m\u001b[43m:\u001b[49m\u001b[43m \u001b[49m\u001b[43m_key\u001b[49m\u001b[43m,\u001b[49m\n\u001b[32m    728\u001b[39m \u001b[43m                \u001b[49m\u001b[33;43m\"\u001b[39;49m\u001b[33;43mmcm_method\u001b[39;49m\u001b[33;43m\"\u001b[39;49m\u001b[43m:\u001b[49m\u001b[43m \u001b[49m\u001b[43mexecution_config\u001b[49m\u001b[43m.\u001b[49m\u001b[43mmcm_config\u001b[49m\u001b[43m.\u001b[49m\u001b[43mmcm_method\u001b[49m\u001b[43m,\u001b[49m\n\u001b[32m    729\u001b[39m \u001b[43m                \u001b[49m\u001b[33;43m\"\u001b[39;49m\u001b[33;43mpostselect_mode\u001b[39;49m\u001b[33;43m\"\u001b[39;49m\u001b[43m:\u001b[49m\u001b[43m \u001b[49m\u001b[43mexecution_config\u001b[49m\u001b[43m.\u001b[49m\u001b[43mmcm_config\u001b[49m\u001b[43m.\u001b[49m\u001b[43mpostselect_mode\u001b[49m\u001b[43m,\u001b[49m\n\u001b[32m    730\u001b[39m \u001b[43m            \u001b[49m\u001b[43m}\u001b[49m\u001b[43m,\u001b[49m\n\u001b[32m    731\u001b[39m \u001b[43m        \u001b[49m\u001b[43m)\u001b[49m\n\u001b[32m    732\u001b[39m         \u001b[38;5;28;01mfor\u001b[39;00m c, _key \u001b[38;5;129;01min\u001b[39;00m \u001b[38;5;28mzip\u001b[39m(circuits, prng_keys)\n\u001b[32m    733\u001b[39m     )\n\u001b[32m    735\u001b[39m vanilla_circuits = convert_to_numpy_parameters(circuits)[\u001b[32m0\u001b[39m]\n\u001b[32m    736\u001b[39m seeds = \u001b[38;5;28mself\u001b[39m._rng.integers(\u001b[32m2\u001b[39m**\u001b[32m31\u001b[39m - \u001b[32m1\u001b[39m, size=\u001b[38;5;28mlen\u001b[39m(vanilla_circuits))\n",
      "\u001b[36mFile \u001b[39m\u001b[32m~/anaconda3/envs/VQLenv/lib/python3.12/site-packages/pennylane/devices/default_qubit.py:1053\u001b[39m, in \u001b[36m_simulate_wrapper\u001b[39m\u001b[34m(circuit, kwargs)\u001b[39m\n\u001b[32m   1052\u001b[39m \u001b[38;5;28;01mdef\u001b[39;00m\u001b[38;5;250m \u001b[39m\u001b[34m_simulate_wrapper\u001b[39m(circuit, kwargs):\n\u001b[32m-> \u001b[39m\u001b[32m1053\u001b[39m     \u001b[38;5;28;01mreturn\u001b[39;00m \u001b[43msimulate\u001b[49m\u001b[43m(\u001b[49m\u001b[43mcircuit\u001b[49m\u001b[43m,\u001b[49m\u001b[43m \u001b[49m\u001b[43m*\u001b[49m\u001b[43m*\u001b[49m\u001b[43mkwargs\u001b[49m\u001b[43m)\u001b[49m\n",
      "\u001b[36mFile \u001b[39m\u001b[32m~/anaconda3/envs/VQLenv/lib/python3.12/site-packages/pennylane/logging/decorators.py:61\u001b[39m, in \u001b[36mlog_string_debug_func.<locals>.wrapper_entry\u001b[39m\u001b[34m(*args, **kwargs)\u001b[39m\n\u001b[32m     54\u001b[39m     s_caller = \u001b[33m\"\u001b[39m\u001b[33m::L\u001b[39m\u001b[33m\"\u001b[39m.join(\n\u001b[32m     55\u001b[39m         [\u001b[38;5;28mstr\u001b[39m(i) \u001b[38;5;28;01mfor\u001b[39;00m i \u001b[38;5;129;01min\u001b[39;00m inspect.getouterframes(inspect.currentframe(), \u001b[32m2\u001b[39m)[\u001b[32m1\u001b[39m][\u001b[32m1\u001b[39m:\u001b[32m3\u001b[39m]]\n\u001b[32m     56\u001b[39m     )\n\u001b[32m     57\u001b[39m     lgr.debug(\n\u001b[32m     58\u001b[39m         \u001b[33mf\u001b[39m\u001b[33m\"\u001b[39m\u001b[33mCalling \u001b[39m\u001b[38;5;132;01m{\u001b[39;00mf_string\u001b[38;5;132;01m}\u001b[39;00m\u001b[33m from \u001b[39m\u001b[38;5;132;01m{\u001b[39;00ms_caller\u001b[38;5;132;01m}\u001b[39;00m\u001b[33m\"\u001b[39m,\n\u001b[32m     59\u001b[39m         **_debug_log_kwargs,\n\u001b[32m     60\u001b[39m     )\n\u001b[32m---> \u001b[39m\u001b[32m61\u001b[39m \u001b[38;5;28;01mreturn\u001b[39;00m \u001b[43mfunc\u001b[49m\u001b[43m(\u001b[49m\u001b[43m*\u001b[49m\u001b[43margs\u001b[49m\u001b[43m,\u001b[49m\u001b[43m \u001b[49m\u001b[43m*\u001b[49m\u001b[43m*\u001b[49m\u001b[43mkwargs\u001b[49m\u001b[43m)\u001b[49m\n",
      "\u001b[36mFile \u001b[39m\u001b[32m~/anaconda3/envs/VQLenv/lib/python3.12/site-packages/pennylane/devices/qubit/simulate.py:357\u001b[39m, in \u001b[36msimulate\u001b[39m\u001b[34m(circuit, debugger, state_cache, **execution_kwargs)\u001b[39m\n\u001b[32m    354\u001b[39m     \u001b[38;5;28;01mreturn\u001b[39;00m \u001b[38;5;28mtuple\u001b[39m(results)\n\u001b[32m    356\u001b[39m ops_key, meas_key = jax_random_split(prng_key)\n\u001b[32m--> \u001b[39m\u001b[32m357\u001b[39m state, is_state_batched = \u001b[43mget_final_state\u001b[49m\u001b[43m(\u001b[49m\n\u001b[32m    358\u001b[39m \u001b[43m    \u001b[49m\u001b[43mcircuit\u001b[49m\u001b[43m,\u001b[49m\u001b[43m \u001b[49m\u001b[43mdebugger\u001b[49m\u001b[43m=\u001b[49m\u001b[43mdebugger\u001b[49m\u001b[43m,\u001b[49m\u001b[43m \u001b[49m\u001b[43mprng_key\u001b[49m\u001b[43m=\u001b[49m\u001b[43mops_key\u001b[49m\u001b[43m,\u001b[49m\u001b[43m \u001b[49m\u001b[43m*\u001b[49m\u001b[43m*\u001b[49m\u001b[43mexecution_kwargs\u001b[49m\n\u001b[32m    359\u001b[39m \u001b[43m\u001b[49m\u001b[43m)\u001b[49m\n\u001b[32m    360\u001b[39m \u001b[38;5;28;01mif\u001b[39;00m state_cache \u001b[38;5;129;01mis\u001b[39;00m \u001b[38;5;129;01mnot\u001b[39;00m \u001b[38;5;28;01mNone\u001b[39;00m:\n\u001b[32m    361\u001b[39m     state_cache[circuit.hash] = state\n",
      "\u001b[36mFile \u001b[39m\u001b[32m~/anaconda3/envs/VQLenv/lib/python3.12/site-packages/pennylane/logging/decorators.py:61\u001b[39m, in \u001b[36mlog_string_debug_func.<locals>.wrapper_entry\u001b[39m\u001b[34m(*args, **kwargs)\u001b[39m\n\u001b[32m     54\u001b[39m     s_caller = \u001b[33m\"\u001b[39m\u001b[33m::L\u001b[39m\u001b[33m\"\u001b[39m.join(\n\u001b[32m     55\u001b[39m         [\u001b[38;5;28mstr\u001b[39m(i) \u001b[38;5;28;01mfor\u001b[39;00m i \u001b[38;5;129;01min\u001b[39;00m inspect.getouterframes(inspect.currentframe(), \u001b[32m2\u001b[39m)[\u001b[32m1\u001b[39m][\u001b[32m1\u001b[39m:\u001b[32m3\u001b[39m]]\n\u001b[32m     56\u001b[39m     )\n\u001b[32m     57\u001b[39m     lgr.debug(\n\u001b[32m     58\u001b[39m         \u001b[33mf\u001b[39m\u001b[33m\"\u001b[39m\u001b[33mCalling \u001b[39m\u001b[38;5;132;01m{\u001b[39;00mf_string\u001b[38;5;132;01m}\u001b[39;00m\u001b[33m from \u001b[39m\u001b[38;5;132;01m{\u001b[39;00ms_caller\u001b[38;5;132;01m}\u001b[39;00m\u001b[33m\"\u001b[39m,\n\u001b[32m     59\u001b[39m         **_debug_log_kwargs,\n\u001b[32m     60\u001b[39m     )\n\u001b[32m---> \u001b[39m\u001b[32m61\u001b[39m \u001b[38;5;28;01mreturn\u001b[39;00m \u001b[43mfunc\u001b[49m\u001b[43m(\u001b[49m\u001b[43m*\u001b[49m\u001b[43margs\u001b[49m\u001b[43m,\u001b[49m\u001b[43m \u001b[49m\u001b[43m*\u001b[49m\u001b[43m*\u001b[49m\u001b[43mkwargs\u001b[49m\u001b[43m)\u001b[49m\n",
      "\u001b[36mFile \u001b[39m\u001b[32m~/anaconda3/envs/VQLenv/lib/python3.12/site-packages/pennylane/devices/qubit/simulate.py:190\u001b[39m, in \u001b[36mget_final_state\u001b[39m\u001b[34m(circuit, debugger, **execution_kwargs)\u001b[39m\n\u001b[32m    188\u001b[39m \u001b[38;5;28;01mif\u001b[39;00m \u001b[38;5;28misinstance\u001b[39m(op, MidMeasureMP):\n\u001b[32m    189\u001b[39m     prng_key, key = jax_random_split(prng_key)\n\u001b[32m--> \u001b[39m\u001b[32m190\u001b[39m state = \u001b[43mapply_operation\u001b[49m\u001b[43m(\u001b[49m\n\u001b[32m    191\u001b[39m \u001b[43m    \u001b[49m\u001b[43mop\u001b[49m\u001b[43m,\u001b[49m\n\u001b[32m    192\u001b[39m \u001b[43m    \u001b[49m\u001b[43mstate\u001b[49m\u001b[43m,\u001b[49m\n\u001b[32m    193\u001b[39m \u001b[43m    \u001b[49m\u001b[43mis_state_batched\u001b[49m\u001b[43m=\u001b[49m\u001b[43mis_state_batched\u001b[49m\u001b[43m,\u001b[49m\n\u001b[32m    194\u001b[39m \u001b[43m    \u001b[49m\u001b[43mdebugger\u001b[49m\u001b[43m=\u001b[49m\u001b[43mdebugger\u001b[49m\u001b[43m,\u001b[49m\n\u001b[32m    195\u001b[39m \u001b[43m    \u001b[49m\u001b[43mprng_key\u001b[49m\u001b[43m=\u001b[49m\u001b[43mkey\u001b[49m\u001b[43m,\u001b[49m\n\u001b[32m    196\u001b[39m \u001b[43m    \u001b[49m\u001b[43mtape_shots\u001b[49m\u001b[43m=\u001b[49m\u001b[43mcircuit\u001b[49m\u001b[43m.\u001b[49m\u001b[43mshots\u001b[49m\u001b[43m,\u001b[49m\n\u001b[32m    197\u001b[39m \u001b[43m    \u001b[49m\u001b[43m*\u001b[49m\u001b[43m*\u001b[49m\u001b[43mexecution_kwargs\u001b[49m\u001b[43m,\u001b[49m\n\u001b[32m    198\u001b[39m \u001b[43m\u001b[49m\u001b[43m)\u001b[49m\n\u001b[32m    199\u001b[39m \u001b[38;5;66;03m# Handle postselection on mid-circuit measurements\u001b[39;00m\n\u001b[32m    200\u001b[39m \u001b[38;5;28;01mif\u001b[39;00m \u001b[38;5;28misinstance\u001b[39m(op, qml.Projector):\n",
      "\u001b[36mFile \u001b[39m\u001b[32m~/anaconda3/envs/VQLenv/lib/python3.12/functools.py:912\u001b[39m, in \u001b[36msingledispatch.<locals>.wrapper\u001b[39m\u001b[34m(*args, **kw)\u001b[39m\n\u001b[32m    908\u001b[39m \u001b[38;5;28;01mif\u001b[39;00m \u001b[38;5;129;01mnot\u001b[39;00m args:\n\u001b[32m    909\u001b[39m     \u001b[38;5;28;01mraise\u001b[39;00m \u001b[38;5;167;01mTypeError\u001b[39;00m(\u001b[33mf\u001b[39m\u001b[33m'\u001b[39m\u001b[38;5;132;01m{\u001b[39;00mfuncname\u001b[38;5;132;01m}\u001b[39;00m\u001b[33m requires at least \u001b[39m\u001b[33m'\u001b[39m\n\u001b[32m    910\u001b[39m                     \u001b[33m'\u001b[39m\u001b[33m1 positional argument\u001b[39m\u001b[33m'\u001b[39m)\n\u001b[32m--> \u001b[39m\u001b[32m912\u001b[39m \u001b[38;5;28;01mreturn\u001b[39;00m \u001b[43mdispatch\u001b[49m\u001b[43m(\u001b[49m\u001b[43margs\u001b[49m\u001b[43m[\u001b[49m\u001b[32;43m0\u001b[39;49m\u001b[43m]\u001b[49m\u001b[43m.\u001b[49m\u001b[34;43m__class__\u001b[39;49m\u001b[43m)\u001b[49m\u001b[43m(\u001b[49m\u001b[43m*\u001b[49m\u001b[43margs\u001b[49m\u001b[43m,\u001b[49m\u001b[43m \u001b[49m\u001b[43m*\u001b[49m\u001b[43m*\u001b[49m\u001b[43mkw\u001b[49m\u001b[43m)\u001b[49m\n",
      "\u001b[36mFile \u001b[39m\u001b[32m~/anaconda3/envs/VQLenv/lib/python3.12/site-packages/pennylane/devices/qubit/apply_operation.py:232\u001b[39m, in \u001b[36mapply_operation\u001b[39m\u001b[34m(op, state, is_state_batched, debugger, **_)\u001b[39m\n\u001b[32m    166\u001b[39m \u001b[38;5;129m@singledispatch\u001b[39m\n\u001b[32m    167\u001b[39m \u001b[38;5;28;01mdef\u001b[39;00m\u001b[38;5;250m \u001b[39m\u001b[34mapply_operation\u001b[39m(\n\u001b[32m    168\u001b[39m     op: qml.operation.Operator,\n\u001b[32m   (...)\u001b[39m\u001b[32m    172\u001b[39m     **_,\n\u001b[32m    173\u001b[39m ):\n\u001b[32m    174\u001b[39m \u001b[38;5;250m    \u001b[39m\u001b[33;03m\"\"\"Apply and operator to a given state.\u001b[39;00m\n\u001b[32m    175\u001b[39m \n\u001b[32m    176\u001b[39m \u001b[33;03m    Args:\u001b[39;00m\n\u001b[32m   (...)\u001b[39m\u001b[32m    230\u001b[39m \n\u001b[32m    231\u001b[39m \u001b[33;03m    \"\"\"\u001b[39;00m\n\u001b[32m--> \u001b[39m\u001b[32m232\u001b[39m     \u001b[38;5;28;01mreturn\u001b[39;00m \u001b[43m_apply_operation_default\u001b[49m\u001b[43m(\u001b[49m\u001b[43mop\u001b[49m\u001b[43m,\u001b[49m\u001b[43m \u001b[49m\u001b[43mstate\u001b[49m\u001b[43m,\u001b[49m\u001b[43m \u001b[49m\u001b[43mis_state_batched\u001b[49m\u001b[43m,\u001b[49m\u001b[43m \u001b[49m\u001b[43mdebugger\u001b[49m\u001b[43m)\u001b[49m\n",
      "\u001b[36mFile \u001b[39m\u001b[32m~/anaconda3/envs/VQLenv/lib/python3.12/site-packages/pennylane/devices/qubit/apply_operation.py:258\u001b[39m, in \u001b[36m_apply_operation_default\u001b[39m\u001b[34m(op, state, is_state_batched, debugger)\u001b[39m\n\u001b[32m    253\u001b[39m     \u001b[38;5;28;01mreturn\u001b[39;00m apply_operation_csr_matrix(op, state, is_state_batched=is_state_batched)\n\u001b[32m    254\u001b[39m \u001b[38;5;28;01mif\u001b[39;00m (\n\u001b[32m    255\u001b[39m     \u001b[38;5;28mlen\u001b[39m(op.wires) < EINSUM_OP_WIRECOUNT_PERF_THRESHOLD\n\u001b[32m    256\u001b[39m     \u001b[38;5;129;01mand\u001b[39;00m math.ndim(state) < EINSUM_STATE_WIRECOUNT_PERF_THRESHOLD\n\u001b[32m    257\u001b[39m ) \u001b[38;5;129;01mor\u001b[39;00m (op.batch_size \u001b[38;5;129;01mand\u001b[39;00m is_state_batched):\n\u001b[32m--> \u001b[39m\u001b[32m258\u001b[39m     \u001b[38;5;28;01mreturn\u001b[39;00m \u001b[43mapply_operation_einsum\u001b[49m\u001b[43m(\u001b[49m\u001b[43mop\u001b[49m\u001b[43m,\u001b[49m\u001b[43m \u001b[49m\u001b[43mstate\u001b[49m\u001b[43m,\u001b[49m\u001b[43m \u001b[49m\u001b[43mis_state_batched\u001b[49m\u001b[43m=\u001b[49m\u001b[43mis_state_batched\u001b[49m\u001b[43m)\u001b[49m\n\u001b[32m    259\u001b[39m \u001b[38;5;28;01mreturn\u001b[39;00m apply_operation_tensordot(op, state, is_state_batched=is_state_batched)\n",
      "\u001b[36mFile \u001b[39m\u001b[32m~/anaconda3/envs/VQLenv/lib/python3.12/site-packages/pennylane/devices/qubit/apply_operation.py:81\u001b[39m, in \u001b[36mapply_operation_einsum\u001b[39m\u001b[34m(op, state, is_state_batched)\u001b[39m\n\u001b[32m     79\u001b[39m     mat = qml.math.cast_like(op.matrix(), state)\n\u001b[32m     80\u001b[39m \u001b[38;5;28;01melse\u001b[39;00m:\n\u001b[32m---> \u001b[39m\u001b[32m81\u001b[39m     mat = \u001b[43mop\u001b[49m\u001b[43m.\u001b[49m\u001b[43mmatrix\u001b[49m\u001b[43m(\u001b[49m\u001b[43m)\u001b[49m + \u001b[32m0\u001b[39mj\n\u001b[32m     83\u001b[39m total_indices = \u001b[38;5;28mlen\u001b[39m(state.shape) - is_state_batched\n\u001b[32m     84\u001b[39m num_indices = \u001b[38;5;28mlen\u001b[39m(op.wires)\n",
      "\u001b[36mFile \u001b[39m\u001b[32m~/anaconda3/envs/VQLenv/lib/python3.12/site-packages/pennylane/ops/op_math/controlled.py:679\u001b[39m, in \u001b[36mControlled.matrix\u001b[39m\u001b[34m(self, wire_order)\u001b[39m\n\u001b[32m    677\u001b[39m     canonical_matrix = \u001b[38;5;28mself\u001b[39m.compute_matrix(*\u001b[38;5;28mself\u001b[39m.data)\n\u001b[32m    678\u001b[39m \u001b[38;5;28;01melse\u001b[39;00m:\n\u001b[32m--> \u001b[39m\u001b[32m679\u001b[39m     canonical_matrix = \u001b[38;5;28;43mself\u001b[39;49m\u001b[43m.\u001b[49m\u001b[43m_compute_matrix_from_base\u001b[49m\u001b[43m(\u001b[49m\u001b[43m)\u001b[49m\n\u001b[32m    681\u001b[39m wire_order = wire_order \u001b[38;5;129;01mor\u001b[39;00m \u001b[38;5;28mself\u001b[39m.wires\n\u001b[32m    682\u001b[39m \u001b[38;5;28;01mreturn\u001b[39;00m qml.math.expand_matrix(canonical_matrix, wires=\u001b[38;5;28mself\u001b[39m.wires, wire_order=wire_order)\n",
      "\u001b[36mFile \u001b[39m\u001b[32m~/anaconda3/envs/VQLenv/lib/python3.12/site-packages/pennylane/ops/op_math/controlled.py:670\u001b[39m, in \u001b[36mControlled._compute_matrix_from_base\u001b[39m\u001b[34m(self)\u001b[39m\n\u001b[32m    667\u001b[39m shape = qml.math.shape(base_matrix)\n\u001b[32m    668\u001b[39m \u001b[38;5;28;01mif\u001b[39;00m \u001b[38;5;28mlen\u001b[39m(shape) == \u001b[32m3\u001b[39m:  \u001b[38;5;66;03m# stack if batching\u001b[39;00m\n\u001b[32m    669\u001b[39m     \u001b[38;5;28;01mreturn\u001b[39;00m qml.math.stack(\n\u001b[32m--> \u001b[39m\u001b[32m670\u001b[39m         [\u001b[43mqml\u001b[49m\u001b[43m.\u001b[49m\u001b[43mmath\u001b[49m\u001b[43m.\u001b[49m\u001b[43mblock_diag\u001b[49m\u001b[43m(\u001b[49m\u001b[43m[\u001b[49m\u001b[43mleft_pad\u001b[49m\u001b[43m,\u001b[49m\u001b[43m \u001b[49m\u001b[43m_U\u001b[49m\u001b[43m,\u001b[49m\u001b[43m \u001b[49m\u001b[43mright_pad\u001b[49m\u001b[43m]\u001b[49m\u001b[43m)\u001b[49m \u001b[38;5;28;01mfor\u001b[39;00m _U \u001b[38;5;129;01min\u001b[39;00m base_matrix]\n\u001b[32m    671\u001b[39m     )\n\u001b[32m    673\u001b[39m \u001b[38;5;28;01mreturn\u001b[39;00m qmlmath.block_diag([left_pad, base_matrix, right_pad])\n",
      "\u001b[36mFile \u001b[39m\u001b[32m~/anaconda3/envs/VQLenv/lib/python3.12/site-packages/pennylane/math/multi_dispatch.py:152\u001b[39m, in \u001b[36mmulti_dispatch.<locals>.decorator.<locals>.wrapper\u001b[39m\u001b[34m(*args, **kwargs)\u001b[39m\n\u001b[32m    149\u001b[39m interface = interface \u001b[38;5;129;01mor\u001b[39;00m get_interface(*dispatch_args)\n\u001b[32m    150\u001b[39m kwargs[\u001b[33m\"\u001b[39m\u001b[33mlike\u001b[39m\u001b[33m\"\u001b[39m] = interface\n\u001b[32m--> \u001b[39m\u001b[32m152\u001b[39m \u001b[38;5;28;01mreturn\u001b[39;00m \u001b[43mfn\u001b[49m\u001b[43m(\u001b[49m\u001b[43m*\u001b[49m\u001b[43margs\u001b[49m\u001b[43m,\u001b[49m\u001b[43m \u001b[49m\u001b[43m*\u001b[49m\u001b[43m*\u001b[49m\u001b[43mkwargs\u001b[49m\u001b[43m)\u001b[49m\n",
      "\u001b[36mFile \u001b[39m\u001b[32m~/anaconda3/envs/VQLenv/lib/python3.12/site-packages/pennylane/math/multi_dispatch.py:200\u001b[39m, in \u001b[36mblock_diag\u001b[39m\u001b[34m(values, like)\u001b[39m\n\u001b[32m    176\u001b[39m \u001b[38;5;250m\u001b[39m\u001b[33;03m\"\"\"Combine a sequence of 2D tensors to form a block diagonal tensor.\u001b[39;00m\n\u001b[32m    177\u001b[39m \n\u001b[32m    178\u001b[39m \u001b[33;03mArgs:\u001b[39;00m\n\u001b[32m   (...)\u001b[39m\u001b[32m    197\u001b[39m \u001b[33;03m        [ 0,  0,  0,  0,  0,  5]])\u001b[39;00m\n\u001b[32m    198\u001b[39m \u001b[33;03m\"\"\"\u001b[39;00m\n\u001b[32m    199\u001b[39m values = np.coerce(values, like=like)\n\u001b[32m--> \u001b[39m\u001b[32m200\u001b[39m \u001b[38;5;28;01mreturn\u001b[39;00m \u001b[43mnp\u001b[49m\u001b[43m.\u001b[49m\u001b[43mblock_diag\u001b[49m\u001b[43m(\u001b[49m\u001b[43mvalues\u001b[49m\u001b[43m,\u001b[49m\u001b[43m \u001b[49m\u001b[43mlike\u001b[49m\u001b[43m=\u001b[49m\u001b[43mlike\u001b[49m\u001b[43m)\u001b[49m\n",
      "\u001b[36mFile \u001b[39m\u001b[32m~/anaconda3/envs/VQLenv/lib/python3.12/site-packages/autoray/autoray.py:81\u001b[39m, in \u001b[36mdo\u001b[39m\u001b[34m(fn, like, *args, **kwargs)\u001b[39m\n\u001b[32m     79\u001b[39m backend = _choose_backend(fn, args, kwargs, like=like)\n\u001b[32m     80\u001b[39m func = get_lib_fn(backend, fn)\n\u001b[32m---> \u001b[39m\u001b[32m81\u001b[39m \u001b[38;5;28;01mreturn\u001b[39;00m \u001b[43mfunc\u001b[49m\u001b[43m(\u001b[49m\u001b[43m*\u001b[49m\u001b[43margs\u001b[49m\u001b[43m,\u001b[49m\u001b[43m \u001b[49m\u001b[43m*\u001b[49m\u001b[43m*\u001b[49m\u001b[43mkwargs\u001b[49m\u001b[43m)\u001b[49m\n",
      "\u001b[36mFile \u001b[39m\u001b[32m~/anaconda3/envs/VQLenv/lib/python3.12/site-packages/pennylane/math/single_dispatch.py:785\u001b[39m, in \u001b[36m_block_diag_torch\u001b[39m\u001b[34m(tensors)\u001b[39m\n\u001b[32m    783\u001b[39m     row = np.arange(*r).reshape(-\u001b[32m1\u001b[39m, \u001b[32m1\u001b[39m)\n\u001b[32m    784\u001b[39m     col = np.arange(*c).reshape(\u001b[32m1\u001b[39m, -\u001b[32m1\u001b[39m)\n\u001b[32m--> \u001b[39m\u001b[32m785\u001b[39m     res[row, col] = t\n\u001b[32m    787\u001b[39m \u001b[38;5;28;01mreturn\u001b[39;00m res\n",
      "\u001b[31mKeyboardInterrupt\u001b[39m: "
     ]
    }
   ],
   "source": [
    "qubits = 3\n",
    "n = 2 ** qubits\n",
    "kappa_list = [10,50,100,200,300,500]\n",
    "\n",
    "\n",
    "#device = Device(DeviceType.QISKIT_AER, qubits=qubits)\n",
    "device_noise = Device(DeviceType.QISKIT_AER, qubits=qubits)\n",
    "\n",
    "save = True\n",
    "redo_calc = 10\n",
    "\n",
    "\n",
    "lr = 0.05\n",
    "threshold = 0.0001\n",
    "steps = 5000\n",
    "epochs = 10\n",
    "abort = 200\n",
    "\n",
    "\n",
    "results_list_dynamic = np.zeros([redo_calc, n])\n",
    "results_list_static = np.zeros([redo_calc, n])\n",
    "results_list_dynamic_noise = np.zeros([redo_calc, n])\n",
    "results_list_static_noise = np.zeros([redo_calc, n])\n",
    "\n",
    "TRC_list_dynamic = np.zeros(redo_calc)\n",
    "TRC_list_static = np.zeros(redo_calc)\n",
    "TRC_list_dynamic_noise = np.zeros(redo_calc)\n",
    "TRC_list_static_noise = np.zeros(redo_calc)\n",
    "\n",
    "\n",
    "\n",
    "depth = 10\n",
    "param_shape = (qubits + depth*(qubits+qubits -2),)\n",
    "\n",
    "for KAPPA in kappa_list:\n",
    "    for i in range(redo_calc):\n",
    "        print(f\"Run nr. {i+1}/{redo_calc}\")\n",
    "        A, coeffs, b = build_pauli_sum_A_strings(qubits=qubits, J=0.1, kappa=KAPPA)\n",
    "\n",
    "        ###################################\n",
    "        #####    DYNAMIC NOISELESS    #####\n",
    "        ###################################\n",
    "\n",
    "        lse_dyn_dynamic = DeviceVarLSESolver(A, \n",
    "                    b, \n",
    "                    coeffs=coeffs,\n",
    "                    method=\"hadamard\", \n",
    "                    local=True, \n",
    "                    lr=lr, \n",
    "                    threshold=threshold,\n",
    "                    steps=steps,\n",
    "                    epochs=epochs, \n",
    "                    abort=abort,) \n",
    "\n",
    "        solution_local, param_local, it_count_local = lse_dyn_dynamic.solve()\n",
    "        local_dense_trc = TRC_ASA(it_count_local)\n",
    "        results_list_dynamic[i, :] = solution_local\n",
    "        TRC_list_dynamic[i] = local_dense_trc\n",
    "\n",
    "\n",
    "          \n",
    "        ###################################\n",
    "        #####    STATIC  NOISELESS    #####\n",
    "        ###################################\n",
    "\n",
    "        lse_stat_static = DeviceVarLSESolver(A,\n",
    "                    b, \n",
    "                    coeffs=coeffs,\n",
    "                    method='hadamard',\n",
    "                    ansatz=fixed_layered_ansatz,\n",
    "                    weights=param_shape,\n",
    "                    local=True, \n",
    "                    lr=lr, \n",
    "                    steps=steps,\n",
    "                    threshold=threshold, \n",
    "                    epochs=epochs,\n",
    "                    abort=abort,)\n",
    "            \n",
    "\n",
    "        solution_local, param_local, it_count_local = lse_stat_static.solve()\n",
    "        results_list_static[i, :] = solution_local\n",
    "        TRC_list_static[i] = TRC_ADA(it_count_local)\n",
    "\n",
    "\n",
    "        ###################################\n",
    "        #####    DYNAMIC NOISE    #####\n",
    "        ###################################\n",
    "        lse_dyn_dynamic_noise = DeviceVarLSESolver(A, \n",
    "                    b, \n",
    "                    coeffs=coeffs,\n",
    "                    method=\"hadamard\", \n",
    "                    local=True, \n",
    "                    lr=lr, \n",
    "                    threshold=threshold,\n",
    "                    steps=steps,\n",
    "                    epochs=epochs, \n",
    "                    device=device_noise, \n",
    "                    abort=abort,)\n",
    "        solution_local, param_local, it_count_local = lse_dyn_dynamic_noise.solve()\n",
    "        local_dense_trc = TRC_ASA(it_count_local)\n",
    "        results_list_dynamic_noise[i, :] = solution_local\n",
    "        TRC_list_dynamic_noise[i] = local_dense_trc\n",
    "\n",
    "        ###################################\n",
    "        #####    STATIC  NOISE    #####\n",
    "        ###################################\n",
    "        lse_stat_static_noise = DeviceVarLSESolver(A,\n",
    "                    b, \n",
    "                    coeffs=coeffs,\n",
    "                    method='hadamard',\n",
    "                    ansatz=fixed_layered_ansatz,\n",
    "                    weights=param_shape,\n",
    "                    local=True, \n",
    "                    lr=lr, \n",
    "                    steps=steps,\n",
    "                    threshold=threshold, \n",
    "                    epochs=epochs,\n",
    "                    device=device_noise,\n",
    "                    abort=abort,)\n",
    "        solution_local, param_local, it_count_local = lse_stat_static_noise.solve()\n",
    "        results_list_static_noise[i, :] = solution_local\n",
    "        TRC_list_static_noise[i] = TRC_ADA(it_count_local)\n",
    "\n",
    "\n",
    "        \n",
    "\n",
    "\n",
    "    if save == True:\n",
    "        filename = f\"data/condition_nr/result_local_condnr_{KAPPA}_w_noise.npz\"\n",
    "        save_dict = {\n",
    "            'A': A,\n",
    "            'coeffs': coeffs,\n",
    "            'b': b,\n",
    "            'results_list_dynamic': results_list_dynamic,\n",
    "            'TRC_list_dynamic': TRC_list_dynamic,\n",
    "            'results_list_static': results_list_static,\n",
    "            'TRC_list_static': TRC_list_static,\n",
    "            'results_list_dynamic_noise': results_list_dynamic_noise,\n",
    "            'TRC_list_dynamic_noise': TRC_list_dynamic_noise,\n",
    "            'results_list_static_noise': results_list_static_noise,\n",
    "            'TRC_list_static_noise': TRC_list_static_noise,\n",
    "            'nr_runs': redo_calc,\n",
    "            'KAPPA': KAPPA,\n",
    "            'qubits': qubits,\n",
    "\n",
    "        }\n",
    "        np.savez(filename, **save_dict)\n",
    "        print(f\"Saved {filename}\")\n"
   ]
  },
  {
   "cell_type": "code",
   "execution_count": 21,
   "metadata": {},
   "outputs": [
    {
     "data": {
      "text/plain": [
       "16"
      ]
     },
     "execution_count": 21,
     "metadata": {},
     "output_type": "execute_result"
    }
   ],
   "source": [
    "len(b)"
   ]
  },
  {
   "cell_type": "code",
   "execution_count": 33,
   "metadata": {},
   "outputs": [],
   "source": [
    "kappa_list = [1.05,2,10,50]#,10,50,100,200,500]"
   ]
  },
  {
   "cell_type": "code",
   "execution_count": 34,
   "metadata": {},
   "outputs": [],
   "source": [
    "mean_results_dynamic = np.zeros([len(kappa_list), n])\n",
    "std_results_dynamic = np.zeros([len(kappa_list), n])\n",
    "mean_trc_dynamic = np.zeros(len(kappa_list))\n",
    "std_trc_dynamic = np.zeros(len(kappa_list))\n",
    "\n",
    "mean_results_static = np.zeros([len(kappa_list), n])\n",
    "std_results_static = np.zeros([len(kappa_list), n])\n",
    "mean_trc_static = np.zeros(len(kappa_list))\n",
    "std_trc_static = np.zeros(len(kappa_list))\n",
    "\n",
    "mean_results_dynamic_noise = np.zeros([len(kappa_list), n])\n",
    "std_results_dynamic_noise = np.zeros([len(kappa_list), n])\n",
    "mean_trc_dynamic_noise = np.zeros(len(kappa_list))\n",
    "std_trc_dynamic_noise = np.zeros(len(kappa_list))\n",
    "mean_results_static_noise = np.zeros([len(kappa_list), n])\n",
    "std_results_static_noise = np.zeros([len(kappa_list), n])\n",
    "mean_trc_static_noise = np.zeros(len(kappa_list))\n",
    "std_trc_static_noise = np.zeros(len(kappa_list))\n",
    "\n",
    "\n",
    "classical_solution = np.zeros([len(kappa_list), n])\n",
    "\n",
    "for i, KAPPA in enumerate(kappa_list):\n",
    "\n",
    "    filename = f\"data/condition_nr/result_local_condnr_{KAPPA}.npz\"\n",
    "    data = np.load(filename)\n",
    "    \n",
    "    A = data['A']\n",
    "    coeffs = data['coeffs']\n",
    "    b = data['b']\n",
    "    results_list_dynamic = data['results_list_dynamic']\n",
    "    TRC_list_dynamic = data['TRC_list_dynamic']\n",
    "    results_list_static = data['results_list_static']\n",
    "    TRC_list_static = data['TRC_list_static']\n",
    "    nr_runs = data['nr_runs']\n",
    "    KAPPA = data['KAPPA']\n",
    "    qubits = data['qubits'] \n",
    "\n",
    "\n",
    "    mean_results_dynamic[i, :] = np.mean(results_list_dynamic, axis=0)\n",
    "    std_results_dynamic[i, :] = np.std(results_list_dynamic, axis=0)/ np.sqrt(nr_runs)\n",
    "    mean_trc_dynamic[i] = np.mean(TRC_list_dynamic)\n",
    "    std_trc_dynamic[i] = np.std(TRC_list_dynamic)/ np.sqrt(nr_runs)\n",
    "\n",
    "    mean_results_static[i, :] = np.mean(results_list_static, axis=0)\n",
    "    std_results_static[i, :] = np.std(results_list_static, axis=0)/ np.sqrt(nr_runs)\n",
    "    mean_trc_static[i] = np.mean(TRC_list_static)\n",
    "    std_trc_static[i] = np.std(TRC_list_static)/ np.sqrt(nr_runs)\n",
    "\n",
    "    mean_results_dynamic_noise[i, :] = np.mean(results_list_dynamic_noise, axis=0)  \n",
    "    std_results_dynamic_noise[i, :] = np.std(results_list_dynamic_noise, axis=0)/ np.sqrt(nr_runs)\n",
    "    mean_trc_dynamic_noise[i] = np.mean(TRC_list_dynamic_noise)\n",
    "    std_trc_dynamic_noise[i] = np.std(TRC_list_dynamic_noise)/ np.sqrt(nr_runs)\n",
    "\n",
    "    mean_results_static_noise[i, :] = np.mean(results_list_static_noise, axis=0)\n",
    "    std_results_static_noise[i, :] = np.std(results_list_static_noise, axis=0)/ np.sqrt(nr_runs)\n",
    "    mean_trc_static_noise[i] = np.mean(TRC_list_static_noise)\n",
    "    std_trc_static_noise[i] = np.std(TRC_list_static_noise)/ np.sqrt(nr_runs)\n",
    "\n",
    "    # compute normalized classical solution for comparison, therefore first re-compose system matrix A\n",
    "    pauli_strings, coeffs, b = build_pauli_sum_A_strings(qubits=int(qubits), kappa=KAPPA)\n",
    "    A_mat = build_matrix_from_paulis(pauli_strings, coeffs)\n",
    "    x_classical = np.linalg.solve(A_mat, b)\n",
    "    normalized_classical_solution = np.square(np.abs(x_classical / np.linalg.norm(x_classical)))\n",
    "\n",
    "    classical_solution[i, :] = normalized_classical_solution\n",
    "\n"
   ]
  },
  {
   "cell_type": "code",
   "execution_count": 35,
   "metadata": {},
   "outputs": [
    {
     "data": {
      "image/png": "[encoded data removed]",
      "text/plain": [
       "<Figure size 700x400 with 1 Axes>"
      ]
     },
     "metadata": {},
     "output_type": "display_data"
    },
    {
     "data": {
      "image/png": "[encoded data removed]",
      "text/plain": [
       "<Figure size 700x400 with 1 Axes>"
      ]
     },
     "metadata": {},
     "output_type": "display_data"
    },
    {
     "data": {
      "image/png": "[encoded data removed]",
      "text/plain": [
       "<Figure size 700x400 with 1 Axes>"
      ]
     },
     "metadata": {},
     "output_type": "display_data"
    },
    {
     "data": {
      "image/png": "[encoded data removed]",
      "text/plain": [
       "<Figure size 700x400 with 1 Axes>"
      ]
     },
     "metadata": {},
     "output_type": "display_data"
    }
   ],
   "source": [
    "for i, KAPPA in enumerate(kappa_list):\n",
    "\n",
    "    plt.figure(figsize=(7, 4))\n",
    "    plt.title(f\"Results for kappa = {KAPPA}\")\n",
    "\n",
    "    x = np.arange(len(classical_solution[i, :])) \n",
    "    width = 0.15 \n",
    "    multiplier = 0\n",
    "    \n",
    "    plt.bar(x, classical_solution[i, :], width = width, label='Ground truth')\n",
    "    plt.bar(x + width,  mean_results_dynamic[i, :], yerr=std_results_dynamic[i, :], width=width, capsize=3, label='Dynamic ansatz')\n",
    "    plt.bar(x + 2*width, mean_results_static[i, :], yerr=std_results_static[i, :], width=width, capsize=3, label='Static ansatz')\n",
    "    plt.bar(x + 3*width, mean_results_dynamic_noise[i, :], yerr=std_results_dynamic_noise[i, :], width=width, capsize=3, label='Dynamic ansatz with noise')\n",
    "    plt.bar(x + 4*width, mean_results_static_noise[i, :], yerr=std_results_static_noise[i, :], width=width, capsize=3, label='Static ansatz with noise')\n",
    "    plt.legend()\n",
    "    plt.show()"
   ]
  },
  {
   "cell_type": "code",
   "execution_count": null,
   "metadata": {},
   "outputs": [],
   "source": []
  }
 ],
 "metadata": {
  "kernelspec": {
   "display_name": "VQLenv",
   "language": "python",
   "name": "python3"
  },
  "language_info": {
   "codemirror_mode": {
    "name": "ipython",
    "version": 3
   },
   "file_extension": ".py",
   "mimetype": "text/x-python",
   "name": "python",
   "nbconvert_exporter": "python",
   "pygments_lexer": "ipython3",
   "version": "3.12.9"
  }
 },
 "nbformat": 4,
 "nbformat_minor": 2
}
