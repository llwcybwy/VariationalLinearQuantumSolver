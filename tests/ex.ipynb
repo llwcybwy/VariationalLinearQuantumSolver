{
 "cells": [
  {
   "cell_type": "markdown",
   "id": "2b1baed7",
   "metadata": {},
   "source": [
    "# __Dense matrix tests__\n",
    "\n",
    "## Outline\n",
    "- __Dependencies__\n",
    "- __Dynamic ansatz__\n",
    "    - Noiseless\n",
    "    - With noise using Qiskit AER\n",
    "- __Static ansatz__\n",
    "    - Noiseless\n",
    "    - With noise using Qiskit AER"
   ]
  },
  {
   "cell_type": "code",
   "execution_count": 1,
   "id": "5b51133d",
   "metadata": {},
   "outputs": [],
   "source": [
    "import numpy as np\n",
    "from device_var_lse_solver import DeviceVarLSESolver\n",
    "from device import DeviceType\n",
    "from conditioned_matrix import conditionedMatrix, poissonMatrix\n",
    "from non_dynamical_ansatz import fixed_layered_ansatz\n",
    "from tqdm import tqdm\n",
    "from device import Device\n",
    "\n",
    "qubits = 4\n",
    "b = np.ones(2**qubits)/np.sqrt(2**qubits)\n",
    "depth=10\n",
    "\n",
    "assert qubits % 2 == 0"
   ]
  },
  {
   "cell_type": "code",
   "execution_count": 2,
   "id": "7be50dd3",
   "metadata": {},
   "outputs": [],
   "source": [
    "# As defined by [10]\n",
    "def TRC_ADA(iteration_count : dict):\n",
    "    trc = 0\n",
    "    for d in iteration_count:\n",
    "        z = iteration_count.get(d)\n",
    "        trc += d*z\n",
    "    return trc\n",
    "\n",
    "def TRC_ASA(iteration_count : dict):\n",
    "    trc = 0\n",
    "    for d in iteration_count:\n",
    "        z = iteration_count.get(d)\n",
    "        trc += z*depth\n",
    "    return trc"
   ]
  },
  {
   "cell_type": "markdown",
   "id": "87eb2226",
   "metadata": {},
   "source": [
    "## __Dynamic ansatz__"
   ]
  },
  {
   "cell_type": "code",
   "execution_count": null,
   "id": "01e85ae6",
   "metadata": {},
   "outputs": [
    {
     "name": "stderr",
     "output_type": "stream",
     "text": [
      "c:\\QuantumAlgs-WI4650\\QuantumAlgorithmsAssignments\\venv\\Lib\\site-packages\\variational_lse_solver\\var_lse_solver.py:219: UserWarning: Explicit `ansatz` was provided, `epochs` argument will be ignored.\n",
      "  warnings.warn('Explicit `ansatz` was provided, `epochs` argument will be ignored.')\n"
     ]
    },
    {
     "name": "stdout",
     "output_type": "stream",
     "text": [
      "Run nr. 1/1\n",
      "Epoch 1/1:  47%|████▋     | 469/1000 [00:50<00:57,  9.20it/s, best loss=0.00121, last improvement in step=326, loss=0.00198]\n",
      "Loss of 0.0007639852 below stopping threshold.\n",
      "Returning solution.\n",
      "Solution local:\n",
      "[0.11759047 0.18173072 0.19598411 0.14609725 0.17460403 0.40265827\n",
      " 0.29575784 0.2173642  0.26012437 0.35633475 0.45967183 0.22449089\n",
      " 0.10690042 0.18885742 0.23518093 0.08552034]\n",
      "\n",
      "Classical solution:\n",
      "[0.10063969 0.19725378 0.19725378 0.10063969 0.19725378 0.40255874\n",
      " 0.40255874 0.19725378 0.19725378 0.40255874 0.40255874 0.19725378\n",
      " 0.10063969 0.19725378 0.19725378 0.10063969]\n",
      "\n",
      "Difference:\n",
      "[[0.16367673]]\n",
      "\n"
     ]
    }
   ],
   "source": [
    "# For poisson matrix\n",
    "N_runs = 20#20\n",
    "N_steps = 1000#100\n",
    "max_c = 2#20\n",
    "redo_calc = 1#10\n",
    "\n",
    "cs = [2*i+1 for i in range(int(max_c/2))]\n",
    "\n",
    "local_noiseless_dynamic_trc = np.zeros((redo_calc, len(cs)))\n",
    "global_noiseless_dynamic_trc = np.zeros((redo_calc, len(cs)))\n",
    "local_noise_dynamic_trc = np.zeros((redo_calc, len(cs)))\n",
    "global_noise_dynamic_trc = np.zeros((redo_calc, len(cs)))\n",
    "\n",
    "local_noiseless_static_trc = np.zeros((redo_calc, len(cs)))\n",
    "global_noiseless_static_trc = np.zeros((redo_calc, len(cs)))\n",
    "local_noise_static_trc = np.zeros((redo_calc, len(cs)))\n",
    "global_noise_static_trc = np.zeros((redo_calc, len(cs)))\n",
    "\n",
    "local_noise_dynamic_error = np.zeros((redo_calc, len(cs)))\n",
    "local_noiseless_dynamic_error = np.zeros((redo_calc, len(cs)))\n",
    "local_noise_static_error = np.zeros((redo_calc, len(cs)))\n",
    "local_noiseless_static_error = np.zeros((redo_calc, len(cs)))\n",
    "\n",
    "global_noise_dynamic_error = np.zeros((redo_calc, len(cs)))\n",
    "global_noiseless_dynamic_error = np.zeros((redo_calc, len(cs)))\n",
    "global_noise_static_error = np.zeros((redo_calc, len(cs)))\n",
    "global_noiseless_static_error = np.zeros((redo_calc, len(cs)))\n",
    "\n",
    "device = Device(DeviceType.QISKIT_AER, qubits=qubits)\n",
    "\n",
    "param_shape = (qubits + depth*(qubits+qubits -2),)\n",
    "\n",
    "for i in range(redo_calc):\n",
    "        print(f\"Run nr. {i+1}/{redo_calc}\")\n",
    "        for j, c in enumerate(cs):\n",
    "                #a = conditionedMatrix(2**qubits, 1)\n",
    "                #a = conditionedMatrix(2**qubits, 10)\n",
    "                #a = conditionedMatrix(2**qubits, 100)\n",
    "                a = poissonMatrix(2**(qubits//2)).todense()\n",
    "                classical_solution = np.linalg.solve(a, b)\n",
    "                normalized_classical_solution = np.square(classical_solution / np.linalg.norm(classical_solution))\n",
    "                normalized_classical_solution /= np.linalg.norm(normalized_classical_solution)\n",
    "\n",
    "                ###################################\n",
    "                #####    DYNAMIC NOISEFULL    #####\n",
    "                ###################################\n",
    "                lse_local = DeviceVarLSESolver(a,\n",
    "                        b, \n",
    "                        method='direct',\n",
    "                        ansatz=fixed_layered_ansatz,\n",
    "                        weights=param_shape,\n",
    "                        local=True, \n",
    "                        lr=0.1, \n",
    "                        steps=N_steps,\n",
    "                        threshold=0.001, \n",
    "                        epochs=N_runs,\n",
    "                        device=device,\n",
    "                        silent=False)\n",
    "        \n",
    "                solution_local, param_local, it_count_local = lse_local.solve()\n",
    "                solution_local /= np.linalg.norm(solution_local)\n",
    "\n",
    "                local_noise_dynamic_trc[i, j] = TRC_ADA(it_count_local)\n",
    "\n",
    "                local_noise_dynamic_error[i, j] = np.linalg.norm(solution_local - np.abs(normalized_classical_solution))\n",
    "\n",
    "                print(f\"Solution local:\\n{solution_local}\\n\")\n",
    "                print(f\"Classical solution:\\n{np.abs(normalized_classical_solution)}\\n\")\n",
    "print(f\"Difference:\\n{local_noise_dynamic_error}\\n\")\n",
    "\n"
   ]
  },
  {
   "cell_type": "code",
   "execution_count": 4,
   "id": "3f99567c",
   "metadata": {},
   "outputs": [
    {
     "name": "stdout",
     "output_type": "stream",
     "text": [
      "[0.31597247 0.2034898  0.33569425 0.26231688 0.21888156 0.16515955\n",
      " 0.28294968 0.24501996 0.14914299 0.19434387 0.12252839 0.25144405\n",
      " 0.20440255 0.25646057 0.27321977 0.37618937]\n",
      "[0.24696282 0.23395656 0.38078167 0.2358157  0.1991396  0.15171504\n",
      " 0.29446955 0.24106469 0.18049726 0.21884876 0.10432878 0.240708\n",
      " 0.24202995 0.2201995  0.24094129 0.40218595]\n",
      "[0.06900965 0.03046676 0.04508742 0.02650118 0.01974196 0.01344451\n",
      " 0.01151987 0.00395527 0.03135427 0.02450489 0.01819961 0.01073605\n",
      " 0.0376274  0.03626107 0.03227848 0.02599658]\n",
      "0.015623072023670116\n",
      "0.015623072023670113\n"
     ]
    }
   ],
   "source": [
    "solution_local = [0.31597247 , 0.2034898  , 0.33569425 , 0.26231688 , 0.21888156 , 0.16515955\n",
    " , 0.28294968 , 0.24501996 , 0.14914299 , 0.19434387 , 0.12252839 , 0.25144405\n",
    " , 0.20440255 , 0.25646057 , 0.27321977 , 0.37618937]\n",
    "\n",
    "classical_solution = [0.24696282 , 0.23395656 , 0.38078167 , 0.2358157  , 0.1991396  , 0.15171504\n",
    " , 0.29446955 , 0.24106469 , 0.18049726 , 0.21884876 , 0.10432878 , 0.240708\n",
    " , 0.24202995 , 0.2201995  , 0.24094129 , 0.40218595]\n",
    "\n",
    "solution_local /= np.linalg.norm(solution_local)\n",
    "solution_local /= np.linalg.norm(solution_local)\n",
    "print(solution_local)\n",
    "classical_solution /= np.linalg.norm(classical_solution)\n",
    "print(classical_solution)\n",
    "classical_solution /= np.linalg.norm(classical_solution)\n",
    "\n",
    "print(np.abs(solution_local-classical_solution))\n",
    "a = sum(np.abs(solution_local-classical_solution)**2)\n",
    "print(a)\n",
    "\n",
    "print(np.linalg.norm(np.abs(solution_local-classical_solution))**2)"
   ]
  },
  {
   "cell_type": "code",
   "execution_count": 5,
   "id": "18ee0dc0",
   "metadata": {},
   "outputs": [
    {
     "name": "stdout",
     "output_type": "stream",
     "text": [
      "Condition number 10:\n",
      "0.23509580355432466\n"
     ]
    }
   ],
   "source": [
    "print(\"Condition number 10:\")\n",
    "print(np.mean(local_noise_dynamic_error[0]))"
   ]
  },
  {
   "cell_type": "markdown",
   "id": "4468ef54",
   "metadata": {},
   "source": [
    "## __Save vals__"
   ]
  },
  {
   "cell_type": "code",
   "execution_count": 6,
   "id": "171774db",
   "metadata": {},
   "outputs": [],
   "source": [
    "## Save the vals"
   ]
  },
  {
   "cell_type": "markdown",
   "id": "2bae1e3b",
   "metadata": {},
   "source": [
    "## __Plot?__"
   ]
  },
  {
   "cell_type": "code",
   "execution_count": 7,
   "id": "5123d232",
   "metadata": {},
   "outputs": [
    {
     "ename": "NameError",
     "evalue": "name 'plt' is not defined",
     "output_type": "error",
     "traceback": [
      "\u001b[31m---------------------------------------------------------------------------\u001b[39m",
      "\u001b[31mNameError\u001b[39m                                 Traceback (most recent call last)",
      "\u001b[36mCell\u001b[39m\u001b[36m \u001b[39m\u001b[32mIn[7]\u001b[39m\u001b[32m, line 5\u001b[39m\n\u001b[32m      3\u001b[39m \u001b[38;5;66;03m# Dynamic noisy\u001b[39;00m\n\u001b[32m      4\u001b[39m local_dynamic_noise_color = \u001b[33m\"\u001b[39m\u001b[33mtab:blue\u001b[39m\u001b[33m\"\u001b[39m\n\u001b[32m----> \u001b[39m\u001b[32m5\u001b[39m \u001b[43mplt\u001b[49m.plot(cs, local_noise_dynamic_mean, color=local_dynamic_noise_color, label=\u001b[33mf\u001b[39m\u001b[33m'\u001b[39m\u001b[33mLocal dynamic noisy TRC expectation with \u001b[39m\u001b[38;5;132;01m{\u001b[39;00mamp\u001b[38;5;132;01m}\u001b[39;00m\u001b[33m*variance\u001b[39m\u001b[33m'\u001b[39m)\n\u001b[32m      6\u001b[39m plt.fill_between(cs, local_noise_dynamic_mean-amp*local_noise_dynamic_variance, local_noise_dynamic_mean+amp*local_noise_dynamic_variance, color=local_dynamic_noise_color, alpha=\u001b[32m0.4\u001b[39m)\n\u001b[32m      8\u001b[39m global_dynamic_noise_color = \u001b[33m\"\u001b[39m\u001b[33mtab:blue\u001b[39m\u001b[33m\"\u001b[39m\n",
      "\u001b[31mNameError\u001b[39m: name 'plt' is not defined"
     ]
    }
   ],
   "source": [
    "amp = 0.05\n",
    "\n",
    "# Dynamic noisy\n",
    "local_dynamic_noise_color = \"tab:blue\"\n",
    "plt.plot(cs, local_noise_dynamic_mean, color=local_dynamic_noise_color, label=f'Local dynamic noisy TRC expectation with {amp}*variance')\n",
    "plt.fill_between(cs, local_noise_dynamic_mean-amp*local_noise_dynamic_variance, local_noise_dynamic_mean+amp*local_noise_dynamic_variance, color=local_dynamic_noise_color, alpha=0.4)\n",
    "\n",
    "global_dynamic_noise_color = \"tab:blue\"\n",
    "plt.plot(cs, global_noise_dynamic_mean, color=global_dynamic_noise_color, label=f'Global dynamic noisy TRC expectation with {amp}*variance')\n",
    "plt.fill_between(cs, global_noise_dynamic_mean-amp*global_noise_dynamic_variance, global_noise_dynamic_mean+amp*global_noise_dynamic_variance, color=global_dynamic_noise_color, alpha=0.4)\n",
    "\n",
    "# Dynamic noiseless\n",
    "local_dynamic_noiseless_color = \"tab:blue\"\n",
    "plt.plot(cs, local_noiseless_dynamic_mean, color=local_dynamic_noiseless_color, label=f'Local dynamic noiseless TRC expectation with {amp}*variance')\n",
    "plt.fill_between(cs, local_noiseless_dynamic_mean-amp*local_noiseless_dynamic_variance, local_noiseless_dynamic_mean+amp*local_noiseless_dynamic_variance, color=local_dynamic_noiseless_color, alpha=0.4)\n",
    "\n",
    "global_dynamic_noiseless_color = \"tab:blue\"\n",
    "plt.plot(cs, global_noiseless_dynamic_mean, color=global_dynamic_noiseless_color, label=f'Global dynamic noiseless TRC expectation with {amp}*variance')\n",
    "plt.fill_between(cs, global_noiseless_dynamic_mean-amp*global_noiseless_dynamic_variance, global_noiseless_dynamic_mean+amp*global_noiseless_dynamic_variance, color=global_dynamic_noiseless_color, alpha=0.4)\n",
    "\n",
    "# Static noisy\n",
    "local_static_noise_color = \"tab:blue\"\n",
    "plt.plot(cs, local_noise_static_mean, color=local_static_noise_color, label=f'Local static noisy TRC expectation with {amp}*variance')\n",
    "plt.fill_between(cs, local_noise_static_mean-amp*local_noise_static_variance, local_noise_static_mean+amp*local_noise_static_variance, color=local_static_noise_color, alpha=0.4)\n",
    "\n",
    "global_static_noise_color = \"tab:blue\"\n",
    "plt.plot(cs, global_noise_static_mean, color=global_static_noise_color, label=f'Global static noisy TRC expectation with {amp}*variance')\n",
    "plt.fill_between(cs, global_noise_static_mean-amp*global_noise_static_variance, global_noise_static_mean+amp*global_noise_static_variance, color=global_static_noise_color, alpha=0.4)\n",
    "\n",
    "# Static noiseless\n",
    "local_static_noiseless_color = \"tab:blue\"\n",
    "plt.plot(cs, local_noiseless_static_mean, color=local_static_noiseless_color, label=f'Local static noiseless TRC expectation with {amp}*variance')\n",
    "plt.fill_between(cs, local_noiseless_static_mean-amp*local_noiseless_static_variance, local_noiseless_static_mean+amp*local_noiseless_static_variance, color=local_static_noiseless_color, alpha=0.4)\n",
    "\n",
    "global_static_noiseless_color = \"tab:blue\"\n",
    "plt.plot(cs, global_noiseless_static_mean, color=global_static_noiseless_color, label=f'Global static noiseless TRC expectation with {amp}*variance')\n",
    "plt.fill_between(cs, global_noiseless_static_mean-amp*global_noiseless_static_variance, global_noiseless_static_mean+amp*global_noiseless_static_variance, color=global_static_noiseless_color, alpha=0.4)\n",
    "\n",
    "#############################\n",
    "\n",
    "plt.xlabel(\"Conditional number\")\n",
    "plt.ylabel(\"TRC score\")\n",
    "\n",
    "plt.legend()\n",
    "plt.show()"
   ]
  }
 ],
 "metadata": {
  "kernelspec": {
   "display_name": "venv",
   "language": "python",
   "name": "python3"
  },
  "language_info": {
   "codemirror_mode": {
    "name": "ipython",
    "version": 3
   },
   "file_extension": ".py",
   "mimetype": "text/x-python",
   "name": "python",
   "nbconvert_exporter": "python",
   "pygments_lexer": "ipython3",
   "version": "3.12.10"
  }
 },
 "nbformat": 4,
 "nbformat_minor": 5
}
