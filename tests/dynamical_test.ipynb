{
 "cells": [
  {
   "cell_type": "markdown",
   "id": "2b1baed7",
   "metadata": {},
   "source": [
    "# __Dynamical tests__\n",
    "\n",
    "## Outline\n",
    "- __Dependencies__\n",
    "- __Noiseless__\n",
    "    - With dense matrices\n",
    "    - With poisson matrix\n",
    "- __With noise using Qiskit AER__\n",
    "    - With dense matrices\n",
    "    - With poisson matrix"
   ]
  },
  {
   "cell_type": "code",
   "execution_count": 37,
   "id": "5b51133d",
   "metadata": {},
   "outputs": [],
   "source": [
    "import numpy as np\n",
    "from variational_lse_solver import VarLSESolver\n",
    "from device_var_lse_solver import DeviceVarLSESolver\n",
    "from device import Device\n",
    "from device import DeviceType\n",
    "from qiskit_aer import AerSimulator\n",
    "from conditioned_matrix import conditionedMatrix\n",
    "from conditioned_matrix import poissonMatrix\n",
    "from tqdm import tqdm\n",
    "\n",
    "qubits = 4\n",
    "b = np.ones(2**qubits)/np.sqrt(2**qubits)"
   ]
  },
  {
   "cell_type": "code",
   "execution_count": 38,
   "id": "7be50dd3",
   "metadata": {},
   "outputs": [],
   "source": [
    "def TRC_ADA(iteration_count : dict):\n",
    "    trc = 0\n",
    "    for d in iteration_count:\n",
    "        z = iteration_count.get(d)\n",
    "        trc += d*z\n",
    "    return trc"
   ]
  },
  {
   "cell_type": "markdown",
   "id": "87eb2226",
   "metadata": {},
   "source": [
    "## __Noiseless tests__"
   ]
  },
  {
   "cell_type": "code",
   "execution_count": 39,
   "id": "01e85ae6",
   "metadata": {},
   "outputs": [
    {
     "name": "stderr",
     "output_type": "stream",
     "text": [
      "  0%|          | 0/1 [00:00<?, ?it/s]"
     ]
    },
    {
     "name": "stdout",
     "output_type": "stream",
     "text": [
      "Epoch 1/10: 100%|██████████| 50/50 [00:00<00:00, 52.14it/s, best loss=0.176, last improvement in step=48, loss=0.177]\n",
      "Increasing circuit depth.\n",
      "Epoch 2/10: 100%|██████████| 50/50 [00:01<00:00, 30.31it/s, best loss=0.151, last improvement in step=46, loss=0.154]\n",
      "Increasing circuit depth.\n",
      "Epoch 3/10: 100%|██████████| 50/50 [00:02<00:00, 20.56it/s, best loss=0.125, last improvement in step=46, loss=0.126]\n",
      "Increasing circuit depth.\n",
      "Epoch 4/10: 100%|██████████| 50/50 [00:02<00:00, 18.30it/s, best loss=0.239, last improvement in step=49, loss=0.239]\n",
      "Increasing circuit depth.\n",
      "Epoch 5/10: 100%|██████████| 50/50 [00:04<00:00, 12.27it/s, best loss=0.0868, last improvement in step=48, loss=0.0956]\n",
      "Increasing circuit depth.\n",
      "Epoch 6/10: 100%|██████████| 50/50 [00:04<00:00, 10.02it/s, best loss=0.173, last improvement in step=47, loss=0.319]\n",
      "Increasing circuit depth.\n",
      "Epoch 7/10: 100%|██████████| 50/50 [00:05<00:00,  8.74it/s, best loss=0.247, last improvement in step=49, loss=0.247]\n",
      "Increasing circuit depth.\n",
      "Epoch 8/10: 100%|██████████| 50/50 [00:06<00:00,  7.45it/s, best loss=0.25, last improvement in step=48, loss=0.25]\n",
      "Increasing circuit depth.\n",
      "Epoch 9/10: 100%|██████████| 50/50 [00:08<00:00,  6.15it/s, best loss=0.212, last improvement in step=37, loss=0.26]\n",
      "Increasing circuit depth.\n",
      "Epoch 10/10: 100%|██████████| 50/50 [00:08<00:00,  5.57it/s, best loss=0.242, last improvement in step=49, loss=0.242]\n",
      "Epoch 1/10: 100%|██████████| 50/50 [00:00<00:00, 50.21it/s, best loss=0.342, last improvement in step=46, loss=0.343]\n",
      "Increasing circuit depth.\n",
      "Epoch 2/10: 100%|██████████| 50/50 [00:01<00:00, 27.67it/s, best loss=0.235, last improvement in step=47, loss=0.237]\n",
      "Increasing circuit depth.\n",
      "Epoch 3/10: 100%|██████████| 50/50 [00:02<00:00, 19.30it/s, best loss=0.233, last improvement in step=43, loss=0.233]\n",
      "Increasing circuit depth.\n",
      "Epoch 4/10: 100%|██████████| 50/50 [00:03<00:00, 14.94it/s, best loss=0.231, last improvement in step=49, loss=0.231]\n",
      "Increasing circuit depth.\n",
      "Epoch 5/10: 100%|██████████| 50/50 [00:04<00:00, 11.58it/s, best loss=0.0891, last improvement in step=49, loss=0.0891]\n",
      "Increasing circuit depth.\n",
      "Epoch 6/10: 100%|██████████| 50/50 [00:04<00:00, 10.06it/s, best loss=0.0974, last improvement in step=49, loss=0.0974]\n",
      "Increasing circuit depth.\n",
      "Epoch 7/10: 100%|██████████| 50/50 [00:05<00:00,  8.67it/s, best loss=0.0874, last improvement in step=48, loss=0.0905]\n",
      "Increasing circuit depth.\n",
      "Epoch 8/10: 100%|██████████| 50/50 [00:06<00:00,  7.69it/s, best loss=0.0959, last improvement in step=47, loss=0.1]\n",
      "Increasing circuit depth.\n",
      "Epoch 9/10: 100%|██████████| 50/50 [00:07<00:00,  6.84it/s, best loss=0.0974, last improvement in step=48, loss=0.0991]\n",
      "Increasing circuit depth.\n",
      "Epoch 10/10: 100%|██████████| 50/50 [00:08<00:00,  6.10it/s, best loss=0.107, last improvement in step=48, loss=0.12]"
     ]
    },
    {
     "name": "stderr",
     "output_type": "stream",
     "text": [
      "100%|██████████| 1/1 [01:32<00:00, 92.36s/it]"
     ]
    },
    {
     "name": "stdout",
     "output_type": "stream",
     "text": [
      "\n"
     ]
    },
    {
     "name": "stderr",
     "output_type": "stream",
     "text": [
      "\n"
     ]
    }
   ],
   "source": [
    "# For poisson matrix\n",
    "N_runs = 10\n",
    "N_steps = 50\n",
    "local_results = np.zeros([N_runs, len(b)])\n",
    "global_results = np.zeros([N_runs, len(b)])\n",
    "\n",
    "cs = [2*i+1 for i in range(1)]\n",
    "redo_calc = 1\n",
    "\n",
    "local_trc = np.array([])\n",
    "global_trc = np.array([])\n",
    "\n",
    "for c in tqdm(cs):\n",
    "    for _ in range(redo_calc):\n",
    "        # a = conditionedMatrix(2**qubits, c)\n",
    "        a = poissonMatrix(int(np.sqrt(2**qubits)))\n",
    "        lse_local = DeviceVarLSESolver(a.todense(),\n",
    "                b, \n",
    "                method='direct',\n",
    "                local=True, \n",
    "                lr=0.1, \n",
    "                steps=N_steps,\n",
    "                threshold=0.001, \n",
    "                epochs=N_runs)\n",
    "        \n",
    "        lse_global = DeviceVarLSESolver(a.todense(),\n",
    "                b, \n",
    "                method='direct',\n",
    "                local=False, \n",
    "                lr=0.1, \n",
    "                steps=N_steps,\n",
    "                threshold=0.001, \n",
    "                epochs=N_runs)\n",
    "    \n",
    "        solution_local, param_local, it_count_local = lse_local.solve()\n",
    "        solution_global, param_global, it_count_global = lse_global.solve()\n",
    "\n",
    "        local_trc = np.append(local_trc, TRC_ADA(it_count_local))\n",
    "        global_trc = np.append(global_trc, TRC_ADA(it_count_global))\n"
   ]
  },
  {
   "cell_type": "code",
   "execution_count": 40,
   "id": "3f99567c",
   "metadata": {},
   "outputs": [
    {
     "name": "stdout",
     "output_type": "stream",
     "text": [
      "Local mean: 2750.0 and variance 0.0\n",
      "global mean: 2750.0 and variance 0.0\n"
     ]
    }
   ],
   "source": [
    "local_mean = local_trc.mean()\n",
    "local_variance = local_trc.var()\n",
    "\n",
    "global_mean = global_trc.mean()\n",
    "global_variance = global_trc.var()\n",
    "\n",
    "print(f\"Local mean: {local_mean} and variance {local_variance}\")\n",
    "print(f\"global mean: {global_mean} and variance {global_variance}\")"
   ]
  },
  {
   "cell_type": "code",
   "execution_count": 44,
   "id": "6330079f",
   "metadata": {},
   "outputs": [
    {
     "data": {
      "image/png": "[encoded data removed]",
      "text/plain": [
       "<Figure size 640x480 with 1 Axes>"
      ]
     },
     "metadata": {},
     "output_type": "display_data"
    }
   ],
   "source": [
    "import matplotlib.pyplot as plt\n",
    "\n",
    "width = 0.25 \n",
    "\n",
    "plt.bar(0, local_mean, yerr=local_variance, width=width, capsize=3, label='Local trc')\n",
    "plt.bar(2*width, global_mean, yerr=global_variance, width=width, capsize=3, label='Global trc')\n",
    "\n",
    "plt.legend()\n",
    "plt.show()\n"
   ]
  }
 ],
 "metadata": {
  "kernelspec": {
   "display_name": "venv",
   "language": "python",
   "name": "python3"
  },
  "language_info": {
   "codemirror_mode": {
    "name": "ipython",
    "version": 3
   },
   "file_extension": ".py",
   "mimetype": "text/x-python",
   "name": "python",
   "nbconvert_exporter": "python",
   "pygments_lexer": "ipython3",
   "version": "3.12.10"
  }
 },
 "nbformat": 4,
 "nbformat_minor": 5
}
