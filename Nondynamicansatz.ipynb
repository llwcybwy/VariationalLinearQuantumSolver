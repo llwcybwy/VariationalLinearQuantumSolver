{
 "cells": [
  {
   "cell_type": "code",
   "execution_count": 1,
   "metadata": {},
   "outputs": [
    {
     "data": {
      "text/plain": [
       "'\\nTo run this script you need the following packages:\\n- PennyLane (but the latest version does not have the QubitStateVector class (which is needed), so we redefine it above)\\n- Numpy < 2: need to install something like numpy 1.26.4\\n- Python 3.12\\n- torch 2.2.2\\n'"
      ]
     },
     "execution_count": 1,
     "metadata": {},
     "output_type": "execute_result"
    }
   ],
   "source": [
    "import numpy as np\n",
    "import matplotlib.pyplot as plt\n",
    "import pennylane as qml\n",
    "\n",
    "qml.QubitStateVector = qml.StatePrep\n",
    "from non_dynamical_ansatz import fixed_layered_ansatz\n",
    "from variational_lse_solver import VarLSESolver\n",
    "\n",
    "\n",
    "\"\"\"\n",
    "To run this script you need the following packages:\n",
    "- PennyLane (but the latest version does not have the QubitStateVector class (which is needed), so we redefine it above)\n",
    "- Numpy < 2: need to install something like numpy 1.26.4\n",
    "- Python 3.12\n",
    "- torch 2.2.2\n",
    "\"\"\"\n"
   ]
  },
  {
   "cell_type": "code",
   "execution_count": 2,
   "metadata": {},
   "outputs": [],
   "source": [
    "# unitary representation of Paulis\n",
    "I_ = np.array([[1.0, 0.0], [0.0, 1.0]])\n",
    "X_ = np.array([[0.0, 1.0], [1.0, 0.0]])\n",
    "Y_ = np.array([[0.0, -1.j], [1.j, 0.0]])\n",
    "Z_ = np.array([[1.0, 0.0], [0.0, -1.0]])\n",
    "\n",
    "a = [\"III\", \"XZI\", \"XII\"]\n",
    "b = np.ones(8)/np.sqrt(8)"
   ]
  },
  {
   "cell_type": "code",
   "execution_count": null,
   "metadata": {},
   "outputs": [
    {
     "name": "stderr",
     "output_type": "stream",
     "text": [
      "/Users/anna/anaconda3/envs/VQLenv/lib/python3.12/site-packages/variational_lse_solver/var_lse_solver.py:216: UserWarning: Explicit `ansatz` was provided, `epochs` argument will be ignored.\n",
      "  warnings.warn('Explicit `ansatz` was provided, `epochs` argument will be ignored.')\n"
     ]
    },
    {
     "name": "stdout",
     "output_type": "stream",
     "text": [
      "Epoch 1/1: 100%|██████████| 50/50 [00:03<00:00, 13.87it/s, best loss=0.000467, last improvement in step=49, loss=0.000467]\n",
      "Epoch 1/10: 100%|██████████| 50/50 [00:03<00:00, 15.45it/s, best loss=0.00158, last improvement in step=27, loss=0.00223]\n",
      "Increasing circuit depth.\n",
      "Epoch 2/10:  58%|█████▊    | 29/50 [00:01<00:01, 14.57it/s, best loss=0.0149, last improvement in step=29, loss=0.0149]\n"
     ]
    },
    {
     "ename": "KeyboardInterrupt",
     "evalue": "",
     "output_type": "error",
     "traceback": [
      "\u001b[31m---------------------------------------------------------------------------\u001b[39m",
      "\u001b[31mKeyboardInterrupt\u001b[39m                         Traceback (most recent call last)",
      "\u001b[36mCell\u001b[39m\u001b[36m \u001b[39m\u001b[32mIn[4]\u001b[39m\u001b[32m, line 34\u001b[39m\n\u001b[32m     24\u001b[39m lse_dynammic_local = VarLSESolver(a, \n\u001b[32m     25\u001b[39m             b, \n\u001b[32m     26\u001b[39m             coeffs=[\u001b[32m1.0\u001b[39m, \u001b[32m0.2\u001b[39m, \u001b[32m0.2\u001b[39m], \n\u001b[32m   (...)\u001b[39m\u001b[32m     30\u001b[39m             steps=\u001b[32m50\u001b[39m,\n\u001b[32m     31\u001b[39m             epochs=\u001b[32m10\u001b[39m) \u001b[38;5;66;03m#Epochs: max circuit depth for dynamic circuit\u001b[39;00m\n\u001b[32m     33\u001b[39m solution_static_local, _ = lse_static_local.solve()\n\u001b[32m---> \u001b[39m\u001b[32m34\u001b[39m solution_dynamic_local, _ = \u001b[43mlse_dynammic_local\u001b[49m\u001b[43m.\u001b[49m\u001b[43msolve\u001b[49m\u001b[43m(\u001b[49m\u001b[43m)\u001b[49m\n\u001b[32m     36\u001b[39m local_static_results[i,:] = solution_static_local\n\u001b[32m     37\u001b[39m local_dynamic_results[i,:] = solution_dynamic_local\n",
      "\u001b[36mFile \u001b[39m\u001b[32m~/anaconda3/envs/VQLenv/lib/python3.12/site-packages/variational_lse_solver/var_lse_solver.py:163\u001b[39m, in \u001b[36mVarLSESolver.solve\u001b[39m\u001b[34m(self)\u001b[39m\n\u001b[32m    161\u001b[39m         pbar.set_postfix({\u001b[33m'\u001b[39m\u001b[33mbest loss\u001b[39m\u001b[33m'\u001b[39m: best_loss, \u001b[33m'\u001b[39m\u001b[33mlast improvement in step\u001b[39m\u001b[33m'\u001b[39m: best_step, \u001b[33m'\u001b[39m\u001b[33mloss\u001b[39m\u001b[33m'\u001b[39m: loss.item()})\n\u001b[32m    162\u001b[39m         \u001b[38;5;66;03m# determine gradients and update\u001b[39;00m\n\u001b[32m--> \u001b[39m\u001b[32m163\u001b[39m         \u001b[43mloss\u001b[49m\u001b[43m.\u001b[49m\u001b[43mbackward\u001b[49m\u001b[43m(\u001b[49m\u001b[43m)\u001b[49m\n\u001b[32m    164\u001b[39m         \u001b[38;5;28mself\u001b[39m.opt.step()\n\u001b[32m    165\u001b[39m \u001b[38;5;28;01mreturn\u001b[39;00m \u001b[38;5;28mself\u001b[39m.evaluate(best_weights), best_weights\n",
      "\u001b[36mFile \u001b[39m\u001b[32m~/anaconda3/envs/VQLenv/lib/python3.12/site-packages/torch/_tensor.py:522\u001b[39m, in \u001b[36mTensor.backward\u001b[39m\u001b[34m(self, gradient, retain_graph, create_graph, inputs)\u001b[39m\n\u001b[32m    512\u001b[39m \u001b[38;5;28;01mif\u001b[39;00m has_torch_function_unary(\u001b[38;5;28mself\u001b[39m):\n\u001b[32m    513\u001b[39m     \u001b[38;5;28;01mreturn\u001b[39;00m handle_torch_function(\n\u001b[32m    514\u001b[39m         Tensor.backward,\n\u001b[32m    515\u001b[39m         (\u001b[38;5;28mself\u001b[39m,),\n\u001b[32m   (...)\u001b[39m\u001b[32m    520\u001b[39m         inputs=inputs,\n\u001b[32m    521\u001b[39m     )\n\u001b[32m--> \u001b[39m\u001b[32m522\u001b[39m \u001b[43mtorch\u001b[49m\u001b[43m.\u001b[49m\u001b[43mautograd\u001b[49m\u001b[43m.\u001b[49m\u001b[43mbackward\u001b[49m\u001b[43m(\u001b[49m\n\u001b[32m    523\u001b[39m \u001b[43m    \u001b[49m\u001b[38;5;28;43mself\u001b[39;49m\u001b[43m,\u001b[49m\u001b[43m \u001b[49m\u001b[43mgradient\u001b[49m\u001b[43m,\u001b[49m\u001b[43m \u001b[49m\u001b[43mretain_graph\u001b[49m\u001b[43m,\u001b[49m\u001b[43m \u001b[49m\u001b[43mcreate_graph\u001b[49m\u001b[43m,\u001b[49m\u001b[43m \u001b[49m\u001b[43minputs\u001b[49m\u001b[43m=\u001b[49m\u001b[43minputs\u001b[49m\n\u001b[32m    524\u001b[39m \u001b[43m\u001b[49m\u001b[43m)\u001b[49m\n",
      "\u001b[36mFile \u001b[39m\u001b[32m~/anaconda3/envs/VQLenv/lib/python3.12/site-packages/torch/autograd/__init__.py:266\u001b[39m, in \u001b[36mbackward\u001b[39m\u001b[34m(tensors, grad_tensors, retain_graph, create_graph, grad_variables, inputs)\u001b[39m\n\u001b[32m    261\u001b[39m     retain_graph = create_graph\n\u001b[32m    263\u001b[39m \u001b[38;5;66;03m# The reason we repeat the same comment below is that\u001b[39;00m\n\u001b[32m    264\u001b[39m \u001b[38;5;66;03m# some Python versions print out the first line of a multi-line function\u001b[39;00m\n\u001b[32m    265\u001b[39m \u001b[38;5;66;03m# calls in the traceback and some print out the last line\u001b[39;00m\n\u001b[32m--> \u001b[39m\u001b[32m266\u001b[39m \u001b[43mVariable\u001b[49m\u001b[43m.\u001b[49m\u001b[43m_execution_engine\u001b[49m\u001b[43m.\u001b[49m\u001b[43mrun_backward\u001b[49m\u001b[43m(\u001b[49m\u001b[43m  \u001b[49m\u001b[38;5;66;43;03m# Calls into the C++ engine to run the backward pass\u001b[39;49;00m\n\u001b[32m    267\u001b[39m \u001b[43m    \u001b[49m\u001b[43mtensors\u001b[49m\u001b[43m,\u001b[49m\n\u001b[32m    268\u001b[39m \u001b[43m    \u001b[49m\u001b[43mgrad_tensors_\u001b[49m\u001b[43m,\u001b[49m\n\u001b[32m    269\u001b[39m \u001b[43m    \u001b[49m\u001b[43mretain_graph\u001b[49m\u001b[43m,\u001b[49m\n\u001b[32m    270\u001b[39m \u001b[43m    \u001b[49m\u001b[43mcreate_graph\u001b[49m\u001b[43m,\u001b[49m\n\u001b[32m    271\u001b[39m \u001b[43m    \u001b[49m\u001b[43minputs\u001b[49m\u001b[43m,\u001b[49m\n\u001b[32m    272\u001b[39m \u001b[43m    \u001b[49m\u001b[43mallow_unreachable\u001b[49m\u001b[43m=\u001b[49m\u001b[38;5;28;43;01mTrue\u001b[39;49;00m\u001b[43m,\u001b[49m\n\u001b[32m    273\u001b[39m \u001b[43m    \u001b[49m\u001b[43maccumulate_grad\u001b[49m\u001b[43m=\u001b[49m\u001b[38;5;28;43;01mTrue\u001b[39;49;00m\u001b[43m,\u001b[49m\n\u001b[32m    274\u001b[39m \u001b[43m\u001b[49m\u001b[43m)\u001b[49m\n",
      "\u001b[31mKeyboardInterrupt\u001b[39m: "
     ]
    }
   ],
   "source": [
    "n_qubits = 3\n",
    "depth = 4\n",
    "param_shape = (n_qubits + depth*(n_qubits+n_qubits-2),)\n",
    "\n",
    "\n",
    "N_runs = 2\n",
    "local_static_results = np.zeros([N_runs, len(b)])\n",
    "local_dynamic_results = np.zeros([N_runs, len(b)])\n",
    "\n",
    "for i in range(N_runs):\n",
    "    lse_static_local = VarLSESolver(a, \n",
    "                b, \n",
    "                coeffs=[1.0, 0.2, 0.2], \n",
    "                method=\"hadamard\", \n",
    "                local=True, \n",
    "                ansatz=fixed_layered_ansatz,\n",
    "                weights=param_shape,\n",
    "                lr=0.1, \n",
    "                steps=50,\n",
    "                epochs=10) #Epochs: max circuit depth for dynamic circuit\n",
    "\n",
    "\n",
    "    lse_dynammic_local = VarLSESolver(a, \n",
    "                b, \n",
    "                coeffs=[1.0, 0.2, 0.2], \n",
    "                method=\"hadamard\", \n",
    "                local=True, \n",
    "                lr=0.1, \n",
    "                steps=50,\n",
    "                epochs=10) #Epochs: max circuit depth for dynamic circuit\n",
    "    \n",
    "    solution_static_local, _ = lse_static_local.solve()\n",
    "    solution_dynamic_local, _ = lse_dynammic_local.solve()\n",
    "\n",
    "    local_static_results[i,:] = solution_static_local\n",
    "    local_dynamic_results[i,:] = solution_dynamic_local\n",
    "\n",
    "\n"
   ]
  },
  {
   "cell_type": "code",
   "execution_count": 66,
   "metadata": {},
   "outputs": [],
   "source": [
    "# compute normalized classical solution for comparison, therefore first re-compose system matrix A\n",
    "A = 1.0 * np.kron(I_, np.kron(I_, I_)) + 0.2 * np.kron(X_, np.kron(Z_, I_)) + 0.2 * np.kron(X_, np.kron(I_, I_))\n",
    "classical_solution = np.linalg.solve(A, b)\n",
    "normalized_classical_solution = np.square(classical_solution / np.linalg.norm(classical_solution))"
   ]
  },
  {
   "cell_type": "code",
   "execution_count": 67,
   "metadata": {},
   "outputs": [
    {
     "data": {
      "image/png": "[encoded data removed]",
      "text/plain": [
       "<Figure size 1000x500 with 1 Axes>"
      ]
     },
     "metadata": {},
     "output_type": "display_data"
    }
   ],
   "source": [
    "plt.figure(figsize=(10, 5))\n",
    "\n",
    "x = np.arange(len(normalized_classical_solution)) \n",
    "width = 0.25 \n",
    "multiplier = 0\n",
    "\n",
    "plt.bar(x, normalized_classical_solution, width = width, label='Ground truth')\n",
    "plt.bar(x + width, np.mean(local_static_results, axis=0), yerr=np.std(local_static_results,axis=0)/np.sqrt(len(local_static_results)), width=width, capsize=3, label='Static Local')\n",
    "plt.bar(x + 2*width, np.mean(local_dynamic_results, axis=0), yerr=np.std(local_dynamic_results, axis=0)/np.sqrt(len(local_dynamic_results)), width=width, capsize=3, label='Dynamic Local')\n",
    "\n",
    "plt.legend()\n",
    "plt.xticks(x, ['000', '001', '010', '011', '100', '101', '110', '111'])\n",
    "plt.xlabel('Basis states')\n",
    "plt.ylabel('Value')\n",
    "plt.show()"
   ]
  },
  {
   "cell_type": "code",
   "execution_count": null,
   "metadata": {},
   "outputs": [],
   "source": []
  }
 ],
 "metadata": {
  "kernelspec": {
   "display_name": "VQLenv",
   "language": "python",
   "name": "python3"
  },
  "language_info": {
   "codemirror_mode": {
    "name": "ipython",
    "version": 3
   },
   "file_extension": ".py",
   "mimetype": "text/x-python",
   "name": "python",
   "nbconvert_exporter": "python",
   "pygments_lexer": "ipython3",
   "version": "3.12.9"
  }
 },
 "nbformat": 4,
 "nbformat_minor": 2
}
