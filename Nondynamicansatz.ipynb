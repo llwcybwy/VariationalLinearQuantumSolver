{
 "cells": [
  {
   "cell_type": "code",
   "execution_count": 68,
   "metadata": {},
   "outputs": [
    {
     "data": {
      "text/plain": [
       "'\\nTo run this script you need the following packages:\\n- PennyLane (but the latest version does not have the QubitStateVector class (which is needed), so we redefine it above)\\n- Numpy < 2: need to install something like numpy 1.26.4\\n- Python 3.12\\n- torch 2.2.2\\n'"
      ]
     },
     "execution_count": 68,
     "metadata": {},
     "output_type": "execute_result"
    }
   ],
   "source": [
    "import numpy as np\n",
    "import matplotlib.pyplot as plt\n",
    "import pennylane as qml\n",
    "\n",
    "qml.QubitStateVector = qml.StatePrep\n",
    "\n",
    "from variational_lse_solver import VarLSESolver\n",
    "\n",
    "\n",
    "\"\"\"\n",
    "To run this script you need the following packages:\n",
    "- PennyLane (but the latest version does not have the QubitStateVector class (which is needed), so we redefine it above)\n",
    "- Numpy < 2: need to install something like numpy 1.26.4\n",
    "- Python 3.12\n",
    "- torch 2.2.2\n",
    "\"\"\"\n"
   ]
  },
  {
   "cell_type": "code",
   "execution_count": 2,
   "metadata": {},
   "outputs": [],
   "source": [
    "# unitary representation of Paulis\n",
    "I_ = np.array([[1.0, 0.0], [0.0, 1.0]])\n",
    "X_ = np.array([[0.0, 1.0], [1.0, 0.0]])\n",
    "Y_ = np.array([[0.0, -1.j], [1.j, 0.0]])\n",
    "Z_ = np.array([[1.0, 0.0], [0.0, -1.0]])\n",
    "\n",
    "a = [\"III\", \"XZI\", \"XII\"]\n",
    "b = np.ones(8)/np.sqrt(8)"
   ]
  },
  {
   "cell_type": "code",
   "execution_count": 64,
   "metadata": {},
   "outputs": [],
   "source": [
    "\n",
    "def fixed_layered_ansatz(params):\n",
    "    wires = range(3)  \n",
    "    depth = 4\n",
    "    n_qubits = len(wires)\n",
    "    param_idx = 0\n",
    "\n",
    "    for i in range(n_qubits):\n",
    "            qml.RY(params[param_idx], wires=wires[i])\n",
    "            param_idx += 1\n",
    "\n",
    "    for d in range(depth):\n",
    "        # CZ gates on alternating pairs \n",
    "        for i in range(0, n_qubits - 1, 2):\n",
    "            qml.CZ(wires=[wires[i], wires[i + 1]])\n",
    "            \n",
    "        # RY rotations on all \n",
    "        for i in range(n_qubits):\n",
    "            qml.RY(params[param_idx], wires=wires[i])\n",
    "            param_idx += 1\n",
    "\n",
    "        # CZ gates on alternating pairs (odd pairs)\n",
    "        for i in range(1, n_qubits - 2, 2):\n",
    "            qml.CZ(wires=[wires[i], wires[i + 1]])\n",
    "\n",
    "        # RY rotations on all qubits, except the first and last one\n",
    "        for i in range(1, n_qubits-1):\n",
    "            qml.RY(params[param_idx], wires=wires[i])\n",
    "            param_idx += 1\n",
    "\n",
    "        "
   ]
  },
  {
   "cell_type": "code",
   "execution_count": 65,
   "metadata": {},
   "outputs": [
    {
     "name": "stdout",
     "output_type": "stream",
     "text": [
      "Epoch 1/1: 100%|██████████| 50/50 [00:03<00:00, 13.64it/s, best loss=0.000618, last improvement in step=40, loss=0.000943]\n",
      "Epoch 1/10: 100%|██████████| 50/50 [00:03<00:00, 14.83it/s, best loss=0.00117, last improvement in step=41, loss=0.00463]\n",
      "Increasing circuit depth.\n",
      "Epoch 2/10: 100%|██████████| 50/50 [00:03<00:00, 14.43it/s, best loss=0.00148, last improvement in step=48, loss=0.00159]\n",
      "Increasing circuit depth.\n",
      "Epoch 3/10: 100%|██████████| 50/50 [00:03<00:00, 13.48it/s, best loss=0.00206, last improvement in step=49, loss=0.00206]\n",
      "Increasing circuit depth.\n",
      "Epoch 4/10: 100%|██████████| 50/50 [00:03<00:00, 13.82it/s, best loss=0.000386, last improvement in step=44, loss=0.000725]\n",
      "Increasing circuit depth.\n",
      "Epoch 5/10: 100%|██████████| 50/50 [00:03<00:00, 12.95it/s, best loss=0.00131, last improvement in step=49, loss=0.00131]\n",
      "Increasing circuit depth.\n",
      "Epoch 6/10: 100%|██████████| 50/50 [00:03<00:00, 12.73it/s, best loss=0.000397, last improvement in step=49, loss=0.000397]\n",
      "Increasing circuit depth.\n",
      "Epoch 7/10: 100%|██████████| 50/50 [00:04<00:00, 11.90it/s, best loss=0.000657, last improvement in step=49, loss=0.000657]\n",
      "Increasing circuit depth.\n",
      "Epoch 8/10: 100%|██████████| 50/50 [00:04<00:00, 12.00it/s, best loss=0.000266, last improvement in step=48, loss=0.000434]\n",
      "Increasing circuit depth.\n",
      "Epoch 9/10: 100%|██████████| 50/50 [00:04<00:00, 10.75it/s, best loss=0.000481, last improvement in step=49, loss=0.000481]\n",
      "Increasing circuit depth.\n",
      "Epoch 10/10: 100%|██████████| 50/50 [00:04<00:00, 10.72it/s, best loss=0.000566, last improvement in step=47, loss=0.000798]\n",
      "Epoch 1/1: 100%|██████████| 50/50 [00:03<00:00, 14.25it/s, best loss=0.000894, last improvement in step=49, loss=0.000894]\n",
      "Epoch 1/10: 100%|██████████| 50/50 [00:03<00:00, 15.06it/s, best loss=0.00193, last improvement in step=44, loss=0.0049] \n",
      "Increasing circuit depth.\n",
      "Epoch 2/10: 100%|██████████| 50/50 [00:03<00:00, 15.10it/s, best loss=0.00262, last improvement in step=49, loss=0.00262]\n",
      "Increasing circuit depth.\n",
      "Epoch 3/10: 100%|██████████| 50/50 [00:03<00:00, 14.39it/s, best loss=0.00085, last improvement in step=46, loss=0.00107]  \n",
      "Increasing circuit depth.\n",
      "Epoch 4/10: 100%|██████████| 50/50 [00:03<00:00, 13.82it/s, best loss=0.000911, last improvement in step=44, loss=0.00135] \n",
      "Increasing circuit depth.\n",
      "Epoch 5/10: 100%|██████████| 50/50 [00:03<00:00, 12.71it/s, best loss=0.000386, last improvement in step=42, loss=0.000628]\n",
      "Increasing circuit depth.\n",
      "Epoch 6/10: 100%|██████████| 50/50 [00:03<00:00, 12.80it/s, best loss=0.000387, last improvement in step=48, loss=0.000465]\n",
      "Increasing circuit depth.\n",
      "Epoch 7/10: 100%|██████████| 50/50 [00:04<00:00, 12.27it/s, best loss=0.000804, last improvement in step=44, loss=0.000983]\n",
      "Increasing circuit depth.\n",
      "Epoch 8/10: 100%|██████████| 50/50 [00:04<00:00, 11.23it/s, best loss=0.000803, last improvement in step=47, loss=0.00083] \n",
      "Increasing circuit depth.\n",
      "Epoch 9/10: 100%|██████████| 50/50 [00:04<00:00, 10.74it/s, best loss=0.000904, last improvement in step=44, loss=0.00107] \n",
      "Increasing circuit depth.\n",
      "Epoch 10/10: 100%|██████████| 50/50 [00:04<00:00, 10.75it/s, best loss=0.000484, last improvement in step=49, loss=0.000484]\n"
     ]
    }
   ],
   "source": [
    "n_qubits = 3\n",
    "depth = 4\n",
    "param_shape = (n_qubits + depth*(n_qubits+n_qubits-2),)\n",
    "\n",
    "\n",
    "\n",
    "N_runs = 2\n",
    "local_static_results = np.zeros([N_runs, len(b)])\n",
    "local_dynamic_results = np.zeros([N_runs, len(b)])\n",
    "\n",
    "for i in range(N_runs):\n",
    "    lse_static_local = VarLSESolver(a, \n",
    "                b, \n",
    "                coeffs=[1.0, 0.2, 0.2], \n",
    "                method=\"hadamard\", \n",
    "                local=True, \n",
    "                ansatz=fixed_layered_ansatz,\n",
    "                weights=param_shape,\n",
    "                lr=0.1, \n",
    "                steps=50,\n",
    "                epochs=10) #Epochs: max circuit depth for dynamic circuit\n",
    "\n",
    "\n",
    "    lse_dynammic_local = VarLSESolver(a, \n",
    "                b, \n",
    "                coeffs=[1.0, 0.2, 0.2], \n",
    "                method=\"hadamard\", \n",
    "                local=True, \n",
    "                lr=0.1, \n",
    "                steps=50,\n",
    "                epochs=10) #Epochs: max circuit depth for dynamic circuit\n",
    "    \n",
    "    solution_static_local, _ = lse_static_local.solve()\n",
    "    solution_dynamic_local, _ = lse_dynammic_local.solve()\n",
    "\n",
    "    local_static_results[i,:] = solution_static_local\n",
    "    local_dynamic_results[i,:] = solution_dynamic_local\n",
    "\n",
    "\n"
   ]
  },
  {
   "cell_type": "code",
   "execution_count": 66,
   "metadata": {},
   "outputs": [],
   "source": [
    "# compute normalized classical solution for comparison, therefore first re-compose system matrix A\n",
    "A = 1.0 * np.kron(I_, np.kron(I_, I_)) + 0.2 * np.kron(X_, np.kron(Z_, I_)) + 0.2 * np.kron(X_, np.kron(I_, I_))\n",
    "classical_solution = np.linalg.solve(A, b)\n",
    "normalized_classical_solution = np.square(classical_solution / np.linalg.norm(classical_solution))"
   ]
  },
  {
   "cell_type": "code",
   "execution_count": 67,
   "metadata": {},
   "outputs": [
    {
     "data": {
      "image/png": "[encoded data removed]",
      "text/plain": [
       "<Figure size 1000x500 with 1 Axes>"
      ]
     },
     "metadata": {},
     "output_type": "display_data"
    }
   ],
   "source": [
    "plt.figure(figsize=(10, 5))\n",
    "\n",
    "x = np.arange(len(normalized_classical_solution)) \n",
    "width = 0.25 \n",
    "multiplier = 0\n",
    "\n",
    "plt.bar(x, normalized_classical_solution, width = width, label='Ground truth')\n",
    "plt.bar(x + width, np.mean(local_static_results, axis=0), yerr=np.std(local_static_results,axis=0)/np.sqrt(len(local_static_results)), width=width, capsize=3, label='Static Local')\n",
    "plt.bar(x + 2*width, np.mean(local_dynamic_results, axis=0), yerr=np.std(local_dynamic_results, axis=0)/np.sqrt(len(local_dynamic_results)), width=width, capsize=3, label='Dynamic Local')\n",
    "\n",
    "plt.legend()\n",
    "plt.xticks(x, ['000', '001', '010', '011', '100', '101', '110', '111'])\n",
    "plt.xlabel('Basis states')\n",
    "plt.ylabel('Value')\n",
    "plt.show()"
   ]
  },
  {
   "cell_type": "code",
   "execution_count": null,
   "metadata": {},
   "outputs": [],
   "source": []
  }
 ],
 "metadata": {
  "kernelspec": {
   "display_name": "VQLenv",
   "language": "python",
   "name": "python3"
  },
  "language_info": {
   "codemirror_mode": {
    "name": "ipython",
    "version": 3
   },
   "file_extension": ".py",
   "mimetype": "text/x-python",
   "name": "python",
   "nbconvert_exporter": "python",
   "pygments_lexer": "ipython3",
   "version": "3.12.9"
  }
 },
 "nbformat": 4,
 "nbformat_minor": 2
}
