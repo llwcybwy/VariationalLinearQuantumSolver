{
 "cells": [
  {
   "cell_type": "code",
   "execution_count": 1,
   "metadata": {},
   "outputs": [
    {
     "data": {
      "text/plain": [
       "'\\nTo run this script you need the following packages:\\n- PennyLane (but the latest version does not have the QubitStateVector class (which is needed), so we redefine it above)\\n- Numpy < 2: need to install something like numpy 1.26.4\\n- Python 3.12\\n- torch 2.2.2\\n'"
      ]
     },
     "execution_count": 1,
     "metadata": {},
     "output_type": "execute_result"
    }
   ],
   "source": [
    "import numpy as np\n",
    "import matplotlib.pyplot as plt\n",
    "import pennylane as qml\n",
    "\n",
    "qml.QubitStateVector = qml.StatePrep\n",
    "\n",
    "from variational_lse_solver import VarLSESolver\n",
    "\n",
    "from device_var_lse_solver import DeviceVarLSESolver\n",
    "from non_dynamical_ansatz import fixed_layered_ansatz\n",
    "from device import Device\n",
    "from device import DeviceType\n",
    "from qiskit_aer import AerSimulator\n",
    "from conditioned_matrix import create_conditioned_random_matrix\n",
    "\n",
    "\n",
    "\"\"\"\n",
    "To run this script you need the following packages:\n",
    "- PennyLane (but the latest version does not have the QubitStateVector class (which is needed), so we redefine it above)\n",
    "- Numpy < 2: need to install something like numpy 1.26.4\n",
    "- Python 3.12\n",
    "- torch 2.2.2\n",
    "\"\"\""
   ]
  },
  {
   "cell_type": "code",
   "execution_count": 2,
   "metadata": {},
   "outputs": [],
   "source": [
    "# unitary representation of Paulis\n",
    "I_ = np.array([[1.0, 0.0], [0.0, 1.0]])\n",
    "X_ = np.array([[0.0, 1.0], [1.0, 0.0]])\n",
    "Y_ = np.array([[0.0, -1.j], [1.j, 0.0]])\n",
    "Z_ = np.array([[1.0, 0.0], [0.0, -1.0]])\n",
    "\n",
    "a = [\"III\", \"XZI\", \"XII\"]\n",
    "b = np.ones(8)/np.sqrt(8)\n",
    "\n",
    "qubits = 3\n",
    "device = Device(DeviceType.QISKIT_AER, qubits=qubits)\n"
   ]
  },
  {
   "cell_type": "markdown",
   "metadata": {},
   "source": [
    "## Comparing dynamic circuit and non-dynamical circuit\n",
    "Here we will compare the performance of the dynamical circuit and the non-dynamical circuit. We will evaluate the performance on both speed and accuracy, and the results are averaged over N runs. \n",
    "\n",
    "We will first solve the problem with the dynamical circuit, and thereafter let the fixed circuit perform the same computation with $d=max(d_{dyn})$. "
   ]
  },
  {
   "cell_type": "code",
   "execution_count": 4,
   "metadata": {},
   "outputs": [
    {
     "name": "stdout",
     "output_type": "stream",
     "text": [
      "Epoch 1/10: 100%|██████████| 50/50 [00:03<00:00, 15.50it/s, best loss=0.00251, last improvement in step=47, loss=0.00728]\n",
      "Increasing circuit depth.\n",
      "Epoch 2/10:  92%|█████████▏| 46/50 [00:03<00:00, 15.04it/s, best loss=0.00116, last improvement in step=37, loss=0.00121]\n",
      "Loss of 0.0008452886 below stopping threshold.\n",
      "Returning solution.\n",
      "Epoch 1/1:  80%|████████  | 40/50 [00:03<00:00, 11.98it/s, best loss=0.00133, last improvement in step=39, loss=0.00133]\n",
      "Loss of 0.0006943313 below stopping threshold.\n",
      "Returning solution.\n"
     ]
    }
   ],
   "source": [
    "N_runs = 1\n",
    "N_steps = 50\n",
    "max_epoch_dyn = 10\n",
    "threshold = 0.001\n",
    "\n",
    "n_qubits = 3\n",
    "depth = 10\n",
    "param_shape = (n_qubits + depth*(n_qubits+n_qubits-2),)\n",
    "\n",
    "results_dyn = np.zeros([N_runs, len(b)])\n",
    "results_stat = np.zeros([N_runs, len(b)])\n",
    "\n",
    "for i in range(N_runs):\n",
    "    lse_dyn = DeviceVarLSESolver(a, \n",
    "                b, \n",
    "                coeffs=[1.0, 0.2, 0.2], \n",
    "                method=\"hadamard\", \n",
    "                local=True, \n",
    "                lr=0.1, \n",
    "                threshold=threshold,\n",
    "                steps=N_steps,\n",
    "                epochs=max_epoch_dyn, \n",
    "                device=device) #Epochs: max circuit depth for dynamic circuit\n",
    "    \n",
    "    solution_dyn, _ = lse_dyn.solve()\n",
    "    results_dyn[i,:] = solution_dyn\n",
    "\n",
    "for i in range(N_runs):\n",
    "    lse_stat = DeviceVarLSESolver(a, \n",
    "                b, \n",
    "                coeffs=[1.0, 0.2, 0.2], \n",
    "                method=\"hadamard\", \n",
    "                ansatz=fixed_layered_ansatz,\n",
    "                weights=param_shape,\n",
    "                local=True, \n",
    "                lr=0.1, \n",
    "                threshold=threshold,\n",
    "                steps=N_steps,\n",
    "                device=device) \n",
    "    \n",
    "    solution_stat, _ = lse_stat.solve()\n",
    "    results_stat[i,:] = solution_stat"
   ]
  },
  {
   "cell_type": "code",
   "execution_count": 22,
   "metadata": {},
   "outputs": [],
   "source": [
    "A = 1.0 * np.kron(I_, np.kron(I_, I_)) + 0.2 * np.kron(X_, np.kron(Z_, I_)) + 0.2 * np.kron(X_, np.kron(I_, I_))\n",
    "classical_solution = np.linalg.solve(A, b)\n",
    "normalized_classical_solution = np.square(classical_solution / np.linalg.norm(classical_solution))\n"
   ]
  },
  {
   "cell_type": "code",
   "execution_count": 23,
   "metadata": {},
   "outputs": [
    {
     "data": {
      "image/png": "[encoded data removed]",
      "text/plain": [
       "<Figure size 1000x500 with 1 Axes>"
      ]
     },
     "metadata": {},
     "output_type": "display_data"
    }
   ],
   "source": [
    "plt.figure(figsize=(10, 5))\n",
    "\n",
    "x = np.arange(len(normalized_classical_solution)) \n",
    "width = 0.25 \n",
    "multiplier = 0\n",
    "\n",
    "plt.bar(x, normalized_classical_solution, width = width, label='Ground truth')\n",
    "plt.bar(x + width, np.mean(results_dyn, axis=0), yerr=np.std(results_dyn,axis=0)/np.sqrt(len(results_dyn)), width=width, capsize=3, label='Dynamic ansatz')\n",
    "plt.bar(x + 2*width, np.mean(results_stat, axis=0), yerr=np.std(results_stat, axis=0)/np.sqrt(len(results_stat)), width=width, capsize=3, label='Static ansatz')\n",
    "\n",
    "plt.legend()\n",
    "plt.xticks(x, ['000', '001', '010', '011', '100', '101', '110', '111'])\n",
    "plt.xlabel('Basis states')\n",
    "plt.ylabel('Value')\n",
    "plt.show()"
   ]
  },
  {
   "cell_type": "code",
   "execution_count": null,
   "metadata": {},
   "outputs": [],
   "source": []
  }
 ],
 "metadata": {
  "kernelspec": {
   "display_name": "VQLenv",
   "language": "python",
   "name": "python3"
  },
  "language_info": {
   "codemirror_mode": {
    "name": "ipython",
    "version": 3
   },
   "file_extension": ".py",
   "mimetype": "text/x-python",
   "name": "python",
   "nbconvert_exporter": "python",
   "pygments_lexer": "ipython3",
   "version": "3.12.9"
  }
 },
 "nbformat": 4,
 "nbformat_minor": 2
}
