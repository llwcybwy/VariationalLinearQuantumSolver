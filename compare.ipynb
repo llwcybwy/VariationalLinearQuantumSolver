{
 "cells": [
  {
   "cell_type": "code",
   "execution_count": 1,
   "metadata": {},
   "outputs": [
    {
     "data": {
      "text/plain": [
       "'\\nTo run this script you need the following packages:\\n- PennyLane (but the latest version does not have the QubitStateVector class (which is needed), so we redefine it above)\\n- Numpy < 2: need to install something like numpy 1.26.4\\n- Python 3.12\\n- torch 2.2.2\\n'"
      ]
     },
     "execution_count": 1,
     "metadata": {},
     "output_type": "execute_result"
    }
   ],
   "source": [
    "import numpy as np\n",
    "import matplotlib.pyplot as plt\n",
    "import pennylane as qml\n",
    "\n",
    "qml.QubitStateVector = qml.StatePrep\n",
    "\n",
    "from variational_lse_solver import VarLSESolver\n",
    "\n",
    "from device_var_lse_solver import DeviceVarLSESolver\n",
    "from non_dynamical_ansatz import fixed_layered_ansatz\n",
    "from device import Device\n",
    "from device import DeviceType\n",
    "from qiskit_aer import AerSimulator\n",
    "from conditioned_matrix import create_conditioned_random_matrix\n",
    "\n",
    "\n",
    "\"\"\"\n",
    "To run this script you need the following packages:\n",
    "- PennyLane (but the latest version does not have the QubitStateVector class (which is needed), so we redefine it above)\n",
    "- Numpy < 2: need to install something like numpy 1.26.4\n",
    "- Python 3.12\n",
    "- torch 2.2.2\n",
    "\"\"\""
   ]
  },
  {
   "cell_type": "code",
   "execution_count": 3,
   "metadata": {},
   "outputs": [],
   "source": [
    "# unitary representation of Paulis\n",
    "I_ = np.array([[1.0, 0.0], [0.0, 1.0]])\n",
    "X_ = np.array([[0.0, 1.0], [1.0, 0.0]])\n",
    "Y_ = np.array([[0.0, -1.j], [1.j, 0.0]])\n",
    "Z_ = np.array([[1.0, 0.0], [0.0, -1.0]])\n",
    "\n",
    "a = [\"III\", \"XZI\", \"XII\"]\n",
    "b = np.ones(8)/np.sqrt(8)\n",
    "\n",
    "qubits = 3\n",
    "device = Device(DeviceType.QISKIT_AER, qubits=qubits)\n"
   ]
  },
  {
   "cell_type": "markdown",
   "metadata": {},
   "source": [
    "## Comparing dynamic circuit and non-dynamical circuit\n",
    "Here we will compare the performance of the dynamical circuit and the non-dynamical circuit. We will evaluate the performance on both speed and accuracy, and the results are averaged over N runs. \n",
    "\n",
    "We will first solve the problem with the dynamical circuit, and thereafter let the fixed circuit perform the same computation with $d=max(d_{dyn})$. "
   ]
  },
  {
   "cell_type": "markdown",
   "metadata": {},
   "source": [
    "## Comparison of noisy static local, noisy dynamic local, noisy static global and noisy dynamic global"
   ]
  },
  {
   "cell_type": "code",
   "execution_count": 4,
   "metadata": {},
   "outputs": [
    {
     "name": "stdout",
     "output_type": "stream",
     "text": [
      "Epoch 1/10: 100%|██████████| 50/50 [00:03<00:00, 15.24it/s, best loss=0.00241, last improvement in step=49, loss=0.00241]\n",
      "Increasing circuit depth.\n",
      "Epoch 2/10: 100%|██████████| 50/50 [00:03<00:00, 15.60it/s, best loss=0.00163, last improvement in step=45, loss=0.00244]\n",
      "Increasing circuit depth.\n",
      "Epoch 3/10: 100%|██████████| 50/50 [00:03<00:00, 14.99it/s, best loss=0.00138, last improvement in step=46, loss=0.00169]\n",
      "Increasing circuit depth.\n",
      "Epoch 4/10:  88%|████████▊ | 44/50 [00:03<00:00, 13.19it/s, best loss=0.00131, last improvement in step=40, loss=0.00137]\n",
      "Loss of 0.0009151745 below stopping threshold.\n",
      "Returning solution.\n",
      "Epoch 1/10: 100%|██████████| 50/50 [00:01<00:00, 28.83it/s, best loss=0.00239, last improvement in step=43, loss=0.00352]\n",
      "Increasing circuit depth.\n",
      "Epoch 2/10: 100%|██████████| 50/50 [00:01<00:00, 25.99it/s, best loss=0.0129, last improvement in step=49, loss=0.0129]\n",
      "Increasing circuit depth.\n",
      "Epoch 3/10: 100%|██████████| 50/50 [00:01<00:00, 27.75it/s, best loss=0.00105, last improvement in step=49, loss=0.00105]\n",
      "Increasing circuit depth.\n",
      "Epoch 4/10:  96%|█████████▌| 48/50 [00:01<00:00, 25.07it/s, best loss=0.00151, last improvement in step=48, loss=0.00151]\n",
      "Loss of 0.0009583366 below stopping threshold.\n",
      "Returning solution.\n",
      "Epoch 1/1:  76%|███████▌  | 38/50 [00:03<00:01, 11.91it/s, best loss=0.0013, last improvement in step=38, loss=0.0013]  \n",
      "Loss of 0.0009648972 below stopping threshold.\n",
      "Returning solution.\n",
      "Epoch 1/1:  90%|█████████ | 45/50 [00:02<00:00, 19.55it/s, best loss=0.00124, last improvement in step=40, loss=0.00125]\n",
      "Loss of 0.0007510598 below stopping threshold.\n",
      "Returning solution.\n"
     ]
    }
   ],
   "source": [
    "N_runs = 1\n",
    "N_steps = 50\n",
    "max_epoch_dyn = 10\n",
    "threshold = 0.001\n",
    "\n",
    "n_qubits = 3\n",
    "depth = 10\n",
    "param_shape = (n_qubits + depth*(n_qubits+n_qubits-2),)\n",
    "\n",
    "results_dyn_local = np.zeros([N_runs, len(b)])\n",
    "results_dyn_global = np.zeros([N_runs, len(b)])\n",
    "\n",
    "results_stat_local = np.zeros([N_runs, len(b)])\n",
    "results_stat_global = np.zeros([N_runs, len(b)])\n",
    "\n",
    "for i in range(N_runs):\n",
    "    lse_dyn_local = DeviceVarLSESolver(a, \n",
    "                b, \n",
    "                coeffs=[1.0, 0.2, 0.2], \n",
    "                method=\"hadamard\", \n",
    "                local=True, \n",
    "                lr=0.1, \n",
    "                threshold=threshold,\n",
    "                steps=N_steps,\n",
    "                epochs=max_epoch_dyn, \n",
    "                device=device) \n",
    "    \n",
    "    solution_dyn_local, _ = lse_dyn_local.solve()\n",
    "    results_dyn_local[i,:] = solution_dyn_local\n",
    "\n",
    "\n",
    "    lse_dyn_global = DeviceVarLSESolver(a, \n",
    "                b, \n",
    "                coeffs=[1.0, 0.2, 0.2], \n",
    "                method=\"hadamard\", \n",
    "                local=False, \n",
    "                lr=0.1, \n",
    "                threshold=threshold,\n",
    "                steps=N_steps,\n",
    "                epochs=max_epoch_dyn, \n",
    "                device=device) \n",
    "    \n",
    "    solution_dyn_global, _ = lse_dyn_global.solve()\n",
    "    results_dyn_global[i,:] = solution_dyn_global\n",
    "\n",
    "for i in range(N_runs):\n",
    "    lse_stat_local = DeviceVarLSESolver(a, \n",
    "                b, \n",
    "                coeffs=[1.0, 0.2, 0.2], \n",
    "                method=\"hadamard\", \n",
    "                ansatz=fixed_layered_ansatz,\n",
    "                weights=param_shape,\n",
    "                local=True, \n",
    "                lr=0.1, \n",
    "                threshold=threshold,\n",
    "                steps=N_steps,\n",
    "                device=device) \n",
    "    \n",
    "    solution_stat_local, _ = lse_stat_local.solve()\n",
    "    results_stat_local[i,:] = solution_stat_local\n",
    "\n",
    "\n",
    "    lse_stat_global = DeviceVarLSESolver(a, \n",
    "                b, \n",
    "                coeffs=[1.0, 0.2, 0.2], \n",
    "                method=\"hadamard\", \n",
    "                ansatz=fixed_layered_ansatz,\n",
    "                weights=param_shape,\n",
    "                local=False, \n",
    "                lr=0.1, \n",
    "                threshold=threshold,\n",
    "                steps=N_steps,\n",
    "                device=device) \n",
    "    \n",
    "    solution_stat_global, _ = lse_stat_global.solve()\n",
    "    results_stat_global[i,:] = solution_stat_global"
   ]
  },
  {
   "cell_type": "code",
   "execution_count": 5,
   "metadata": {},
   "outputs": [],
   "source": [
    "A = 1.0 * np.kron(I_, np.kron(I_, I_)) + 0.2 * np.kron(X_, np.kron(Z_, I_)) + 0.2 * np.kron(X_, np.kron(I_, I_))\n",
    "classical_solution = np.linalg.solve(A, b)\n",
    "normalized_classical_solution = np.square(classical_solution / np.linalg.norm(classical_solution))\n"
   ]
  },
  {
   "cell_type": "code",
   "execution_count": 6,
   "metadata": {},
   "outputs": [
    {
     "data": {
      "image/png": "[encoded data removed]",
      "text/plain": [
       "<Figure size 1000x500 with 1 Axes>"
      ]
     },
     "metadata": {},
     "output_type": "display_data"
    }
   ],
   "source": [
    "plt.figure(figsize=(10, 5))\n",
    "\n",
    "x = np.arange(len(normalized_classical_solution)) \n",
    "width = 0.25 \n",
    "multiplier = 0\n",
    "\n",
    "plt.bar(x, normalized_classical_solution, width = width, label='Ground truth')\n",
    "plt.bar(x + width, np.mean(results_dyn_local, axis=0), yerr=np.std(results_dyn_local,axis=0)/np.sqrt(len(results_dyn_local)), width=width, capsize=3, label='Dynamic ansatz')\n",
    "plt.bar(x + 2*width, np.mean(results_stat_local, axis=0), yerr=np.std(results_stat_local, axis=0)/np.sqrt(len(results_stat_local)), width=width, capsize=3, label='Static ansatz')\n",
    "\n",
    "plt.legend()\n",
    "plt.xticks(x, ['000', '001', '010', '011', '100', '101', '110', '111'])\n",
    "plt.xlabel('Basis states')\n",
    "plt.ylabel('Value')\n",
    "plt.show()"
   ]
  },
  {
   "cell_type": "markdown",
   "metadata": {},
   "source": [
    "### Graph Laplacian\n"
   ]
  },
  {
   "cell_type": "code",
   "execution_count": 20,
   "metadata": {},
   "outputs": [
    {
     "data": {
      "image/png": "[encoded data removed]",
      "text/plain": [
       "<Figure size 640x480 with 1 Axes>"
      ]
     },
     "metadata": {},
     "output_type": "display_data"
    },
    {
     "name": "stdout",
     "output_type": "stream",
     "text": [
      "Adjacency matrix A:\n",
      " [[0. 0. 0. 0. 0. 0. 0. 1.]\n",
      " [0. 0. 1. 1. 0. 1. 0. 0.]\n",
      " [0. 1. 0. 0. 1. 0. 0. 1.]\n",
      " [0. 1. 0. 0. 0. 0. 0. 1.]\n",
      " [0. 0. 1. 0. 0. 0. 1. 0.]\n",
      " [0. 1. 0. 0. 0. 0. 0. 0.]\n",
      " [0. 0. 0. 0. 1. 0. 0. 0.]\n",
      " [1. 0. 1. 1. 0. 0. 0. 0.]]\n",
      "\n",
      "Degree matrix D:\n",
      " [[1. 0. 0. 0. 0. 0. 0. 0.]\n",
      " [0. 3. 0. 0. 0. 0. 0. 0.]\n",
      " [0. 0. 3. 0. 0. 0. 0. 0.]\n",
      " [0. 0. 0. 2. 0. 0. 0. 0.]\n",
      " [0. 0. 0. 0. 2. 0. 0. 0.]\n",
      " [0. 0. 0. 0. 0. 1. 0. 0.]\n",
      " [0. 0. 0. 0. 0. 0. 1. 0.]\n",
      " [0. 0. 0. 0. 0. 0. 0. 3.]]\n",
      "\n",
      "Graph Laplacian L = D - A:\n",
      " [[ 1.  0.  0.  0.  0.  0.  0. -1.]\n",
      " [ 0.  3. -1. -1.  0. -1.  0.  0.]\n",
      " [ 0. -1.  3.  0. -1.  0.  0. -1.]\n",
      " [ 0. -1.  0.  2.  0.  0.  0. -1.]\n",
      " [ 0.  0. -1.  0.  2.  0. -1.  0.]\n",
      " [ 0. -1.  0.  0.  0.  1.  0.  0.]\n",
      " [ 0.  0.  0.  0. -1.  0.  1.  0.]\n",
      " [-1.  0. -1. -1.  0.  0.  0.  3.]]\n"
     ]
    }
   ],
   "source": [
    "import networkx as nx\n",
    "\n",
    "n_nodes = 8  # for 3 qubits, we have 2^3 = 8 nodes\n",
    "edge_prob = 0.5  # Probability for edge creation\n",
    "\n",
    "# Step 1: Generate a random undirected graph (Erdős–Rényi model)\n",
    "G = nx.erdos_renyi_graph(n=n_nodes, p=edge_prob)\n",
    "\n",
    "# Step 2: Compute the adjacency matrix A\n",
    "A = nx.to_numpy_array(G)\n",
    "\n",
    "# Step 3: Compute the degree matrix D\n",
    "D = np.diag(A.sum(axis=1))\n",
    "\n",
    "# Step 4: Compute the unnormalized Laplacian L = D - A\n",
    "L = D - A\n",
    "\n",
    "# Step 5 (optional): Visualize the graph and the matrix\n",
    "nx.draw(G, with_labels=True, node_color='lightblue', edge_color='gray')\n",
    "plt.title(\"Random Undirected Graph\")\n",
    "plt.show()\n",
    "\n",
    "print(\"Adjacency matrix A:\\n\", A)\n",
    "print(\"\\nDegree matrix D:\\n\", D)\n",
    "print(\"\\nGraph Laplacian L = D - A:\\n\", L)\n",
    "\n",
    "b = np.ones(8)/np.sqrt(8)  # Initialize b as a uniform distribution over the basis states\n"
   ]
  },
  {
   "cell_type": "code",
   "execution_count": 21,
   "metadata": {},
   "outputs": [
    {
     "name": "stdout",
     "output_type": "stream",
     "text": [
      "Epoch 1/10: 100%|██████████| 50/50 [00:00<00:00, 272.08it/s, best loss=0.0881, last improvement in step=49, loss=0.0881]\n",
      "Increasing circuit depth.\n",
      "Epoch 2/10: 100%|██████████| 50/50 [00:00<00:00, 167.82it/s, best loss=0.0803, last improvement in step=49, loss=0.0803]\n",
      "Increasing circuit depth.\n",
      "Epoch 3/10: 100%|██████████| 50/50 [00:00<00:00, 122.08it/s, best loss=0.0784, last improvement in step=49, loss=0.0784]\n",
      "Increasing circuit depth.\n",
      "Epoch 4/10: 100%|██████████| 50/50 [00:00<00:00, 85.67it/s, best loss=0.0774, last improvement in step=48, loss=0.0775]\n",
      "Increasing circuit depth.\n",
      "Epoch 5/10: 100%|██████████| 50/50 [00:00<00:00, 75.52it/s, best loss=0.0773, last improvement in step=49, loss=0.0773]\n",
      "Increasing circuit depth.\n",
      "Epoch 6/10: 100%|██████████| 50/50 [00:00<00:00, 63.69it/s, best loss=0.0774, last improvement in step=42, loss=0.0774]\n",
      "Increasing circuit depth.\n",
      "Epoch 7/10: 100%|██████████| 50/50 [00:00<00:00, 54.92it/s, best loss=0.0773, last improvement in step=43, loss=0.0773]\n",
      "Increasing circuit depth.\n",
      "Epoch 8/10: 100%|██████████| 50/50 [00:01<00:00, 47.26it/s, best loss=0.0772, last improvement in step=48, loss=0.0772]\n",
      "Increasing circuit depth.\n",
      "Epoch 9/10: 100%|██████████| 50/50 [00:01<00:00, 43.67it/s, best loss=0.0772, last improvement in step=48, loss=0.0772]\n",
      "Increasing circuit depth.\n",
      "Epoch 10/10: 100%|██████████| 50/50 [00:01<00:00, 38.84it/s, best loss=0.0771, last improvement in step=48, loss=0.0771]\n"
     ]
    }
   ],
   "source": [
    "N_steps = 50\n",
    "max_epoch_dyn = 10\n",
    "threshold = 0.0001\n",
    "\n",
    "n_qubits = 3\n",
    "depth = 10\n",
    "param_shape = (n_qubits + depth*(n_qubits+n_qubits-2),)\n",
    "\n",
    "results_dyn_local = np.zeros([N_runs, len(b)])\n",
    "results_dyn_global = np.zeros([N_runs, len(b)])\n",
    "\n",
    "results_stat_local = np.zeros([N_runs, len(b)])\n",
    "results_stat_global = np.zeros([N_runs, len(b)])\n",
    "\n",
    "\n",
    "lse_dyn_local = DeviceVarLSESolver(A, \n",
    "            b, \n",
    "            #coeffs=[1.0, 0.2, 0.2], # Used for the Hadamard method\n",
    "            method=\"direct\", \n",
    "            local=True, \n",
    "            lr=0.1, \n",
    "            threshold=threshold,\n",
    "            steps=N_steps,\n",
    "            epochs=max_epoch_dyn, \n",
    "            device=device) \n",
    "\n",
    "solution_dyn_local, _ = lse_dyn_local.solve()\n",
    "results_dyn_local[i,:] = solution_dyn_local\n",
    "\n",
    "\n"
   ]
  },
  {
   "cell_type": "code",
   "execution_count": 22,
   "metadata": {},
   "outputs": [],
   "source": [
    "epsilon = 1e-3\n",
    "L_reg = L + epsilon * np.eye(n_nodes)\n",
    "classical_solution = np.linalg.solve(L_reg, b)\n",
    "normalized_classical_solution = np.square(classical_solution / np.linalg.norm(classical_solution))\n"
   ]
  },
  {
   "cell_type": "code",
   "execution_count": 23,
   "metadata": {},
   "outputs": [
    {
     "name": "stdout",
     "output_type": "stream",
     "text": [
      "\n",
      "Noisy Local Quantum:\n",
      "| 0.0059 | 0.1113 | 0.2119 | 0.0430 | 0.2227 | 0.0098 | 0.0127 | 0.3828 |\n",
      "Classical:\n",
      "| 0.1250 | 0.1250 | 0.1250 | 0.1250 | 0.1250 | 0.1250 | 0.1250 | 0.1250 |\n"
     ]
    }
   ],
   "source": [
    "# print and compare solutions\n",
    "print('\\nNoisy Local Quantum:\\n|', end='')\n",
    "for s in solution_dyn_local:\n",
    "    print(f' {s:.4f} |', end='')\n",
    "print('\\nClassical:\\n|', end='')\n",
    "for s in normalized_classical_solution:\n",
    "    print(f' {np.abs(s):.4f} |', end='')\n",
    "print()"
   ]
  },
  {
   "cell_type": "code",
   "execution_count": null,
   "metadata": {},
   "outputs": [],
   "source": []
  }
 ],
 "metadata": {
  "kernelspec": {
   "display_name": "VQLenv",
   "language": "python",
   "name": "python3"
  },
  "language_info": {
   "codemirror_mode": {
    "name": "ipython",
    "version": 3
   },
   "file_extension": ".py",
   "mimetype": "text/x-python",
   "name": "python",
   "nbconvert_exporter": "python",
   "pygments_lexer": "ipython3",
   "version": "3.12.9"
  }
 },
 "nbformat": 4,
 "nbformat_minor": 2
}
