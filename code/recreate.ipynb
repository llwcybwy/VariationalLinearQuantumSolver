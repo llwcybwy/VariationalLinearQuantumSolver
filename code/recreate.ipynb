{
 "cells": [
  {
   "cell_type": "code",
   "execution_count": 1,
   "metadata": {},
   "outputs": [
    {
     "data": {
      "text/plain": [
       "'\\nTo run this script you need the following packages:\\n- PennyLane (but the latest version does not have the QubitStateVector class (which is needed), so we redefine it above)\\n- Numpy < 2: need to install something like numpy 1.26.4\\n- Python 3.12\\n- torch 2.2.2\\n'"
      ]
     },
     "execution_count": 1,
     "metadata": {},
     "output_type": "execute_result"
    }
   ],
   "source": [
    "import numpy as np\n",
    "import matplotlib.pyplot as plt\n",
    "import pennylane as qml\n",
    "import argparse\n",
    "qml.QubitStateVector = qml.StatePrep\n",
    "\n",
    "from variational_lse_solver import VarLSESolver\n",
    "\n",
    "\n",
    "\"\"\"\n",
    "To run this script you need the following packages:\n",
    "- PennyLane (but the latest version does not have the QubitStateVector class (which is needed), so we redefine it above)\n",
    "- Numpy < 2: need to install something like numpy 1.26.4\n",
    "- Python 3.12\n",
    "- torch 2.2.2\n",
    "\"\"\"\n"
   ]
  },
  {
   "cell_type": "code",
   "execution_count": 2,
   "metadata": {},
   "outputs": [],
   "source": [
    "\n",
    "# unitary representation of Paulis\n",
    "I_ = np.array([[1.0, 0.0], [0.0, 1.0]])\n",
    "X_ = np.array([[0.0, 1.0], [1.0, 0.0]])\n",
    "Y_ = np.array([[0.0, -1.j], [1.j, 0.0]])\n",
    "Z_ = np.array([[1.0, 0.0], [0.0, -1.0]])\n",
    "\n",
    "a = [\"III\", \"XZI\", \"XII\"]\n",
    "b = np.ones(8)/np.sqrt(8)\n",
    "\n"
   ]
  },
  {
   "cell_type": "code",
   "execution_count": 3,
   "metadata": {},
   "outputs": [
    {
     "name": "stdout",
     "output_type": "stream",
     "text": [
      "Epoch 1/10: 100%|██████████| 50/50 [00:31<00:00,  1.57it/s, best loss=0.00322, last improvement in step=41, loss=0.00394]\n",
      "Increasing circuit depth.\n",
      "Epoch 2/10: 100%|██████████| 50/50 [00:32<00:00,  1.53it/s, best loss=0.00107, last improvement in step=49, loss=0.00107]\n",
      "Increasing circuit depth.\n",
      "Epoch 3/10:  86%|████████▌ | 43/50 [00:29<00:04,  1.45it/s, best loss=0.00111, last improvement in step=42, loss=0.00111]\n",
      "Loss of 0.0009224245 below stopping threshold.\n",
      "Returning solution.\n",
      "Epoch 1/10:  96%|█████████▌| 48/50 [00:12<00:00,  3.98it/s, best loss=0.00239, last improvement in step=47, loss=0.00239]\n",
      "Loss of 0.0009852933 below stopping threshold.\n",
      "Returning solution.\n",
      "Epoch 1/10: 100%|██████████| 50/50 [00:31<00:00,  1.60it/s, best loss=0.00242, last improvement in step=39, loss=0.0148] \n",
      "Increasing circuit depth.\n",
      "Epoch 2/10: 100%|██████████| 50/50 [00:35<00:00,  1.42it/s, best loss=0.00156, last improvement in step=46, loss=0.00201]\n",
      "Increasing circuit depth.\n",
      "Epoch 3/10: 100%|██████████| 50/50 [00:31<00:00,  1.57it/s, best loss=0.00162, last improvement in step=45, loss=0.00185]\n",
      "Increasing circuit depth.\n",
      "Epoch 4/10:  94%|█████████▍| 47/50 [00:31<00:01,  1.50it/s, best loss=0.00117, last improvement in step=46, loss=0.00117]\n",
      "Loss of 0.0009677043 below stopping threshold.\n",
      "Returning solution.\n",
      "Epoch 1/10: 100%|██████████| 50/50 [00:11<00:00,  4.24it/s, best loss=0.00199, last improvement in step=49, loss=0.00199]\n",
      "Increasing circuit depth.\n",
      "Epoch 2/10: 100%|██████████| 50/50 [00:12<00:00,  3.94it/s, best loss=0.00144, last improvement in step=41, loss=0.0015] \n",
      "Increasing circuit depth.\n",
      "Epoch 3/10: 100%|██████████| 50/50 [00:13<00:00,  3.66it/s, best loss=0.0061, last improvement in step=46, loss=0.00834] \n",
      "Increasing circuit depth.\n",
      "Epoch 4/10: 100%|██████████| 50/50 [00:14<00:00,  3.38it/s, best loss=0.00119, last improvement in step=49, loss=0.00119]\n",
      "Increasing circuit depth.\n",
      "Epoch 5/10: 100%|██████████| 50/50 [00:15<00:00,  3.18it/s, best loss=0.00238, last improvement in step=48, loss=0.00235]\n",
      "Increasing circuit depth.\n",
      "Epoch 6/10:  90%|█████████ | 45/50 [00:15<00:01,  2.91it/s, best loss=0.00113, last improvement in step=44, loss=0.00113]\n",
      "Loss of 0.0007739370 below stopping threshold.\n",
      "Returning solution.\n"
     ]
    }
   ],
   "source": [
    "N_runs = 2\n",
    "local_results = np.zeros([N_runs, len(b)])\n",
    "global_results = np.zeros([N_runs, len(b)])\n",
    "\n",
    "\n",
    "for i in range(N_runs):\n",
    "    lse_local = VarLSESolver(a, \n",
    "                b, \n",
    "                coeffs=[1.0, 0.2, 0.2], \n",
    "                method=\"hadamard\", \n",
    "                local=True, \n",
    "                lr=0.1, \n",
    "                steps=50,\n",
    "                threshold=0.001, \n",
    "                epochs=10) #Epochs: max circuit depth for dynamic circuit\n",
    "\n",
    "    lse_global = VarLSESolver(a, \n",
    "                b, \n",
    "                coeffs=[1.0, 0.2, 0.2], \n",
    "                method=\"hadamard\", \n",
    "                local=False, \n",
    "                lr=0.1, \n",
    "                steps=50, \n",
    "                threshold=0.001,\n",
    "                epochs=10) \n",
    "    \n",
    "    solution_local, _ = lse_local.solve()\n",
    "    solution_global, _ = lse_global.solve()\n",
    "\n",
    "    local_results[i,:] = solution_local\n",
    "    global_results[i,:] = solution_global"
   ]
  },
  {
   "cell_type": "code",
   "execution_count": 4,
   "metadata": {},
   "outputs": [
    {
     "name": "stdout",
     "output_type": "stream",
     "text": [
      "\n",
      "Quantum:\n",
      "| 0.0847 | 0.0758 | 0.1617 | 0.1645 | 0.0877 | 0.0957 | 0.1578 | 0.1721 |\n",
      "Classical:\n",
      "| 0.0845 | 0.0845 | 0.1655 | 0.1655 | 0.0845 | 0.0845 | 0.1655 | 0.1655 |\n"
     ]
    }
   ],
   "source": [
    "# compute normalized classical solution for comparison, therefore first re-compose system matrix A\n",
    "A = 1.0 * np.kron(I_, np.kron(I_, I_)) + 0.2 * np.kron(X_, np.kron(Z_, I_)) + 0.2 * np.kron(X_, np.kron(I_, I_))\n",
    "classical_solution = np.linalg.solve(A, b)\n",
    "normalized_classical_solution = np.square(classical_solution / np.linalg.norm(classical_solution))\n",
    "\n",
    "# print and compare solutions\n",
    "print('\\nQuantum:\\n|', end='')\n",
    "for s in solution_global:\n",
    "    print(f' {s:.4f} |', end='')\n",
    "print('\\nClassical:\\n|', end='')\n",
    "for s in normalized_classical_solution:\n",
    "    print(f' {s:.4f} |', end='')\n",
    "print()"
   ]
  },
  {
   "cell_type": "code",
   "execution_count": 6,
   "metadata": {},
   "outputs": [
    {
     "data": {
      "image/png": "[encoded data removed]",
      "text/plain": [
       "<Figure size 1000x500 with 1 Axes>"
      ]
     },
     "metadata": {},
     "output_type": "display_data"
    }
   ],
   "source": [
    "plt.figure(figsize=(10, 5))\n",
    "\n",
    "x = np.arange(len(normalized_classical_solution)) \n",
    "width = 0.25 \n",
    "multiplier = 0\n",
    "\n",
    "plt.bar(x, normalized_classical_solution, width = width, label='Ground truth')\n",
    "plt.bar(x + width, np.mean(global_results, axis=0), yerr=np.std(global_results,axis=0)/np.sqrt(len(local_results)), width=width, capsize=3, label='Global')\n",
    "plt.bar(x + 2*width, np.mean(local_results, axis=0), yerr=np.std(local_results, axis=0)/np.sqrt(len(local_results)), width=width, capsize=3, label='Local')\n",
    "\n",
    "plt.legend()\n",
    "plt.xticks(x+width, ['000', '001', '010', '011', '100', '101', '110', '111'])\n",
    "plt.xlabel('Basis states')\n",
    "plt.ylabel('Value')\n",
    "plt.show()"
   ]
  }
 ],
 "metadata": {
  "kernelspec": {
   "display_name": "venv",
   "language": "python",
   "name": "python3"
  },
  "language_info": {
   "codemirror_mode": {
    "name": "ipython",
    "version": 3
   },
   "file_extension": ".py",
   "mimetype": "text/x-python",
   "name": "python",
   "nbconvert_exporter": "python",
   "pygments_lexer": "ipython3",
   "version": "3.12.10"
  }
 },
 "nbformat": 4,
 "nbformat_minor": 2
}
