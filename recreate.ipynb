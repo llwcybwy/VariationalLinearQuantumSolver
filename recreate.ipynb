{
 "cells": [
  {
   "cell_type": "code",
   "execution_count": 10,
   "metadata": {},
   "outputs": [
    {
     "data": {
      "text/plain": [
       "'\\nTo run this script you need the following packages:\\n- PennyLane (but the latest version does not have the QubitStateVector class (which is needed), so we redefine it above)\\n- Numpy < 2: need to install something like numpy 1.26.4\\n- Python 3.12\\n- torch 2.2.2\\n'"
      ]
     },
     "execution_count": 10,
     "metadata": {},
     "output_type": "execute_result"
    }
   ],
   "source": [
    "import numpy as np\n",
    "import matplotlib.pyplot as plt\n",
    "import pennylane as qml\n",
    "import argparse\n",
    "qml.QubitStateVector = qml.StatePrep\n",
    "\n",
    "from variational_lse_solver import VarLSESolver\n",
    "\n",
    "\n",
    "\"\"\"\n",
    "To run this script you need the following packages:\n",
    "- PennyLane (but the latest version does not have the QubitStateVector class (which is needed), so we redefine it above)\n",
    "- Numpy < 2: need to install something like numpy 1.26.4\n",
    "- Python 3.12\n",
    "- torch 2.2.2\n",
    "\"\"\"\n"
   ]
  },
  {
   "cell_type": "markdown",
   "metadata": {},
   "source": [
    "To run this you need to change the following in var_lse_solver.py\n",
    "1. Import the noise model from the noise_model.py file in the top: from noise_model import noise_model\n",
    "2. Change the function \"qnode_evaluate_x\" with these things:\n",
    "    - Change 'default.qubit' to 'default.mixed': dev = qml.device('default.mixed', wires=self.data_qubits) \n",
    "        - Changed so we not only use pure states. \n",
    "    - Remove/comment out: @qml.qnode(dev, interface='torch')\n",
    "    - Insert the following after the circuit_evolve_x definition: \n",
    "        - circuit_evolve_x = qml.qnode(dev, interface='torch')(circuit_evolve_x)\n",
    "        - noisy_circuit_evolve_x = qml.add_noise(circuit_evolve_x, noise_model)\n",
    "        - return noisy_circuit_evolve_x\n",
    "    "
   ]
  },
  {
   "cell_type": "code",
   "execution_count": 2,
   "metadata": {},
   "outputs": [],
   "source": [
    "\n",
    "# unitary representation of Paulis\n",
    "I_ = np.array([[1.0, 0.0], [0.0, 1.0]])\n",
    "X_ = np.array([[0.0, 1.0], [1.0, 0.0]])\n",
    "Y_ = np.array([[0.0, -1.j], [1.j, 0.0]])\n",
    "Z_ = np.array([[1.0, 0.0], [0.0, -1.0]])\n",
    "\n",
    "a = [\"III\", \"XZI\", \"XII\"]\n",
    "b = np.ones(8)/np.sqrt(8)\n",
    "\n"
   ]
  },
  {
   "cell_type": "code",
   "execution_count": 3,
   "metadata": {},
   "outputs": [
    {
     "name": "stdout",
     "output_type": "stream",
     "text": [
      "Epoch 1/10: 100%|██████████| 50/50 [00:03<00:00, 15.19it/s, best loss=0.00117, last improvement in step=44, loss=0.00259]\n",
      "Increasing circuit depth.\n",
      "Epoch 2/10: 100%|██████████| 50/50 [00:03<00:00, 15.27it/s, best loss=0.00219, last improvement in step=49, loss=0.00219]\n",
      "Increasing circuit depth.\n",
      "Epoch 3/10:  84%|████████▍ | 42/50 [00:03<00:00, 13.87it/s, best loss=0.00126, last improvement in step=41, loss=0.00126]\n",
      "Loss of 0.0009427106 below stopping threshold.\n",
      "Returning solution.\n",
      "Epoch 1/10: 100%|██████████| 50/50 [00:01<00:00, 32.81it/s, best loss=0.0108, last improvement in step=49, loss=0.0108]\n",
      "Increasing circuit depth.\n",
      "Epoch 2/10: 100%|██████████| 50/50 [00:01<00:00, 29.85it/s, best loss=0.0028, last improvement in step=47, loss=0.0034]  \n",
      "Increasing circuit depth.\n",
      "Epoch 3/10:  96%|█████████▌| 48/50 [00:01<00:00, 25.79it/s, best loss=0.00132, last improvement in step=48, loss=0.00132]\n",
      "Loss of 0.0008376537 below stopping threshold.\n",
      "Returning solution.\n",
      "Epoch 1/10:  92%|█████████▏| 46/50 [00:03<00:00, 15.23it/s, best loss=0.00101, last improvement in step=46, loss=0.00101]\n",
      "Loss of 0.0007338110 below stopping threshold.\n",
      "Returning solution.\n",
      "Epoch 1/10: 100%|██████████| 50/50 [00:01<00:00, 32.30it/s, best loss=0.00357, last improvement in step=37, loss=0.00463]\n",
      "Increasing circuit depth.\n",
      "Epoch 2/10: 100%|██████████| 50/50 [00:01<00:00, 29.79it/s, best loss=0.00229, last improvement in step=45, loss=0.00225]\n",
      "Increasing circuit depth.\n",
      "Epoch 3/10:  96%|█████████▌| 48/50 [00:01<00:00, 26.07it/s, best loss=0.00142, last improvement in step=48, loss=0.00142]\n",
      "Loss of 0.0009837336 below stopping threshold.\n",
      "Returning solution.\n"
     ]
    }
   ],
   "source": [
    "N_runs = 2\n",
    "local_results = np.zeros([N_runs, len(b)])\n",
    "global_results = np.zeros([N_runs, len(b)])\n",
    "\n",
    "\n",
    "for i in range(N_runs):\n",
    "    lse_local = VarLSESolver(a, \n",
    "                b, \n",
    "                coeffs=[1.0, 0.2, 0.2], \n",
    "                method=\"hadamard\", \n",
    "                local=True, \n",
    "                lr=0.1, \n",
    "                steps=50,\n",
    "                threshold=0.001, \n",
    "                epochs=10) #Epochs: max circuit depth for dynamic circuit\n",
    "\n",
    "    lse_global = VarLSESolver(a, \n",
    "                b, \n",
    "                coeffs=[1.0, 0.2, 0.2], \n",
    "                method=\"hadamard\", \n",
    "                local=False, \n",
    "                lr=0.1, \n",
    "                steps=50, \n",
    "                threshold=0.001,\n",
    "                epochs=10) \n",
    "    \n",
    "    solution_local, _ = lse_local.solve()\n",
    "    solution_global, _ = lse_global.solve()\n",
    "\n",
    "    local_results[i,:] = solution_local\n",
    "    global_results[i,:] = solution_global"
   ]
  },
  {
   "cell_type": "code",
   "execution_count": 4,
   "metadata": {},
   "outputs": [
    {
     "name": "stdout",
     "output_type": "stream",
     "text": [
      "\n",
      "Quantum:\n",
      "| 0.0851 | 0.0798 | 0.1577 | 0.1526 | 0.0876 | 0.0905 | 0.1692 | 0.1773 |\n",
      "Classical:\n",
      "| 0.0845 | 0.0845 | 0.1655 | 0.1655 | 0.0845 | 0.0845 | 0.1655 | 0.1655 |\n"
     ]
    }
   ],
   "source": [
    "# compute normalized classical solution for comparison, therefore first re-compose system matrix A\n",
    "A = 1.0 * np.kron(I_, np.kron(I_, I_)) + 0.2 * np.kron(X_, np.kron(Z_, I_)) + 0.2 * np.kron(X_, np.kron(I_, I_))\n",
    "classical_solution = np.linalg.solve(A, b)\n",
    "normalized_classical_solution = np.square(classical_solution / np.linalg.norm(classical_solution))\n",
    "\n",
    "# print and compare solutions\n",
    "print('\\nQuantum:\\n|', end='')\n",
    "for s in solution_global:\n",
    "    print(f' {s:.4f} |', end='')\n",
    "print('\\nClassical:\\n|', end='')\n",
    "for s in normalized_classical_solution:\n",
    "    print(f' {s:.4f} |', end='')\n",
    "print()"
   ]
  },
  {
   "cell_type": "code",
   "execution_count": 5,
   "metadata": {},
   "outputs": [
    {
     "data": {
      "image/png": "[encoded data removed]",
      "text/plain": [
       "<Figure size 1000x500 with 1 Axes>"
      ]
     },
     "metadata": {},
     "output_type": "display_data"
    }
   ],
   "source": [
    "plt.figure(figsize=(10, 5))\n",
    "\n",
    "x = np.arange(len(normalized_classical_solution)) \n",
    "width = 0.25 \n",
    "multiplier = 0\n",
    "\n",
    "plt.bar(x, normalized_classical_solution, width = width, label='Ground truth')\n",
    "plt.bar(x + width, np.mean(global_results, axis=0), yerr=np.std(global_results,axis=0)/np.sqrt(len(local_results)), width=width, capsize=3, label='Global')\n",
    "plt.bar(x + 2*width, np.mean(local_results, axis=0), yerr=np.std(local_results, axis=0)/np.sqrt(len(local_results)), width=width, capsize=3, label='Local')\n",
    "\n",
    "plt.legend()\n",
    "plt.xticks(x, ['000', '001', '010', '011', '100', '101', '110', '111'])\n",
    "plt.xlabel('Basis states')\n",
    "plt.ylabel('Value')\n",
    "plt.show()"
   ]
  },
  {
   "cell_type": "code",
   "execution_count": null,
   "metadata": {},
   "outputs": [],
   "source": []
  }
 ],
 "metadata": {
  "kernelspec": {
   "display_name": "VQLenv",
   "language": "python",
   "name": "python3"
  },
  "language_info": {
   "codemirror_mode": {
    "name": "ipython",
    "version": 3
   },
   "file_extension": ".py",
   "mimetype": "text/x-python",
   "name": "python",
   "nbconvert_exporter": "python",
   "pygments_lexer": "ipython3",
   "version": "3.12.9"
  }
 },
 "nbformat": 4,
 "nbformat_minor": 2
}
