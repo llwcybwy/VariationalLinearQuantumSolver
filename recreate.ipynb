{
 "cells": [
  {
   "cell_type": "code",
   "execution_count": 1,
   "metadata": {},
   "outputs": [
    {
     "data": {
      "text/plain": [
       "'\\nTo run this script you need the following packages:\\n- PennyLane (but the latest version does not have the QubitStateVector class (which is needed), so we redefine it above)\\n- Numpy < 2: need to install something like numpy 1.26.4\\n- Python 3.12\\n- torch 2.2.2\\n'"
      ]
     },
     "execution_count": 1,
     "metadata": {},
     "output_type": "execute_result"
    }
   ],
   "source": [
    "import numpy as np\n",
    "import matplotlib.pyplot as plt\n",
    "import pennylane as qml\n",
    "import argparse\n",
    "qml.QubitStateVector = qml.StatePrep\n",
    "\n",
    "from variational_lse_solver import VarLSESolver\n",
    "\n",
    "\n",
    "\"\"\"\n",
    "To run this script you need the following packages:\n",
    "- PennyLane (but the latest version does not have the QubitStateVector class (which is needed), so we redefine it above)\n",
    "- Numpy < 2: need to install something like numpy 1.26.4\n",
    "- Python 3.12\n",
    "- torch 2.2.2\n",
    "\"\"\"\n"
   ]
  },
  {
   "cell_type": "markdown",
   "metadata": {},
   "source": [
    "To run this you need to change the following in var_lse_solver.py\n",
    "1. Import the noise model from the noise_model.py file in the top: from noise_model import noise_model\n",
    "2. Change the function \"qnode_evaluate_x\" with these things:\n",
    "    - Change `'default.qubit'` to `'default.mixed'`: `dev = qml.device('default.mixed', wires=self.data_qubits)` \n",
    "        - Changed so we not only use pure states. \n",
    "    - Remove/comment out: @qml.qnode(dev, interface='torch')\n",
    "    - Insert the following after the circuit_evolve_x definition: \n",
    "        - circuit_evolve_x = qml.qnode(dev, interface='torch')(circuit_evolve_x)\n",
    "        - noisy_circuit_evolve_x = qml.add_noise(circuit_evolve_x, noise_model)\n",
    "        - return noisy_circuit_evolve_x\n",
    "    "
   ]
  },
  {
   "cell_type": "code",
   "execution_count": 2,
   "metadata": {},
   "outputs": [],
   "source": [
    "\n",
    "# unitary representation of Paulis\n",
    "I_ = np.array([[1.0, 0.0], [0.0, 1.0]])\n",
    "X_ = np.array([[0.0, 1.0], [1.0, 0.0]])\n",
    "Y_ = np.array([[0.0, -1.j], [1.j, 0.0]])\n",
    "Z_ = np.array([[1.0, 0.0], [0.0, -1.0]])\n",
    "\n",
    "a = [\"III\", \"XZI\", \"XII\"]\n",
    "b = np.ones(8)/np.sqrt(8)\n",
    "\n"
   ]
  },
  {
   "cell_type": "code",
   "execution_count": 9,
   "metadata": {},
   "outputs": [
    {
     "name": "stdout",
     "output_type": "stream",
     "text": [
      "Epoch 1/10:   0%|          | 0/50 [00:00<?, ?it/s]"
     ]
    },
    {
     "name": "stdout",
     "output_type": "stream",
     "text": [
      "Epoch 1/10: 100%|██████████| 50/50 [00:32<00:00,  1.53it/s, best loss=0.02, last improvement in step=49, loss=0.02]    \n",
      "Increasing circuit depth.\n",
      "Epoch 2/10:  94%|█████████▍| 47/50 [00:32<00:02,  1.45it/s, best loss=0.00115, last improvement in step=46, loss=0.00115]\n",
      "Loss of 0.0009374554 below stopping threshold.\n",
      "Returning solution.\n",
      "Epoch 1/10: 100%|██████████| 50/50 [00:14<00:00,  3.48it/s, best loss=0.00118, last improvement in step=47, loss=0.00228]\n",
      "Increasing circuit depth.\n",
      "Epoch 2/10: 100%|██████████| 50/50 [00:16<00:00,  3.07it/s, best loss=0.0106, last improvement in step=41, loss=0.0221]\n",
      "Increasing circuit depth.\n",
      "Epoch 3/10: 100%|██████████| 50/50 [00:17<00:00,  2.84it/s, best loss=0.00176, last improvement in step=49, loss=0.00176]\n",
      "Increasing circuit depth.\n",
      "Epoch 4/10: 100%|██████████| 50/50 [00:15<00:00,  3.32it/s, best loss=0.00113, last improvement in step=49, loss=0.00113]\n",
      "Increasing circuit depth.\n",
      "Epoch 5/10: 100%|██████████| 50/50 [00:16<00:00,  3.06it/s, best loss=0.00127, last improvement in step=47, loss=0.00208]\n",
      "Increasing circuit depth.\n",
      "Epoch 6/10: 100%|██████████| 50/50 [00:17<00:00,  2.90it/s, best loss=0.00121, last improvement in step=48, loss=0.00213]\n",
      "Increasing circuit depth.\n",
      "Epoch 7/10: 100%|██████████| 50/50 [00:18<00:00,  2.66it/s, best loss=0.00156, last improvement in step=45, loss=0.00246]\n",
      "Increasing circuit depth.\n",
      "Epoch 8/10: 100%|██████████| 50/50 [00:19<00:00,  2.57it/s, best loss=0.00158, last improvement in step=48, loss=0.0023] \n",
      "Increasing circuit depth.\n",
      "Epoch 9/10:  98%|█████████▊| 49/50 [00:20<00:00,  2.40it/s, best loss=0.00124, last improvement in step=48, loss=0.00124]\n",
      "Loss of 0.0006574972 below stopping threshold.\n",
      "Returning solution.\n",
      "Epoch 1/10: 100%|██████████| 50/50 [00:34<00:00,  1.46it/s, best loss=0.00174, last improvement in step=44, loss=0.00234]\n",
      "Increasing circuit depth.\n",
      "Epoch 2/10: 100%|██████████| 50/50 [00:36<00:00,  1.37it/s, best loss=0.00252, last improvement in step=49, loss=0.00252]\n",
      "Increasing circuit depth.\n",
      "Epoch 3/10:  60%|██████    | 30/50 [00:23<00:15,  1.26it/s, best loss=0.00196, last improvement in step=29, loss=0.00196]\n",
      "Loss of 0.0009828741 below stopping threshold.\n",
      "Returning solution.\n",
      "Epoch 1/10: 100%|██████████| 50/50 [00:12<00:00,  3.88it/s, best loss=0.00497, last improvement in step=49, loss=0.00497]\n",
      "Increasing circuit depth.\n",
      "Epoch 2/10: 100%|██████████| 50/50 [00:13<00:00,  3.84it/s, best loss=0.0013, last improvement in step=49, loss=0.0013]  \n",
      "Increasing circuit depth.\n",
      "Epoch 3/10: 100%|██████████| 50/50 [00:14<00:00,  3.50it/s, best loss=0.00115, last improvement in step=49, loss=0.00115]\n",
      "Increasing circuit depth.\n",
      "Epoch 4/10: 100%|██████████| 50/50 [00:15<00:00,  3.20it/s, best loss=0.00236, last improvement in step=49, loss=0.00236]\n",
      "Increasing circuit depth.\n",
      "Epoch 5/10: 100%|██████████| 50/50 [00:16<00:00,  2.97it/s, best loss=0.00193, last improvement in step=47, loss=0.00801]\n",
      "Increasing circuit depth.\n",
      "Epoch 6/10: 100%|██████████| 50/50 [00:18<00:00,  2.76it/s, best loss=0.00251, last improvement in step=47, loss=0.0026] \n",
      "Increasing circuit depth.\n",
      "Epoch 7/10: 100%|██████████| 50/50 [00:18<00:00,  2.66it/s, best loss=0.0017, last improvement in step=44, loss=0.00165] \n",
      "Increasing circuit depth.\n",
      "Epoch 8/10: 100%|██████████| 50/50 [00:20<00:00,  2.39it/s, best loss=0.00143, last improvement in step=43, loss=0.00136]\n",
      "Increasing circuit depth.\n",
      "Epoch 9/10: 100%|██████████| 50/50 [00:20<00:00,  2.40it/s, best loss=0.00134, last improvement in step=48, loss=0.00137]\n",
      "Increasing circuit depth.\n",
      "Epoch 10/10: 100%|██████████| 50/50 [00:22<00:00,  2.21it/s, best loss=0.0014, last improvement in step=41, loss=0.00151] \n"
     ]
    }
   ],
   "source": [
    "N_runs = 2\n",
    "local_results = np.zeros([N_runs, len(b)])\n",
    "global_results = np.zeros([N_runs, len(b)])\n",
    "\n",
    "\n",
    "for i in range(N_runs):\n",
    "    lse_local = VarLSESolver(a, \n",
    "                b, \n",
    "                coeffs=[1.0, 0.2, 0.2], \n",
    "                method=\"hadamard\", \n",
    "                local=True, \n",
    "                lr=0.1, \n",
    "                steps=50,\n",
    "                threshold=0.001, \n",
    "                epochs=10) #Epochs: max circuit depth for dynamic circuit\n",
    "\n",
    "    lse_global = VarLSESolver(a, \n",
    "                b, \n",
    "                coeffs=[1.0, 0.2, 0.2], \n",
    "                method=\"hadamard\", \n",
    "                local=False, \n",
    "                lr=0.1, \n",
    "                steps=50, \n",
    "                threshold=0.001,\n",
    "                epochs=10) \n",
    "    \n",
    "    solution_local, _ = lse_local.solve()\n",
    "    solution_global, _ = lse_global.solve()\n",
    "\n",
    "    local_results[i,:] = solution_local\n",
    "    global_results[i,:] = solution_global"
   ]
  },
  {
   "cell_type": "code",
   "execution_count": 10,
   "metadata": {},
   "outputs": [
    {
     "name": "stdout",
     "output_type": "stream",
     "text": [
      "\n",
      "Quantum:\n",
      "| 0.0705 | 0.0803 | 0.1726 | 0.1738 | 0.0816 | 0.0788 | 0.1715 | 0.1710 |\n",
      "Classical:\n",
      "| 0.0845 | 0.0845 | 0.1655 | 0.1655 | 0.0845 | 0.0845 | 0.1655 | 0.1655 |\n"
     ]
    }
   ],
   "source": [
    "# compute normalized classical solution for comparison, therefore first re-compose system matrix A\n",
    "A = 1.0 * np.kron(I_, np.kron(I_, I_)) + 0.2 * np.kron(X_, np.kron(Z_, I_)) + 0.2 * np.kron(X_, np.kron(I_, I_))\n",
    "classical_solution = np.linalg.solve(A, b)\n",
    "normalized_classical_solution = np.square(classical_solution / np.linalg.norm(classical_solution))\n",
    "\n",
    "# print and compare solutions\n",
    "print('\\nQuantum:\\n|', end='')\n",
    "for s in solution_global:\n",
    "    print(f' {s:.4f} |', end='')\n",
    "print('\\nClassical:\\n|', end='')\n",
    "for s in normalized_classical_solution:\n",
    "    print(f' {s:.4f} |', end='')\n",
    "print()"
   ]
  },
  {
   "cell_type": "code",
   "execution_count": 11,
   "metadata": {},
   "outputs": [
    {
     "data": {
      "image/png": "[encoded data removed]",
      "text/plain": [
       "<Figure size 1000x500 with 1 Axes>"
      ]
     },
     "metadata": {},
     "output_type": "display_data"
    }
   ],
   "source": [
    "plt.figure(figsize=(10, 5))\n",
    "\n",
    "x = np.arange(len(normalized_classical_solution)) \n",
    "width = 0.25 \n",
    "multiplier = 0\n",
    "\n",
    "plt.bar(x, normalized_classical_solution, width = width, label='Ground truth')\n",
    "plt.bar(x + width, np.mean(global_results, axis=0), yerr=np.std(global_results,axis=0)/np.sqrt(len(local_results)), width=width, capsize=3, label='Global')\n",
    "plt.bar(x + 2*width, np.mean(local_results, axis=0), yerr=np.std(local_results, axis=0)/np.sqrt(len(local_results)), width=width, capsize=3, label='Local')\n",
    "\n",
    "plt.legend()\n",
    "plt.xticks(x, ['000', '001', '010', '011', '100', '101', '110', '111'])\n",
    "plt.xlabel('Basis states')\n",
    "plt.ylabel('Value')\n",
    "plt.show()"
   ]
  },
  {
   "cell_type": "markdown",
   "metadata": {},
   "source": [
    "# Noisy version"
   ]
  },
  {
   "cell_type": "code",
   "execution_count": 3,
   "metadata": {},
   "outputs": [],
   "source": [
    "from noise_model import noise_model"
   ]
  },
  {
   "cell_type": "code",
   "execution_count": 4,
   "metadata": {},
   "outputs": [
    {
     "name": "stdout",
     "output_type": "stream",
     "text": [
      "Epoch 1/10: 100%|██████████| 50/50 [00:31<00:00,  1.59it/s, best loss=0.00338, last improvement in step=49, loss=0.00338]\n",
      "Increasing circuit depth.\n",
      "Epoch 2/10: 100%|██████████| 50/50 [00:33<00:00,  1.51it/s, best loss=0.00139, last improvement in step=49, loss=0.00139]\n",
      "Increasing circuit depth.\n",
      "Epoch 3/10:  98%|█████████▊| 49/50 [00:34<00:00,  1.41it/s, best loss=0.00129, last improvement in step=48, loss=0.00129]\n",
      "Loss of 0.0008002956 below stopping threshold.\n",
      "Returning solution.\n"
     ]
    },
    {
     "ename": "TypeError",
     "evalue": "probs(wires=[]) is not a callable object",
     "output_type": "error",
     "traceback": [
      "\u001b[31m---------------------------------------------------------------------------\u001b[39m",
      "\u001b[31mTypeError\u001b[39m                                 Traceback (most recent call last)",
      "\u001b[36mCell\u001b[39m\u001b[36m \u001b[39m\u001b[32mIn[4]\u001b[39m\u001b[32m, line 32\u001b[39m\n\u001b[32m     10\u001b[39m lse_local = NoisyVarLSESolver(a,\n\u001b[32m     11\u001b[39m             b, \n\u001b[32m     12\u001b[39m             noise_model,\n\u001b[32m   (...)\u001b[39m\u001b[32m     18\u001b[39m             threshold=\u001b[32m0.001\u001b[39m, \n\u001b[32m     19\u001b[39m             epochs=\u001b[32m10\u001b[39m) \u001b[38;5;66;03m#Epochs: max circuit depth for dynamic circuit\u001b[39;00m\n\u001b[32m     21\u001b[39m lse_global = NoisyVarLSESolver(a, \n\u001b[32m     22\u001b[39m             b, \n\u001b[32m     23\u001b[39m             noise_model,\n\u001b[32m   (...)\u001b[39m\u001b[32m     29\u001b[39m             threshold=\u001b[32m0.001\u001b[39m,\n\u001b[32m     30\u001b[39m             epochs=\u001b[32m10\u001b[39m) \n\u001b[32m---> \u001b[39m\u001b[32m32\u001b[39m solution_local, _ = \u001b[43mlse_local\u001b[49m\u001b[43m.\u001b[49m\u001b[43msolve\u001b[49m\u001b[43m(\u001b[49m\u001b[43m)\u001b[49m\n\u001b[32m     33\u001b[39m solution_global, _ = lse_global.solve()\n\u001b[32m     35\u001b[39m local_results[i,:] = solution_local\n",
      "\u001b[36mFile \u001b[39m\u001b[32mc:\\Users\\jocke\\OneDrive\\Skrivbord\\Skola\\Delft_VT25\\QuantumAlgs-WI4650\\QuantumAlgorithmsAssignments\\venv\\Lib\\site-packages\\variational_lse_solver\\var_lse_solver.py:152\u001b[39m, in \u001b[36mVarLSESolver.solve\u001b[39m\u001b[34m(self)\u001b[39m\n\u001b[32m    150\u001b[39m     pbar.close()\n\u001b[32m    151\u001b[39m     \u001b[38;5;28mprint\u001b[39m(\u001b[33mf\u001b[39m\u001b[33m'\u001b[39m\u001b[33mLoss of \u001b[39m\u001b[38;5;132;01m{\u001b[39;00mloss.item()\u001b[38;5;132;01m:\u001b[39;00m\u001b[33m.10f\u001b[39m\u001b[38;5;132;01m}\u001b[39;00m\u001b[33m below stopping threshold.\u001b[39m\u001b[38;5;130;01m\\n\u001b[39;00m\u001b[33mReturning solution.\u001b[39m\u001b[33m'\u001b[39m, flush=\u001b[38;5;28;01mTrue\u001b[39;00m)\n\u001b[32m--> \u001b[39m\u001b[32m152\u001b[39m     \u001b[38;5;28;01mreturn\u001b[39;00m \u001b[38;5;28;43mself\u001b[39;49m\u001b[43m.\u001b[49m\u001b[43mevaluate\u001b[49m\u001b[43m(\u001b[49m\u001b[43mbest_weights\u001b[49m\u001b[43m)\u001b[49m, best_weights\n\u001b[32m    153\u001b[39m \u001b[38;5;66;03m# if loss has not improved in the last `abort` steps terminate this epoch and increase depth\u001b[39;00m\n\u001b[32m    154\u001b[39m \u001b[38;5;28;01mif\u001b[39;00m step - best_step >= \u001b[38;5;28mself\u001b[39m.abort:\n",
      "\u001b[36mFile \u001b[39m\u001b[32mc:\\Users\\jocke\\OneDrive\\Skrivbord\\Skola\\Delft_VT25\\QuantumAlgs-WI4650\\QuantumAlgorithmsAssignments\\VariationalQuantumLinearSolver\\VariationalLinearQuantumSolver\\noisy_var_lse_solver.py:57\u001b[39m, in \u001b[36mNoisyVarLSESolver.evaluate\u001b[39m\u001b[34m(self, weights)\u001b[39m\n\u001b[32m     50\u001b[39m \u001b[38;5;28;01mdef\u001b[39;00m\u001b[38;5;250m \u001b[39m\u001b[34mevaluate\u001b[39m(\u001b[38;5;28mself\u001b[39m, weights: np.array) -> np.array:\n\u001b[32m     51\u001b[39m \u001b[38;5;250m    \u001b[39m\u001b[33;03m\"\"\"\u001b[39;00m\n\u001b[32m     52\u001b[39m \u001b[33;03m    Return measurement probabilities for the state prepared as solution of the LSE.\u001b[39;00m\n\u001b[32m     53\u001b[39m \n\u001b[32m     54\u001b[39m \u001b[33;03m    :param weights: Weights for the VQC ansatz.\u001b[39;00m\n\u001b[32m     55\u001b[39m \u001b[33;03m    :return: Measurement probabilities for the state V(alpha)\u001b[39;00m\n\u001b[32m     56\u001b[39m \u001b[33;03m    \"\"\"\u001b[39;00m\n\u001b[32m---> \u001b[39m\u001b[32m57\u001b[39m     \u001b[38;5;28;01mreturn\u001b[39;00m \u001b[38;5;28;43mself\u001b[39;49m\u001b[43m.\u001b[49m\u001b[43mqnode_evaluate_x\u001b[49m\u001b[43m(\u001b[49m\u001b[43m)\u001b[49m\u001b[43m(\u001b[49m\u001b[43mweights\u001b[49m\u001b[43m)\u001b[49m.detach().numpy()\n",
      "\u001b[36mFile \u001b[39m\u001b[32mc:\\Users\\jocke\\OneDrive\\Skrivbord\\Skola\\Delft_VT25\\QuantumAlgs-WI4650\\QuantumAlgorithmsAssignments\\VariationalQuantumLinearSolver\\VariationalLinearQuantumSolver\\noisy_var_lse_solver.py:74\u001b[39m, in \u001b[36mNoisyVarLSESolver.qnode_evaluate_x.<locals>.circuit_evolve_x\u001b[39m\u001b[34m(weights)\u001b[39m\n\u001b[32m     68\u001b[39m \u001b[38;5;250m\u001b[39m\u001b[33;03m\"\"\"\u001b[39;00m\n\u001b[32m     69\u001b[39m \u001b[33;03mCircuit that evaluates V(alpha)\u001b[39;00m\n\u001b[32m     70\u001b[39m \n\u001b[32m     71\u001b[39m \u001b[33;03m:param weights: Parameters for the VQC.\u001b[39;00m\n\u001b[32m     72\u001b[39m \u001b[33;03m\"\"\"\u001b[39;00m\n\u001b[32m     73\u001b[39m \u001b[38;5;28mself\u001b[39m.ansatz(weights)\n\u001b[32m---> \u001b[39m\u001b[32m74\u001b[39m circuit_evolve_x = \u001b[43mqml\u001b[49m\u001b[43m.\u001b[49m\u001b[43mqnode\u001b[49m\u001b[43m(\u001b[49m\u001b[43mdev\u001b[49m\u001b[43m,\u001b[49m\u001b[43m \u001b[49m\u001b[43minterface\u001b[49m\u001b[43m=\u001b[49m\u001b[33;43m'\u001b[39;49m\u001b[33;43mtorch\u001b[39;49m\u001b[33;43m'\u001b[39;49m\u001b[43m)\u001b[49m\u001b[43m(\u001b[49m\u001b[43mqml\u001b[49m\u001b[43m.\u001b[49m\u001b[43mprobs\u001b[49m\u001b[43m(\u001b[49m\u001b[43m)\u001b[49m\u001b[43m)\u001b[49m\n\u001b[32m     75\u001b[39m noisy_circuit_evolve_x = qml.add_noise(circuit_evolve_x, \u001b[38;5;28mself\u001b[39m.noise_model)\n\u001b[32m     76\u001b[39m \u001b[38;5;28;01mreturn\u001b[39;00m noisy_circuit_evolve_x\n",
      "\u001b[36mFile \u001b[39m\u001b[32mc:\\Users\\jocke\\OneDrive\\Skrivbord\\Skola\\Delft_VT25\\QuantumAlgs-WI4650\\QuantumAlgorithmsAssignments\\venv\\Lib\\site-packages\\pennylane\\workflow\\qnode.py:589\u001b[39m, in \u001b[36mQNode.__init__\u001b[39m\u001b[34m(self, func, device, interface, diff_method, grad_on_execution, cache, cachesize, max_diff, device_vjp, postselect_mode, mcm_method, gradient_kwargs, static_argnums, autograph, **kwargs)\u001b[39m\n\u001b[32m    586\u001b[39m     gradient_kwargs |= kwargs\n\u001b[32m    587\u001b[39m _validate_gradient_kwargs(gradient_kwargs)\n\u001b[32m--> \u001b[39m\u001b[32m589\u001b[39m \u001b[38;5;28;01mif\u001b[39;00m \u001b[33m\"\u001b[39m\u001b[33mshots\u001b[39m\u001b[33m\"\u001b[39m \u001b[38;5;129;01min\u001b[39;00m \u001b[43minspect\u001b[49m\u001b[43m.\u001b[49m\u001b[43msignature\u001b[49m\u001b[43m(\u001b[49m\u001b[43mfunc\u001b[49m\u001b[43m)\u001b[49m.parameters:\n\u001b[32m    590\u001b[39m     warnings.warn(\n\u001b[32m    591\u001b[39m         \u001b[33m\"\u001b[39m\u001b[33mDetected \u001b[39m\u001b[33m'\u001b[39m\u001b[33mshots\u001b[39m\u001b[33m'\u001b[39m\u001b[33m as an argument to the given quantum function. \u001b[39m\u001b[33m\"\u001b[39m\n\u001b[32m    592\u001b[39m         \u001b[33m\"\u001b[39m\u001b[33mThe \u001b[39m\u001b[33m'\u001b[39m\u001b[33mshots\u001b[39m\u001b[33m'\u001b[39m\u001b[33m argument name is reserved for overriding the number of shots \u001b[39m\u001b[33m\"\u001b[39m\n\u001b[32m    593\u001b[39m         \u001b[33m\"\u001b[39m\u001b[33mtaken by the device. Its use outside of this context should be avoided.\u001b[39m\u001b[33m\"\u001b[39m,\n\u001b[32m    594\u001b[39m         \u001b[38;5;167;01mUserWarning\u001b[39;00m,\n\u001b[32m    595\u001b[39m     )\n\u001b[32m    596\u001b[39m     \u001b[38;5;28mself\u001b[39m._qfunc_uses_shots_arg = \u001b[38;5;28;01mTrue\u001b[39;00m\n",
      "\u001b[36mFile \u001b[39m\u001b[32mC:\\Program Files\\WindowsApps\\PythonSoftwareFoundation.Python.3.12_3.12.2800.0_x64__qbz5n2kfra8p0\\Lib\\inspect.py:3348\u001b[39m, in \u001b[36msignature\u001b[39m\u001b[34m(obj, follow_wrapped, globals, locals, eval_str)\u001b[39m\n\u001b[32m   3346\u001b[39m \u001b[38;5;28;01mdef\u001b[39;00m\u001b[38;5;250m \u001b[39m\u001b[34msignature\u001b[39m(obj, *, follow_wrapped=\u001b[38;5;28;01mTrue\u001b[39;00m, \u001b[38;5;28mglobals\u001b[39m=\u001b[38;5;28;01mNone\u001b[39;00m, \u001b[38;5;28mlocals\u001b[39m=\u001b[38;5;28;01mNone\u001b[39;00m, eval_str=\u001b[38;5;28;01mFalse\u001b[39;00m):\n\u001b[32m   3347\u001b[39m \u001b[38;5;250m    \u001b[39m\u001b[33;03m\"\"\"Get a signature object for the passed callable.\"\"\"\u001b[39;00m\n\u001b[32m-> \u001b[39m\u001b[32m3348\u001b[39m     \u001b[38;5;28;01mreturn\u001b[39;00m \u001b[43mSignature\u001b[49m\u001b[43m.\u001b[49m\u001b[43mfrom_callable\u001b[49m\u001b[43m(\u001b[49m\u001b[43mobj\u001b[49m\u001b[43m,\u001b[49m\u001b[43m \u001b[49m\u001b[43mfollow_wrapped\u001b[49m\u001b[43m=\u001b[49m\u001b[43mfollow_wrapped\u001b[49m\u001b[43m,\u001b[49m\n\u001b[32m   3349\u001b[39m \u001b[43m                                   \u001b[49m\u001b[38;5;28;43mglobals\u001b[39;49m\u001b[43m=\u001b[49m\u001b[38;5;28;43mglobals\u001b[39;49m\u001b[43m,\u001b[49m\u001b[43m \u001b[49m\u001b[38;5;28;43mlocals\u001b[39;49m\u001b[43m=\u001b[49m\u001b[38;5;28;43mlocals\u001b[39;49m\u001b[43m,\u001b[49m\u001b[43m \u001b[49m\u001b[43meval_str\u001b[49m\u001b[43m=\u001b[49m\u001b[43meval_str\u001b[49m\u001b[43m)\u001b[49m\n",
      "\u001b[36mFile \u001b[39m\u001b[32mC:\\Program Files\\WindowsApps\\PythonSoftwareFoundation.Python.3.12_3.12.2800.0_x64__qbz5n2kfra8p0\\Lib\\inspect.py:3085\u001b[39m, in \u001b[36mSignature.from_callable\u001b[39m\u001b[34m(cls, obj, follow_wrapped, globals, locals, eval_str)\u001b[39m\n\u001b[32m   3081\u001b[39m \u001b[38;5;129m@classmethod\u001b[39m\n\u001b[32m   3082\u001b[39m \u001b[38;5;28;01mdef\u001b[39;00m\u001b[38;5;250m \u001b[39m\u001b[34mfrom_callable\u001b[39m(\u001b[38;5;28mcls\u001b[39m, obj, *,\n\u001b[32m   3083\u001b[39m                   follow_wrapped=\u001b[38;5;28;01mTrue\u001b[39;00m, \u001b[38;5;28mglobals\u001b[39m=\u001b[38;5;28;01mNone\u001b[39;00m, \u001b[38;5;28mlocals\u001b[39m=\u001b[38;5;28;01mNone\u001b[39;00m, eval_str=\u001b[38;5;28;01mFalse\u001b[39;00m):\n\u001b[32m   3084\u001b[39m \u001b[38;5;250m    \u001b[39m\u001b[33;03m\"\"\"Constructs Signature for the given callable object.\"\"\"\u001b[39;00m\n\u001b[32m-> \u001b[39m\u001b[32m3085\u001b[39m     \u001b[38;5;28;01mreturn\u001b[39;00m \u001b[43m_signature_from_callable\u001b[49m\u001b[43m(\u001b[49m\u001b[43mobj\u001b[49m\u001b[43m,\u001b[49m\u001b[43m \u001b[49m\u001b[43msigcls\u001b[49m\u001b[43m=\u001b[49m\u001b[38;5;28;43mcls\u001b[39;49m\u001b[43m,\u001b[49m\n\u001b[32m   3086\u001b[39m \u001b[43m                                    \u001b[49m\u001b[43mfollow_wrapper_chains\u001b[49m\u001b[43m=\u001b[49m\u001b[43mfollow_wrapped\u001b[49m\u001b[43m,\u001b[49m\n\u001b[32m   3087\u001b[39m \u001b[43m                                    \u001b[49m\u001b[38;5;28;43mglobals\u001b[39;49m\u001b[43m=\u001b[49m\u001b[38;5;28;43mglobals\u001b[39;49m\u001b[43m,\u001b[49m\u001b[43m \u001b[49m\u001b[38;5;28;43mlocals\u001b[39;49m\u001b[43m=\u001b[49m\u001b[38;5;28;43mlocals\u001b[39;49m\u001b[43m,\u001b[49m\u001b[43m \u001b[49m\u001b[43meval_str\u001b[49m\u001b[43m=\u001b[49m\u001b[43meval_str\u001b[49m\u001b[43m)\u001b[49m\n",
      "\u001b[36mFile \u001b[39m\u001b[32mC:\\Program Files\\WindowsApps\\PythonSoftwareFoundation.Python.3.12_3.12.2800.0_x64__qbz5n2kfra8p0\\Lib\\inspect.py:2522\u001b[39m, in \u001b[36m_signature_from_callable\u001b[39m\u001b[34m(obj, follow_wrapper_chains, skip_bound_arg, globals, locals, eval_str, sigcls)\u001b[39m\n\u001b[32m   2513\u001b[39m _get_signature_of = functools.partial(_signature_from_callable,\n\u001b[32m   2514\u001b[39m                             follow_wrapper_chains=follow_wrapper_chains,\n\u001b[32m   2515\u001b[39m                             skip_bound_arg=skip_bound_arg,\n\u001b[32m   (...)\u001b[39m\u001b[32m   2518\u001b[39m                             sigcls=sigcls,\n\u001b[32m   2519\u001b[39m                             eval_str=eval_str)\n\u001b[32m   2521\u001b[39m \u001b[38;5;28;01mif\u001b[39;00m \u001b[38;5;129;01mnot\u001b[39;00m \u001b[38;5;28mcallable\u001b[39m(obj):\n\u001b[32m-> \u001b[39m\u001b[32m2522\u001b[39m     \u001b[38;5;28;01mraise\u001b[39;00m \u001b[38;5;167;01mTypeError\u001b[39;00m(\u001b[33m'\u001b[39m\u001b[38;5;132;01m{!r}\u001b[39;00m\u001b[33m is not a callable object\u001b[39m\u001b[33m'\u001b[39m.format(obj))\n\u001b[32m   2524\u001b[39m \u001b[38;5;28;01mif\u001b[39;00m \u001b[38;5;28misinstance\u001b[39m(obj, types.MethodType):\n\u001b[32m   2525\u001b[39m     \u001b[38;5;66;03m# In this case we skip the first parameter of the underlying\u001b[39;00m\n\u001b[32m   2526\u001b[39m     \u001b[38;5;66;03m# function (usually `self` or `cls`).\u001b[39;00m\n\u001b[32m   2527\u001b[39m     sig = _get_signature_of(obj.\u001b[34m__func__\u001b[39m)\n",
      "\u001b[31mTypeError\u001b[39m: probs(wires=[]) is not a callable object"
     ]
    }
   ],
   "source": [
    "import noisy_var_lse_solver\n",
    "from noisy_var_lse_solver import NoisyVarLSESolver\n",
    "\n",
    "N_runs = 2\n",
    "local_results = np.zeros([N_runs, len(b)])\n",
    "global_results = np.zeros([N_runs, len(b)])\n",
    "\n",
    "\n",
    "for i in range(N_runs):\n",
    "    lse_local = NoisyVarLSESolver(a,\n",
    "                b, \n",
    "                noise_model,\n",
    "                coeffs=[1.0, 0.2, 0.2], \n",
    "                method=\"hadamard\", \n",
    "                local=True, \n",
    "                lr=0.1, \n",
    "                steps=50,\n",
    "                threshold=0.001, \n",
    "                epochs=10) #Epochs: max circuit depth for dynamic circuit\n",
    "\n",
    "    lse_global = NoisyVarLSESolver(a, \n",
    "                b, \n",
    "                noise_model,\n",
    "                coeffs=[1.0, 0.2, 0.2], \n",
    "                method=\"hadamard\", \n",
    "                local=False, \n",
    "                lr=0.1, \n",
    "                steps=50, \n",
    "                threshold=0.001,\n",
    "                epochs=10) \n",
    "    \n",
    "    solution_local, _ = lse_local.solve()\n",
    "    solution_global, _ = lse_global.solve()\n",
    "\n",
    "    local_results[i,:] = solution_local\n",
    "    global_results[i,:] = solution_global"
   ]
  },
  {
   "cell_type": "code",
   "execution_count": null,
   "metadata": {},
   "outputs": [],
   "source": [
    "# compute normalized classical solution for comparison, therefore first re-compose system matrix A\n",
    "A = 1.0 * np.kron(I_, np.kron(I_, I_)) + 0.2 * np.kron(X_, np.kron(Z_, I_)) + 0.2 * np.kron(X_, np.kron(I_, I_))\n",
    "classical_solution = np.linalg.solve(A, b)\n",
    "normalized_classical_solution = np.square(classical_solution / np.linalg.norm(classical_solution))\n",
    "\n",
    "# print and compare solutions\n",
    "print('\\nNoisy Quantum:\\n|', end='')\n",
    "for s in solution_global:\n",
    "    print(f' {s:.4f} |', end='')\n",
    "print('\\nClassical:\\n|', end='')\n",
    "for s in normalized_classical_solution:\n",
    "    print(f' {s:.4f} |', end='')\n",
    "print()"
   ]
  },
  {
   "cell_type": "code",
   "execution_count": null,
   "metadata": {},
   "outputs": [],
   "source": [
    "plt.figure(figsize=(10, 5))\n",
    "\n",
    "x = np.arange(len(normalized_classical_solution)) \n",
    "width = 0.25 \n",
    "multiplier = 0\n",
    "\n",
    "plt.bar(x, normalized_classical_solution, width = width, label='Ground truth')\n",
    "plt.bar(x + width, np.mean(global_results, axis=0), yerr=np.std(global_results,axis=0)/np.sqrt(len(local_results)), width=width, capsize=3, label='Global')\n",
    "plt.bar(x + 2*width, np.mean(local_results, axis=0), yerr=np.std(local_results, axis=0)/np.sqrt(len(local_results)), width=width, capsize=3, label='Local')\n",
    "\n",
    "plt.legend()\n",
    "plt.xticks(x, ['000', '001', '010', '011', '100', '101', '110', '111'])\n",
    "plt.xlabel('Basis states')\n",
    "plt.ylabel('Value')\n",
    "plt.show()"
   ]
  }
 ],
 "metadata": {
  "kernelspec": {
   "display_name": "venv",
   "language": "python",
   "name": "python3"
  },
  "language_info": {
   "codemirror_mode": {
    "name": "ipython",
    "version": 3
   },
   "file_extension": ".py",
   "mimetype": "text/x-python",
   "name": "python",
   "nbconvert_exporter": "python",
   "pygments_lexer": "ipython3",
   "version": "3.12.10"
  }
 },
 "nbformat": 4,
 "nbformat_minor": 2
}
