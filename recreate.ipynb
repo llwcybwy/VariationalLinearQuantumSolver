{
 "cells": [
  {
   "cell_type": "code",
   "execution_count": null,
   "metadata": {},
   "outputs": [
    {
     "data": {
      "text/plain": [
       "''"
      ]
     },
     "execution_count": 8,
     "metadata": {},
     "output_type": "execute_result"
    }
   ],
   "source": [
    "import numpy as np\n",
    "import pennylane as qml\n",
    "import argparse\n",
    "qml.QubitStateVector = qml.StatePrep\n",
    "\n",
    "from variational_lse_solver import VarLSESolver\n",
    "\n",
    "\n",
    "\"\"\"\n",
    "To run this script you need the following packages:\n",
    "- PennyLane (but the latest version does not have the QubitStateVector class (which is needed), so we redefine it above)\n",
    "- Numpy < 2: need to install something like numpy 1.26.4\n",
    "- Python 3.12\n",
    "- torch 2.2.2\n",
    "\"\"\"\n"
   ]
  },
  {
   "cell_type": "code",
   "execution_count": 12,
   "metadata": {},
   "outputs": [],
   "source": [
    "\n",
    "# unitary representation of Paulis\n",
    "I_ = np.array([[1.0, 0.0], [0.0, 1.0]])\n",
    "X_ = np.array([[0.0, 1.0], [1.0, 0.0]])\n",
    "Y_ = np.array([[0.0, -1.j], [1.j, 0.0]])\n",
    "Z_ = np.array([[1.0, 0.0], [0.0, -1.0]])\n",
    "\n",
    "a = [\"III\", \"XZI\", \"XII\"]\n",
    "b = np.ones(8)/np.sqrt(8)\n",
    "\n"
   ]
  },
  {
   "cell_type": "code",
   "execution_count": 13,
   "metadata": {},
   "outputs": [
    {
     "name": "stdout",
     "output_type": "stream",
     "text": [
      "Epoch 1/1: 100%|██████████| 50/50 [00:01<00:00, 31.84it/s, best loss=0.592, last improvement in step=49, loss=0.592]\n"
     ]
    }
   ],
   "source": [
    "lse = VarLSESolver(a, \n",
    "                   b, \n",
    "                   coeffs=[1.0, 0.2, 0.2], \n",
    "                   method=\"hadamard\", \n",
    "                   local=False, \n",
    "                   lr=0.01, steps=50) \n",
    "\n",
    "\n",
    "solution, _ = lse.solve()"
   ]
  },
  {
   "cell_type": "code",
   "execution_count": 14,
   "metadata": {},
   "outputs": [
    {
     "name": "stdout",
     "output_type": "stream",
     "text": [
      "\n",
      "Quantum:\n",
      "| 0.4490 | 0.3324 | 0.1218 | 0.0901 | 0.0030 | 0.0023 | 0.0008 | 0.0006 |\n",
      "Classical:\n",
      "| 0.0845 | 0.0845 | 0.1655 | 0.1655 | 0.0845 | 0.0845 | 0.1655 | 0.1655 |\n"
     ]
    }
   ],
   "source": [
    "# compute normalized classical solution for comparison, therefore first re-compose system matrix A\n",
    "A = 1.0 * np.kron(I_, np.kron(I_, I_)) + 0.2 * np.kron(X_, np.kron(Z_, I_)) + 0.2 * np.kron(X_, np.kron(I_, I_))\n",
    "classical_solution = np.linalg.solve(A, b)\n",
    "normalized_classical_solution = np.square(classical_solution / np.linalg.norm(classical_solution))\n",
    "\n",
    "# print and compare solutions\n",
    "print('\\nQuantum:\\n|', end='')\n",
    "for s in solution:\n",
    "    print(f' {s:.4f} |', end='')\n",
    "print('\\nClassical:\\n|', end='')\n",
    "for s in normalized_classical_solution:\n",
    "    print(f' {s:.4f} |', end='')\n",
    "print()"
   ]
  },
  {
   "cell_type": "code",
   "execution_count": null,
   "metadata": {},
   "outputs": [],
   "source": []
  }
 ],
 "metadata": {
  "kernelspec": {
   "display_name": "VQLenv",
   "language": "python",
   "name": "python3"
  },
  "language_info": {
   "codemirror_mode": {
    "name": "ipython",
    "version": 3
   },
   "file_extension": ".py",
   "mimetype": "text/x-python",
   "name": "python",
   "nbconvert_exporter": "python",
   "pygments_lexer": "ipython3",
   "version": "3.12.9"
  }
 },
 "nbformat": 4,
 "nbformat_minor": 2
}
