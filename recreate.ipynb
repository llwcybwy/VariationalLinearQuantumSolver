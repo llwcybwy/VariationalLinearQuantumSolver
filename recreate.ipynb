{
 "cells": [
  {
   "cell_type": "code",
   "execution_count": 29,
   "metadata": {},
   "outputs": [
    {
     "name": "stderr",
     "output_type": "stream",
     "text": [
      "Matplotlib is building the font cache; this may take a moment.\n"
     ]
    },
    {
     "data": {
      "text/plain": [
       "'\\nTo run this script you need the following packages:\\n- PennyLane (but the latest version does not have the QubitStateVector class (which is needed), so we redefine it above)\\n- Numpy < 2: need to install something like numpy 1.26.4\\n- Python 3.12\\n- torch 2.2.2\\n'"
      ]
     },
     "execution_count": 29,
     "metadata": {},
     "output_type": "execute_result"
    }
   ],
   "source": [
    "import numpy as np\n",
    "import matplotlib.pyplot as plt\n",
    "import pennylane as qml\n",
    "import argparse\n",
    "qml.QubitStateVector = qml.StatePrep\n",
    "\n",
    "from variational_lse_solver import VarLSESolver\n",
    "\n",
    "\n",
    "\"\"\"\n",
    "To run this script you need the following packages:\n",
    "- PennyLane (but the latest version does not have the QubitStateVector class (which is needed), so we redefine it above)\n",
    "- Numpy < 2: need to install something like numpy 1.26.4\n",
    "- Python 3.12\n",
    "- torch 2.2.2\n",
    "\"\"\"\n"
   ]
  },
  {
   "cell_type": "code",
   "execution_count": 15,
   "metadata": {},
   "outputs": [],
   "source": [
    "\n",
    "# unitary representation of Paulis\n",
    "I_ = np.array([[1.0, 0.0], [0.0, 1.0]])\n",
    "X_ = np.array([[0.0, 1.0], [1.0, 0.0]])\n",
    "Y_ = np.array([[0.0, -1.j], [1.j, 0.0]])\n",
    "Z_ = np.array([[1.0, 0.0], [0.0, -1.0]])\n",
    "\n",
    "a = [\"III\", \"XZI\", \"XII\"]\n",
    "b = np.ones(8)/np.sqrt(8)\n",
    "\n"
   ]
  },
  {
   "cell_type": "code",
   "execution_count": 41,
   "metadata": {},
   "outputs": [
    {
     "name": "stdout",
     "output_type": "stream",
     "text": [
      "Epoch 1/1: 100%|██████████| 50/50 [00:03<00:00, 15.17it/s, best loss=0.000416, last improvement in step=49, loss=0.000416]\n",
      "Epoch 1/1: 100%|██████████| 50/50 [00:01<00:00, 32.09it/s, best loss=0.00203, last improvement in step=40, loss=0.00566]\n",
      "Epoch 1/1: 100%|██████████| 50/50 [00:03<00:00, 15.17it/s, best loss=0.000889, last improvement in step=29, loss=0.000955]\n",
      "Epoch 1/1: 100%|██████████| 50/50 [00:01<00:00, 32.89it/s, best loss=0.00324, last improvement in step=46, loss=0.00428]\n",
      "Epoch 1/1: 100%|██████████| 50/50 [00:03<00:00, 15.61it/s, best loss=0.000784, last improvement in step=48, loss=0.000854]\n",
      "Epoch 1/1: 100%|██████████| 50/50 [00:01<00:00, 32.68it/s, best loss=0.00882, last improvement in step=46, loss=0.0113] \n",
      "Epoch 1/1: 100%|██████████| 50/50 [00:03<00:00, 15.59it/s, best loss=0.000878, last improvement in step=48, loss=0.000889]\n",
      "Epoch 1/1: 100%|██████████| 50/50 [00:01<00:00, 32.18it/s, best loss=0.0065, last improvement in step=45, loss=0.0079]  \n",
      "Epoch 1/1: 100%|██████████| 50/50 [00:03<00:00, 15.74it/s, best loss=0.00413, last improvement in step=49, loss=0.00413]\n",
      "Epoch 1/1: 100%|██████████| 50/50 [00:01<00:00, 32.62it/s, best loss=0.00549, last improvement in step=46, loss=0.0076] \n",
      "Epoch 1/1: 100%|██████████| 50/50 [00:03<00:00, 15.62it/s, best loss=0.00195, last improvement in step=42, loss=0.00795]\n",
      "Epoch 1/1: 100%|██████████| 50/50 [00:01<00:00, 32.80it/s, best loss=0.00297, last improvement in step=44, loss=0.00438]\n",
      "Epoch 1/1: 100%|██████████| 50/50 [00:03<00:00, 15.62it/s, best loss=0.00126, last improvement in step=49, loss=0.00126]\n",
      "Epoch 1/1: 100%|██████████| 50/50 [00:01<00:00, 32.60it/s, best loss=0.00549, last improvement in step=49, loss=0.00549]\n",
      "Epoch 1/1: 100%|██████████| 50/50 [00:03<00:00, 15.75it/s, best loss=0.00157, last improvement in step=49, loss=0.00157]\n",
      "Epoch 1/1: 100%|██████████| 50/50 [00:01<00:00, 32.24it/s, best loss=0.00226, last improvement in step=45, loss=0.0035] \n",
      "Epoch 1/1: 100%|██████████| 50/50 [00:03<00:00, 15.17it/s, best loss=0.000316, last improvement in step=41, loss=0.00104] \n",
      "Epoch 1/1: 100%|██████████| 50/50 [00:01<00:00, 32.17it/s, best loss=0.00419, last improvement in step=46, loss=0.00551]\n",
      "Epoch 1/1: 100%|██████████| 50/50 [00:03<00:00, 15.25it/s, best loss=0.0085, last improvement in step=49, loss=0.0085]\n",
      "Epoch 1/1: 100%|██████████| 50/50 [00:01<00:00, 30.50it/s, best loss=0.00866, last improvement in step=39, loss=0.0334] \n"
     ]
    }
   ],
   "source": [
    "N_runs = 10\n",
    "local_results = np.zeros([len(b), N_runs])\n",
    "global_results = np.zeros([len(b), N_runs])\n",
    "\n",
    "for i in range(N_runs):\n",
    "    lse_local = VarLSESolver(a, \n",
    "                b, \n",
    "                coeffs=[1.0, 0.2, 0.2], \n",
    "                method=\"hadamard\", \n",
    "                local=True, \n",
    "                lr=0.1, \n",
    "                steps=50) \n",
    "\n",
    "    lse_global = VarLSESolver(a, \n",
    "                b, \n",
    "                coeffs=[1.0, 0.2, 0.2], \n",
    "                method=\"hadamard\", \n",
    "                local=False, \n",
    "                lr=0.1, \n",
    "                steps=50) \n",
    "    \n",
    "    solution_local, _ = lse_local.solve()\n",
    "    solution_global, _ = lse_global.solve()\n",
    "\n",
    "    local_results[:, i] = solution_local\n",
    "    global_results[:, i] = solution_global"
   ]
  },
  {
   "cell_type": "code",
   "execution_count": 42,
   "metadata": {},
   "outputs": [
    {
     "name": "stdout",
     "output_type": "stream",
     "text": [
      "\n",
      "Quantum:\n",
      "| 0.0529 | 0.0526 | 0.1971 | 0.1959 | 0.0532 | 0.0529 | 0.1983 | 0.1970 |\n",
      "Classical:\n",
      "| 0.0845 | 0.0845 | 0.1655 | 0.1655 | 0.0845 | 0.0845 | 0.1655 | 0.1655 |\n"
     ]
    }
   ],
   "source": [
    "# compute normalized classical solution for comparison, therefore first re-compose system matrix A\n",
    "A = 1.0 * np.kron(I_, np.kron(I_, I_)) + 0.2 * np.kron(X_, np.kron(Z_, I_)) + 0.2 * np.kron(X_, np.kron(I_, I_))\n",
    "classical_solution = np.linalg.solve(A, b)\n",
    "normalized_classical_solution = np.square(classical_solution / np.linalg.norm(classical_solution))\n",
    "\n",
    "# print and compare solutions\n",
    "print('\\nQuantum:\\n|', end='')\n",
    "for s in solution_global:\n",
    "    print(f' {s:.4f} |', end='')\n",
    "print('\\nClassical:\\n|', end='')\n",
    "for s in normalized_classical_solution:\n",
    "    print(f' {s:.4f} |', end='')\n",
    "print()"
   ]
  },
  {
   "cell_type": "code",
   "execution_count": 49,
   "metadata": {},
   "outputs": [
    {
     "data": {
      "image/png": "[encoded data removed]",
      "text/plain": [
       "<Figure size 1000x500 with 1 Axes>"
      ]
     },
     "metadata": {},
     "output_type": "display_data"
    }
   ],
   "source": [
    "plt.figure(figsize=(10, 5))\n",
    "\n",
    "x = np.arange(len(normalized_classical_solution)) \n",
    "width = 0.25 \n",
    "multiplier = 0\n",
    "\n",
    "plt.bar(x, normalized_classical_solution, width = width, label='Ground truth')\n",
    "plt.bar(x + width, np.mean(global_results, axis=1), yerr=np.std(global_results,axis=1)/np.sqrt(len(local_results)), width=width, capsize=3, label='Global')\n",
    "plt.bar(x + 2*width, np.mean(local_results, axis=1), yerr=np.std(local_results, axis=1)/np.sqrt(len(local_results)), width=width, capsize=3, label='Local')\n",
    "\n",
    "plt.legend()\n",
    "plt.xticks(x, ['000', '001', '010', '011', '100', '101', '110', '111'])\n",
    "plt.xlabel('Basis states')\n",
    "plt.ylabel('Value')\n",
    "plt.show()"
   ]
  },
  {
   "cell_type": "code",
   "execution_count": null,
   "metadata": {},
   "outputs": [],
   "source": []
  }
 ],
 "metadata": {
  "kernelspec": {
   "display_name": "VQLenv",
   "language": "python",
   "name": "python3"
  },
  "language_info": {
   "codemirror_mode": {
    "name": "ipython",
    "version": 3
   },
   "file_extension": ".py",
   "mimetype": "text/x-python",
   "name": "python",
   "nbconvert_exporter": "python",
   "pygments_lexer": "ipython3",
   "version": "3.12.9"
  }
 },
 "nbformat": 4,
 "nbformat_minor": 2
}
